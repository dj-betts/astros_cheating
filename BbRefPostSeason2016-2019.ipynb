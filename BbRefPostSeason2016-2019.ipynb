{
 "cells": [
  {
   "cell_type": "code",
   "execution_count": 1,
   "metadata": {},
   "outputs": [],
   "source": [
    "from pymongo import MongoClient\n",
    "import pprint\n",
    "\n",
    "from selenium import webdriver\n",
    "from time import sleep\n",
    "\n",
    "import pandas as pd\n",
    "import matplotlib.pyplot as plt\n",
    "import numpy as np\n",
    "plt.style.use('fivethirtyeight')\n",
    "\n",
    "# Requests sends and recieves HTTP requests.\n",
    "import requests\n",
    "\n",
    "# Beautiful Soup parses HTML documents in python.\n",
    "from bs4 import BeautifulSoup\n",
    "\n",
    "import json\n",
    "import time\n",
    "import copy\n",
    "import pprint"
   ]
  },
  {
   "cell_type": "code",
   "execution_count": null,
   "metadata": {},
   "outputs": [],
   "source": []
  },
  {
   "cell_type": "code",
   "execution_count": null,
   "metadata": {},
   "outputs": [],
   "source": []
  },
  {
   "cell_type": "code",
   "execution_count": 2,
   "metadata": {},
   "outputs": [],
   "source": [
    "def gamelogurl_to_pddf(url):  \n",
    "    r = requests.get(url)\n",
    "    r.status_code\n",
    "    soup = BeautifulSoup(r.text, 'html.parser')\n",
    "    tables = soup.find_all('table')\n",
    "    indices = tables[0].find_all('th')\n",
    "    rows = tables[0].find_all('tr')\n",
    "    indices, rows\n",
    "    columns = {}\n",
    "    for index in indices:\n",
    "        columns[index.text] = None\n",
    "    d = {}\n",
    "    for row in rows:\n",
    "        d[row.text] = None\n",
    "    all_data = []\n",
    "    keys = list(columns.keys())\n",
    "    for i,row in enumerate(rows):\n",
    "        if i > 0:\n",
    "            new_row = copy.copy(columns)\n",
    "            entries = row.find_all('td')\n",
    "            for j,entry in enumerate(entries):\n",
    "                new_row[keys[j]]= entry.text\n",
    "            all_data.append(new_row)\n",
    "    return pd.DataFrame.from_records(all_data)"
   ]
  },
  {
   "cell_type": "code",
   "execution_count": 68,
   "metadata": {},
   "outputs": [
    {
     "ename": "IndexError",
     "evalue": "list index out of range",
     "output_type": "error",
     "traceback": [
      "\u001b[0;31m---------------------------------------------------------------------------\u001b[0m",
      "\u001b[0;31mIndexError\u001b[0m                                Traceback (most recent call last)",
      "\u001b[0;32m<ipython-input-68-494a6ad4a144>\u001b[0m in \u001b[0;36m<module>\u001b[0;34m\u001b[0m\n\u001b[0;32m----> 1\u001b[0;31m \u001b[0mgamelogurl_to_pddf\u001b[0m\u001b[0;34m(\u001b[0m\u001b[0;34m'https://www.baseball-reference.com/boxes/LAN/LAN201710240.shtml'\u001b[0m\u001b[0;34m)\u001b[0m\u001b[0;34m\u001b[0m\u001b[0;34m\u001b[0m\u001b[0m\n\u001b[0m",
      "\u001b[0;32m<ipython-input-2-4785260486da>\u001b[0m in \u001b[0;36mgamelogurl_to_pddf\u001b[0;34m(url)\u001b[0m\n\u001b[1;32m     20\u001b[0m             \u001b[0mentries\u001b[0m \u001b[0;34m=\u001b[0m \u001b[0mrow\u001b[0m\u001b[0;34m.\u001b[0m\u001b[0mfind_all\u001b[0m\u001b[0;34m(\u001b[0m\u001b[0;34m'td'\u001b[0m\u001b[0;34m)\u001b[0m\u001b[0;34m\u001b[0m\u001b[0;34m\u001b[0m\u001b[0m\n\u001b[1;32m     21\u001b[0m             \u001b[0;32mfor\u001b[0m \u001b[0mj\u001b[0m\u001b[0;34m,\u001b[0m\u001b[0mentry\u001b[0m \u001b[0;32min\u001b[0m \u001b[0menumerate\u001b[0m\u001b[0;34m(\u001b[0m\u001b[0mentries\u001b[0m\u001b[0;34m)\u001b[0m\u001b[0;34m:\u001b[0m\u001b[0;34m\u001b[0m\u001b[0;34m\u001b[0m\u001b[0m\n\u001b[0;32m---> 22\u001b[0;31m                 \u001b[0mnew_row\u001b[0m\u001b[0;34m[\u001b[0m\u001b[0mkeys\u001b[0m\u001b[0;34m[\u001b[0m\u001b[0mj\u001b[0m\u001b[0;34m]\u001b[0m\u001b[0;34m]\u001b[0m\u001b[0;34m=\u001b[0m \u001b[0mentry\u001b[0m\u001b[0;34m.\u001b[0m\u001b[0mtext\u001b[0m\u001b[0;34m\u001b[0m\u001b[0;34m\u001b[0m\u001b[0m\n\u001b[0m\u001b[1;32m     23\u001b[0m             \u001b[0mall_data\u001b[0m\u001b[0;34m.\u001b[0m\u001b[0mappend\u001b[0m\u001b[0;34m(\u001b[0m\u001b[0mnew_row\u001b[0m\u001b[0;34m)\u001b[0m\u001b[0;34m\u001b[0m\u001b[0;34m\u001b[0m\u001b[0m\n\u001b[1;32m     24\u001b[0m     \u001b[0;32mreturn\u001b[0m \u001b[0mpd\u001b[0m\u001b[0;34m.\u001b[0m\u001b[0mDataFrame\u001b[0m\u001b[0;34m.\u001b[0m\u001b[0mfrom_records\u001b[0m\u001b[0;34m(\u001b[0m\u001b[0mall_data\u001b[0m\u001b[0;34m)\u001b[0m\u001b[0;34m\u001b[0m\u001b[0;34m\u001b[0m\u001b[0m\n",
      "\u001b[0;31mIndexError\u001b[0m: list index out of range"
     ]
    }
   ],
   "source": [
    "gamelogurl_to_pddf('https://www.baseball-reference.com/boxes/LAN/LAN201710240.shtml')"
   ]
  },
  {
   "cell_type": "code",
   "execution_count": 138,
   "metadata": {},
   "outputs": [],
   "source": [
    "r = requests.get('https://www.baseball-reference.com/boxes/LAN/LAN201710240.shtml')\n",
    "r.status_code\n",
    "soup = BeautifulSoup(r.text, 'html.parser')\n",
    "div = soup.find_all('div', id_='all_LosAngelesDodgersbatting')\n",
    "indices = div[0].find_all('td')\n",
    "# rows = div[1].find_all('tr')\n",
    "# indices, rows\n",
    "# columns = {}\n",
    "# for index in indices:\n",
    "#     columns[index.text] = None\n",
    "# d = {}\n",
    "# for row in rows:\n",
    "#     d[row.text] = None\n",
    "# all_data = []\n",
    "# keys = list(columns.keys())\n",
    "# for i,row in enumerate(rows):\n",
    "#     if i > 0:\n",
    "#         new_row = copy.copy(columns)\n",
    "#         entries = row.find_all('td')\n",
    "#         for j,entry in enumerate(entries):\n",
    "#             new_row[keys[j]]= entry.text\n",
    "#         all_data.append(new_row)\n"
   ]
  },
  {
   "cell_type": "code",
   "execution_count": 139,
   "metadata": {},
   "outputs": [],
   "source": [
    "div"
   ]
  },
  {
   "cell_type": "code",
   "execution_count": 134,
   "metadata": {},
   "outputs": [
    {
     "data": {
      "text/plain": [
       "[]"
      ]
     },
     "execution_count": 134,
     "metadata": {},
     "output_type": "execute_result"
    }
   ],
   "source": [
    "indices"
   ]
  },
  {
   "cell_type": "code",
   "execution_count": 124,
   "metadata": {},
   "outputs": [],
   "source": [
    "s"
   ]
  },
  {
   "cell_type": "code",
   "execution_count": 118,
   "metadata": {},
   "outputs": [
    {
     "data": {
      "text/plain": [
       "<div class=\"table_wrapper setup_commented commented\" id=\"all_LosAngelesDodgersbatting\">\n",
       "<div class=\"section_heading\">\n",
       "<span class=\"section_anchor\" data-label=\"Los Angeles Dodgers Batting\" id=\"LosAngelesDodgersbatting_link\"></span><h2>Los Angeles Dodgers</h2> <div class=\"section_heading_text\">\n",
       "<ul>\n",
       "</ul>\n",
       "</div>\n",
       "</div>\n",
       "<div class=\"placeholder\"></div>\n",
       "<!--\n",
       "   <div class=\"table_outer_container\">\n",
       "      <div class=\"overthrow table_container\" id=\"div_LosAngelesDodgersbatting\">\n",
       "\t  \n",
       "  <table class=\"sortable stats_table min_width shade_zero\" id=\"LosAngelesDodgersbatting\" data-cols-to-freeze=\"1\"><caption>Los Angeles Dodgers Table</caption>\n",
       "   <colgroup><col><col><col><col><col><col><col><col><col><col><col><col><col><col><col><col><col><col><col><col><col><col><col><col></colgroup>\n",
       "   <thead>      \n",
       "      <tr>\n",
       "         <th aria-label=\" Player Name Bold can mean player is active for this team or player has appeared in MLB * means LHP or LHB, # means switch hitter, + can mean HOFer.\" data-stat=\"player\" scope=\"col\" class=\" poptip sort_default_asc show_partial_when_sorting left\" data-tip=\"&lt;strong&gt;Player Name&lt;/strong&gt;&lt;br&gt;&lt;strong&gt;Bold&lt;/strong&gt; can mean player is active for this team&lt;br&gt;or player has appeared in MLB&lt;br&gt;* means LHP or LHB,&lt;br&gt;# means switch hitter,&lt;br&gt;+ can mean HOFer.\" >Batting</th>\n",
       "         <th aria-label=\"At Bats\" data-stat=\"AB\" scope=\"col\" class=\" poptip center\" data-tip=\"At Bats\" >AB</th>\n",
       "         <th aria-label=\"Runs Scored\" data-stat=\"R\" scope=\"col\" class=\" poptip center\" data-tip=\"Runs Scored/Allowed\" >R</th>\n",
       "         <th aria-label=\"Hits\" data-stat=\"H\" scope=\"col\" class=\" poptip center\" data-tip=\"Hits/Hits Allowed\" >H</th>\n",
       "         <th aria-label=\"Runs Batted In\" data-stat=\"RBI\" scope=\"col\" class=\" poptip center\" data-tip=\"Runs Batted In\" >RBI</th>\n",
       "         <th aria-label=\"Bases on Balls\" data-stat=\"BB\" scope=\"col\" class=\" poptip center\" data-tip=\"Bases on Balls/Walks\" >BB</th>\n",
       "         <th aria-label=\"Strikeouts\" data-stat=\"SO\" scope=\"col\" class=\" poptip center\" data-tip=\"Strikeouts\" >SO</th>\n",
       "         <th aria-label=\"Plate Appearances\" data-stat=\"PA\" scope=\"col\" class=\" poptip center\" data-tip=\"&lt;strong&gt;Plate Appearances&lt;/strong&gt;&lt;br&gt;When available, we use actual plate appearances from play-by-play game accounts&lt;br&gt;Otherwise estimated using AB + BB + HBP + SF + SH,&lt;br&gt;which excludes catcher interferences.&lt;br&gt;When &lt;span class=tooltip&gt;this color&lt;/span&gt; click for a summary of each PA.\" >PA</th>\n",
       "         <th aria-label=\"Batting Average\" data-stat=\"batting_avg\" scope=\"col\" class=\" poptip hide_non_quals center\" data-tip=\"&lt;strong&gt;Hits/At Bats&lt;/strong&gt;&lt;br&gt;For recent years, leaders need 3.1 PA&lt;br&gt;per team game played&lt;br&gt;Bold indicates highest BA using current stats&lt;br&gt;&lt;span class=&quot;all_time_record&quot;&gt;Gold&lt;/span&gt; means awarded title at end of year.\" data-filter=\"1\" data-name=\"Batting Average\" >BA</th>\n",
       "         <th aria-label=\"On-Base%\" data-stat=\"onbase_perc\" scope=\"col\" class=\" poptip hide_non_quals center\" data-tip=\"&lt;strong&gt;(H + BB + HBP)/(At Bats + BB + HBP + SF)&lt;/strong&gt;&lt;br&gt;For recent years, leaders need 3.1 PA&lt;br&gt;per team game played\" data-filter=\"1\" data-name=\"On-Base%\" >OBP</th>\n",
       "         <th aria-label=\"Slugging %\" data-stat=\"slugging_perc\" scope=\"col\" class=\" poptip hide_non_quals center\" data-tip=\"<strong>Total Bases/At Bats or <br>(1B + 2*2B + 3*3B + 4*HR)/AB</strong><br>For recent years, leaders need 3.1 PA<br>per team game played\" data-filter=\"1\" data-name=\"Slugging %\" >SLG</th>\n",
       "         <th aria-label=\"On-Base Plus Slugging\" data-stat=\"onbase_plus_slugging\" scope=\"col\" class=\" poptip hide_non_quals center\" data-tip=\"&lt;strong&gt;On-Base + Slugging Percentages &lt;/strong&gt;&lt;br&gt;For recent years, leaders need 3.1 PA&lt;br&gt;per team game played\" data-filter=\"1\" data-name=\"On-Base Plus Slugging\" >OPS</th>\n",
       "         <th aria-label=\"Number of pitches in the PA. Click to see the pitch-by-pitch sequence.\" data-stat=\"pitches\" scope=\"col\" class=\" poptip center\" data-tip=\"Number of pitches in the PA.&lt;br&gt;Click to see the pitch-by-pitch sequence.\" >Pit</th>\n",
       "         <th aria-label=\" Strikes Includes both pitches in the zone and those swung at out of the zone.\" data-stat=\"strikes_total\" scope=\"col\" class=\" poptip center\" data-tip=\"&lt;strong&gt;Strikes&lt;/strong&gt;&lt;br&gt;Includes both pitches in the zone and those swung at out of the zone.\" >Str</th>\n",
       "         <th aria-label=\"Win Probability Added (WPA)\" data-stat=\"wpa_bat\" scope=\"col\" class=\" poptip center\" data-tip=\"&lt;strong&gt;Win Probability Added for Offensive Player&lt;/strong&gt;&lt;br&gt;Given average teams, this is the change in probability&lt;br&gt;caused by this batter during the game&lt;br&gt;A change of +/- 1 would indicate one win added or lost.\" data-filter=\"1\" data-name=\"Win Probability Added (WPA)\" >WPA</th>\n",
       "         <th aria-label=\" Average Leverage Index The average pressure the pitcher or batter saw in this game or season. 1.0 is average pressure, below 1.0 is low pressure and above 1.0 is high pressure.\" data-stat=\"leverage_index_avg\" scope=\"col\" class=\" poptip hide_non_quals center\" data-tip=\"&lt;strong&gt;Average Leverage Index&lt;/strong&gt;&lt;br&gt;The average pressure the pitcher or batter saw in this game or season.&lt;br&gt;1.0 is average pressure, below 1.0 is low pressure and above 1.0 is high pressure.\" data-filter=\"1\" data-name=\"&lt;strong&gt;Average Leverage Index&lt;/strong&gt;&lt;br&gt;The average pressure the pitcher or batter saw in this game or season.&lt;br&gt;1.0 is average pressure, below 1.0 is low pressure and above 1.0 is high pressure.\" >aLI</th>\n",
       "         <th aria-label=\" Win Probability Added Sum of positive events for this batter.\" data-stat=\"wpa_bat_pos\" scope=\"col\" class=\" poptip center\" data-tip=\"&lt;strong&gt;Win Probability Added&lt;/strong&gt;&lt;br&gt;Sum of positive events for this batter.\" data-filter=\"1\" data-name=\"&lt;strong&gt;Win Probability Added&lt;/strong&gt;&lt;br&gt;Sum of positive events for this batter.\" >WPA+</th>\n",
       "         <th aria-label=\" Win Probability Subtracted Sum of negative events for this batter.\" data-stat=\"wpa_bat_neg\" scope=\"col\" class=\" poptip center\" data-tip=\"&lt;strong&gt;Win Probability Subtracted&lt;/strong&gt;&lt;br&gt;Sum of negative events for this batter.\" data-filter=\"1\" data-name=\"&lt;strong&gt;Win Probability Subtracted&lt;/strong&gt;&lt;br&gt;Sum of negative events for this batter.\" >WPA-</th>\n",
       "         <th aria-label=\"Championship WPA (cWPA)\" data-stat=\"cwpa_bat\" scope=\"col\" class=\" poptip center\" data-tip=\"&lt;strong&gt;Championship Win Probability Added for Offensive Player&lt;/strong&gt;&lt;br&gt;Given average teams, this is the change in probability, displayed in percentage points.&lt;br&gt;A change of +/- 100% would indicate one world series win added or lost.\" data-filter=\"1\" data-name=\"Championship WPA (cWPA)\" >cWPA</th>\n",
       "         <th aria-label=\" Average Championship Leverage Index The average pressure the pitcher or batter saw in this game or season. 1.0 is average pressure, below 1.0 is low pressure and above 1.0 is high pressure.\" data-stat=\"cli_avg\" scope=\"col\" class=\" poptip hide_non_quals center\" data-tip=\"&lt;strong&gt;Average Championship Leverage Index&lt;/strong&gt;&lt;br&gt;The average pressure the pitcher or batter saw in this game or season.&lt;br&gt;1.0 is average pressure, below 1.0 is low pressure and above 1.0 is high pressure.\" data-filter=\"1\" data-name=\"&lt;strong&gt;Average Championship Leverage Index&lt;/strong&gt;&lt;br&gt;The average pressure the pitcher or batter saw in this game or season.&lt;br&gt;1.0 is average pressure, below 1.0 is low pressure and above 1.0 is high pressure.\" >acLI</th>\n",
       "         <th aria-label=\"Base-Out Runs Added (RE24)\" data-stat=\"re24_bat\" scope=\"col\" class=\" poptip center\" data-tip=\"&lt;strong&gt;Base-Out Runs Added&lt;/strong&gt;&lt;br&gt;Given the bases occupied/out situation, how many runs did the batter&lt;br&gt; or baserunner add in the resulting play.&lt;br&gt;Compared to average, so 0 is average, and above 0 is better than average\" data-filter=\"1\" data-name=\"Base-Out Runs Added (RE24)\" >RE24</th>\n",
       "         <th aria-label=\"Putouts\" data-stat=\"PO\" scope=\"col\" class=\" poptip center\" data-tip=\"Putouts\" >PO</th>\n",
       "         <th aria-label=\"Assists\" data-stat=\"A\" scope=\"col\" class=\" poptip center\" data-tip=\"Assists\" >A</th>\n",
       "         <th aria-label=\"details\" data-stat=\"details\" scope=\"col\" class=\" poptip center\" >Details</th>\n",
       "      </tr>\n",
       "      \n",
       "   </thead>\n",
       "   <tbody>\n",
       "<tr ><th scope=\"row\" class=\"left \" data-append-csv=\"tayloch03\" data-stat=\"player\" csk=\"0\" ><a href=\"/players/t/tayloch03.shtml\">Chris Taylor</a> CF</th><td class=\"right endpoint\" data-endpoint=\"/tools/be.cgi?html=1&game-id=LAN201710240-tayloch03-post\" data-stat=\"AB\" >3</td><td class=\"right \" data-stat=\"R\" >2</td><td class=\"right \" data-stat=\"H\" >1</td><td class=\"right \" data-stat=\"RBI\" >1</td><td class=\"right \" data-stat=\"BB\" >1</td><td class=\"right iz\" data-stat=\"SO\" >0</td><td class=\"right \" data-stat=\"PA\" >4</td><td class=\"right \" data-stat=\"batting_avg\" >.286</td><td class=\"right \" data-stat=\"onbase_perc\" >.419</td><td class=\"right \" data-stat=\"slugging_perc\" >.657</td><td class=\"right \" data-stat=\"onbase_plus_slugging\" >1.076</td><td class=\"right \" data-stat=\"pitches\" >10</td><td class=\"right \" data-stat=\"strikes_total\" >5</td><td class=\"right \" data-stat=\"wpa_bat\" >0.051</td><td class=\"right \" data-stat=\"leverage_index_avg\" > 0.71</td><td class=\"right \" data-stat=\"wpa_bat_pos\" >0.118</td><td class=\"right \" data-stat=\"wpa_bat_neg\" >-0.067%</td><td class=\"right \" data-stat=\"cwpa_bat\" > 1.50%</td><td class=\"right \" data-stat=\"cli_avg\" >37.34</td><td class=\"right \" data-stat=\"re24_bat\" > 0.3</td><td class=\"right \" data-stat=\"PO\" >3</td><td class=\"right iz\" data-stat=\"A\" >0</td><td class=\"left \" data-stat=\"details\" >HR</td></tr>\n",
       "<tr ><th scope=\"row\" class=\"left \" data-append-csv=\"turneju01\" data-stat=\"player\" csk=\"1\" ><a href=\"/players/t/turneju01.shtml\">Justin Turner</a> 3B</th><td class=\"right endpoint\" data-endpoint=\"/tools/be.cgi?html=1&game-id=LAN201710240-turneju01-post\" data-stat=\"AB\" >4</td><td class=\"right \" data-stat=\"R\" >1</td><td class=\"right \" data-stat=\"H\" >1</td><td class=\"right \" data-stat=\"RBI\" >2</td><td class=\"right iz\" data-stat=\"BB\" >0</td><td class=\"right \" data-stat=\"SO\" >2</td><td class=\"right \" data-stat=\"PA\" >4</td><td class=\"right \" data-stat=\"batting_avg\" >.371</td><td class=\"right \" data-stat=\"onbase_perc\" >.476</td><td class=\"right \" data-stat=\"slugging_perc\" >.714</td><td class=\"right \" data-stat=\"onbase_plus_slugging\" >1.190</td><td class=\"right \" data-stat=\"pitches\" >18</td><td class=\"right \" data-stat=\"strikes_total\" >13</td><td class=\"right \" data-stat=\"wpa_bat\" >0.242</td><td class=\"right \" data-stat=\"leverage_index_avg\" > 0.80</td><td class=\"right \" data-stat=\"wpa_bat_pos\" >0.292</td><td class=\"right \" data-stat=\"wpa_bat_neg\" >-0.049%</td><td class=\"right \" data-stat=\"cwpa_bat\" > 7.06%</td><td class=\"right \" data-stat=\"cli_avg\" >41.92</td><td class=\"right \" data-stat=\"re24_bat\" > 1.3</td><td class=\"right iz\" data-stat=\"PO\" >0</td><td class=\"right \" data-stat=\"A\" >2</td><td class=\"left \" data-stat=\"details\" >HR</td></tr>\n",
       "<tr ><th scope=\"row\" class=\"left \" data-append-csv=\"bellico01\" data-stat=\"player\" csk=\"2\" ><a href=\"/players/b/bellico01.shtml\">Cody Bellinger</a> 1B</th><td class=\"right endpoint\" data-endpoint=\"/tools/be.cgi?html=1&game-id=LAN201710240-bellico01-post\" data-stat=\"AB\" >3</td><td class=\"right iz\" data-stat=\"R\" >0</td><td class=\"right iz\" data-stat=\"H\" >0</td><td class=\"right iz\" data-stat=\"RBI\" >0</td><td class=\"right iz\" data-stat=\"BB\" >0</td><td class=\"right \" data-stat=\"SO\" >1</td><td class=\"right \" data-stat=\"PA\" >3</td><td class=\"right \" data-stat=\"batting_avg\" >.256</td><td class=\"right \" data-stat=\"onbase_perc\" >.293</td><td class=\"right \" data-stat=\"slugging_perc\" >.462</td><td class=\"right \" data-stat=\"onbase_plus_slugging\" >.754</td><td class=\"right \" data-stat=\"pitches\" >12</td><td class=\"right \" data-stat=\"strikes_total\" >8</td><td class=\"right \" data-stat=\"wpa_bat\" >-0.040</td><td class=\"right \" data-stat=\"leverage_index_avg\" > 0.53</td><td class=\"right \" data-stat=\"wpa_bat_pos\" >0.000</td><td class=\"right \" data-stat=\"wpa_bat_neg\" >-0.040%</td><td class=\"right \" data-stat=\"cwpa_bat\" >-1.16%</td><td class=\"right \" data-stat=\"cli_avg\" >27.51</td><td class=\"right \" data-stat=\"re24_bat\" > -0.4</td><td class=\"right \" data-stat=\"PO\" >6</td><td class=\"right iz\" data-stat=\"A\" >0</td><td class=\"left iz\" data-stat=\"details\" ></td></tr>\n",
       "<tr ><th scope=\"row\" class=\"left \" data-append-csv=\"puigya01\" data-stat=\"player\" csk=\"3\" ><a href=\"/players/p/puigya01.shtml\">Yasiel Puig</a> RF</th><td class=\"right endpoint\" data-endpoint=\"/tools/be.cgi?html=1&game-id=LAN201710240-puigya01-post\" data-stat=\"AB\" >3</td><td class=\"right iz\" data-stat=\"R\" >0</td><td class=\"right iz\" data-stat=\"H\" >0</td><td class=\"right iz\" data-stat=\"RBI\" >0</td><td class=\"right iz\" data-stat=\"BB\" >0</td><td class=\"right iz\" data-stat=\"SO\" >0</td><td class=\"right \" data-stat=\"PA\" >3</td><td class=\"right \" data-stat=\"batting_avg\" >.375</td><td class=\"right \" data-stat=\"onbase_perc\" >.474</td><td class=\"right \" data-stat=\"slugging_perc\" >.594</td><td class=\"right \" data-stat=\"onbase_plus_slugging\" >1.067</td><td class=\"right \" data-stat=\"pitches\" >13</td><td class=\"right \" data-stat=\"strikes_total\" >6</td><td class=\"right \" data-stat=\"wpa_bat\" >-0.033</td><td class=\"right \" data-stat=\"leverage_index_avg\" > 0.43</td><td class=\"right \" data-stat=\"wpa_bat_pos\" >0.000</td><td class=\"right \" data-stat=\"wpa_bat_neg\" >-0.033%</td><td class=\"right \" data-stat=\"cwpa_bat\" >-0.96%</td><td class=\"right \" data-stat=\"cli_avg\" >22.28</td><td class=\"right \" data-stat=\"re24_bat\" > -0.4</td><td class=\"right \" data-stat=\"PO\" >1</td><td class=\"right iz\" data-stat=\"A\" >0</td><td class=\"left iz\" data-stat=\"details\" ></td></tr>\n",
       "<tr ><th scope=\"row\" class=\"left \" data-append-csv=\"hernaen02\" data-stat=\"player\" csk=\"4\" ><a href=\"/players/h/hernaen02.shtml\">Enrique Hernandez</a> LF</th><td class=\"right endpoint\" data-endpoint=\"/tools/be.cgi?html=1&game-id=LAN201710240-hernaen02-post\" data-stat=\"AB\" >3</td><td class=\"right iz\" data-stat=\"R\" >0</td><td class=\"right \" data-stat=\"H\" >1</td><td class=\"right iz\" data-stat=\"RBI\" >0</td><td class=\"right iz\" data-stat=\"BB\" >0</td><td class=\"right \" data-stat=\"SO\" >1</td><td class=\"right \" data-stat=\"PA\" >3</td><td class=\"right \" data-stat=\"batting_avg\" >.400</td><td class=\"right \" data-stat=\"onbase_perc\" >.500</td><td class=\"right \" data-stat=\"slugging_perc\" >1.067</td><td class=\"right \" data-stat=\"onbase_plus_slugging\" >1.567</td><td class=\"right \" data-stat=\"pitches\" >12</td><td class=\"right \" data-stat=\"strikes_total\" >8</td><td class=\"right \" data-stat=\"wpa_bat\" >-0.006</td><td class=\"right \" data-stat=\"leverage_index_avg\" > 0.75</td><td class=\"right \" data-stat=\"wpa_bat_pos\" >0.031</td><td class=\"right \" data-stat=\"wpa_bat_neg\" >-0.037%</td><td class=\"right \" data-stat=\"cwpa_bat\" >-0.18%</td><td class=\"right \" data-stat=\"cli_avg\" >39.17</td><td class=\"right \" data-stat=\"re24_bat\" > -0.0</td><td class=\"right \" data-stat=\"PO\" >3</td><td class=\"right iz\" data-stat=\"A\" >0</td><td class=\"left iz\" data-stat=\"details\" ></td></tr>\n",
       "<tr ><th scope=\"row\" class=\"left \" data-append-csv=\"seageco01\" data-stat=\"player\" csk=\"5\" ><a href=\"/players/s/seageco01.shtml\">Corey Seager</a> SS</th><td class=\"right endpoint\" data-endpoint=\"/tools/be.cgi?html=1&game-id=LAN201710240-seageco01-post\" data-stat=\"AB\" >3</td><td class=\"right iz\" data-stat=\"R\" >0</td><td class=\"right \" data-stat=\"H\" >2</td><td class=\"right iz\" data-stat=\"RBI\" >0</td><td class=\"right iz\" data-stat=\"BB\" >0</td><td class=\"right iz\" data-stat=\"SO\" >0</td><td class=\"right \" data-stat=\"PA\" >3</td><td class=\"right \" data-stat=\"batting_avg\" >.357</td><td class=\"right \" data-stat=\"onbase_perc\" >.500</td><td class=\"right \" data-stat=\"slugging_perc\" >.500</td><td class=\"right \" data-stat=\"onbase_plus_slugging\" >1.000</td><td class=\"right \" data-stat=\"pitches\" >4</td><td class=\"right \" data-stat=\"strikes_total\" >3</td><td class=\"right \" data-stat=\"wpa_bat\" >-0.027</td><td class=\"right \" data-stat=\"leverage_index_avg\" > 0.78</td><td class=\"right \" data-stat=\"wpa_bat_pos\" >0.038</td><td class=\"right \" data-stat=\"wpa_bat_neg\" >-0.065%</td><td class=\"right \" data-stat=\"cwpa_bat\" >-0.77%</td><td class=\"right \" data-stat=\"cli_avg\" >40.91</td><td class=\"right \" data-stat=\"re24_bat\" > -0.4</td><td class=\"right iz\" data-stat=\"PO\" >0</td><td class=\"right \" data-stat=\"A\" >3</td><td class=\"left \" data-stat=\"details\" >GDP</td></tr>\n",
       "<tr ><th scope=\"row\" class=\"left \" data-append-csv=\"forsylo01\" data-stat=\"player\" csk=\"6\" ><a href=\"/players/f/forsylo01.shtml\">Logan Forsythe</a> 2B</th><td class=\"right endpoint\" data-endpoint=\"/tools/be.cgi?html=1&game-id=LAN201710240-forsylo01-post\" data-stat=\"AB\" >2</td><td class=\"right iz\" data-stat=\"R\" >0</td><td class=\"right iz\" data-stat=\"H\" >0</td><td class=\"right iz\" data-stat=\"RBI\" >0</td><td class=\"right \" data-stat=\"BB\" >1</td><td class=\"right iz\" data-stat=\"SO\" >0</td><td class=\"right \" data-stat=\"PA\" >3</td><td class=\"right \" data-stat=\"batting_avg\" >.286</td><td class=\"right \" data-stat=\"onbase_perc\" >.444</td><td class=\"right \" data-stat=\"slugging_perc\" >.333</td><td class=\"right \" data-stat=\"onbase_plus_slugging\" >.778</td><td class=\"right \" data-stat=\"pitches\" >14</td><td class=\"right \" data-stat=\"strikes_total\" >7</td><td class=\"right \" data-stat=\"wpa_bat\" >-0.069</td><td class=\"right \" data-stat=\"leverage_index_avg\" > 0.77</td><td class=\"right \" data-stat=\"wpa_bat_pos\" >0.009</td><td class=\"right \" data-stat=\"wpa_bat_neg\" >-0.078%</td><td class=\"right \" data-stat=\"cwpa_bat\" >-2.04%</td><td class=\"right \" data-stat=\"cli_avg\" >40.39</td><td class=\"right \" data-stat=\"re24_bat\" > -0.4</td><td class=\"right \" data-stat=\"PO\" >2</td><td class=\"right \" data-stat=\"A\" >2</td><td class=\"left \" data-stat=\"details\" >GDP</td></tr>\n",
       "<tr ><th scope=\"row\" class=\"left \" data-append-csv=\"barneau01\" data-stat=\"player\" csk=\"7\" ><a href=\"/players/b/barneau01.shtml\">Austin Barnes</a> C</th><td class=\"right endpoint\" data-endpoint=\"/tools/be.cgi?html=1&game-id=LAN201710240-barneau01-post\" data-stat=\"AB\" >3</td><td class=\"right iz\" data-stat=\"R\" >0</td><td class=\"right \" data-stat=\"H\" >1</td><td class=\"right iz\" data-stat=\"RBI\" >0</td><td class=\"right iz\" data-stat=\"BB\" >0</td><td class=\"right iz\" data-stat=\"SO\" >0</td><td class=\"right \" data-stat=\"PA\" >3</td><td class=\"right \" data-stat=\"batting_avg\" >.269</td><td class=\"right \" data-stat=\"onbase_perc\" >.367</td><td class=\"right \" data-stat=\"slugging_perc\" >.423</td><td class=\"right \" data-stat=\"onbase_plus_slugging\" >.790</td><td class=\"right \" data-stat=\"pitches\" >10</td><td class=\"right \" data-stat=\"strikes_total\" >6</td><td class=\"right \" data-stat=\"wpa_bat\" >-0.021</td><td class=\"right \" data-stat=\"leverage_index_avg\" > 0.96</td><td class=\"right \" data-stat=\"wpa_bat_pos\" >0.032</td><td class=\"right \" data-stat=\"wpa_bat_neg\" >-0.053%</td><td class=\"right \" data-stat=\"cwpa_bat\" >-0.62%</td><td class=\"right \" data-stat=\"cli_avg\" >50.32</td><td class=\"right \" data-stat=\"re24_bat\" > -0.3</td><td class=\"right \" data-stat=\"PO\" >12</td><td class=\"right iz\" data-stat=\"A\" >0</td><td class=\"left iz\" data-stat=\"details\" ></td></tr>\n",
       "<tr ><th scope=\"row\" class=\"left \" data-append-csv=\"kershcl01\" data-stat=\"player\" csk=\"8\" ><a href=\"/players/k/kershcl01.shtml\">Clayton Kershaw</a> P</th><td class=\"right endpoint\" data-endpoint=\"/tools/be.cgi?html=1&game-id=LAN201710240-kershcl01-post\" data-stat=\"AB\" >1</td><td class=\"right iz\" data-stat=\"R\" >0</td><td class=\"right iz\" data-stat=\"H\" >0</td><td class=\"right iz\" data-stat=\"RBI\" >0</td><td class=\"right iz\" data-stat=\"BB\" >0</td><td class=\"right iz\" data-stat=\"SO\" >0</td><td class=\"right \" data-stat=\"PA\" >2</td><td class=\"right \" data-stat=\"batting_avg\" >.143</td><td class=\"right \" data-stat=\"onbase_perc\" >.143</td><td class=\"right \" data-stat=\"slugging_perc\" >.143</td><td class=\"right \" data-stat=\"onbase_plus_slugging\" >.286</td><td class=\"right \" data-stat=\"pitches\" >7</td><td class=\"right \" data-stat=\"strikes_total\" >4</td><td class=\"right \" data-stat=\"wpa_bat\" >-0.038</td><td class=\"right \" data-stat=\"leverage_index_avg\" > 1.14</td><td class=\"right \" data-stat=\"wpa_bat_pos\" >0.000</td><td class=\"right \" data-stat=\"wpa_bat_neg\" >-0.038%</td><td class=\"right \" data-stat=\"cwpa_bat\" >-1.12%</td><td class=\"right \" data-stat=\"cli_avg\" >59.55</td><td class=\"right \" data-stat=\"re24_bat\" > -0.4</td><td class=\"right iz\" data-stat=\"PO\" >0</td><td class=\"right iz\" data-stat=\"A\" >0</td><td class=\"left \" data-stat=\"details\" >SH</td></tr>\n",
       "<tr ><th scope=\"row\" class=\"left \" data-append-csv=\"morrobr01\" data-stat=\"player\" csk=\"9\" >&nbsp;&nbsp;&nbsp;<a href=\"/players/m/morrobr01.shtml\">Brandon Morrow</a> P</th><td class=\"right endpoint iz\" data-endpoint=\"/tools/be.cgi?html=1&game-id=LAN201710240-morrobr01-post\" data-stat=\"AB\" >0</td><td class=\"right iz\" data-stat=\"R\" >0</td><td class=\"right iz\" data-stat=\"H\" >0</td><td class=\"right iz\" data-stat=\"RBI\" >0</td><td class=\"right iz\" data-stat=\"BB\" >0</td><td class=\"right iz\" data-stat=\"SO\" >0</td><td class=\"right iz\" data-stat=\"PA\" >0</td><td class=\"right \" data-stat=\"batting_avg\" >.000</td><td class=\"right \" data-stat=\"onbase_perc\" >.000</td><td class=\"right \" data-stat=\"slugging_perc\" >.000</td><td class=\"right \" data-stat=\"onbase_plus_slugging\" >.000</td><td class=\"right iz\" data-stat=\"pitches\" ></td><td class=\"right iz\" data-stat=\"strikes_total\" ></td><td class=\"right iz\" data-stat=\"wpa_bat\" ></td><td class=\"right iz\" data-stat=\"leverage_index_avg\" ></td><td class=\"right iz\" data-stat=\"wpa_bat_pos\" ></td><td class=\"right iz\" data-stat=\"wpa_bat_neg\" ></td><td class=\"right iz\" data-stat=\"cwpa_bat\" ></td><td class=\"right iz\" data-stat=\"cli_avg\" ></td><td class=\"right iz\" data-stat=\"re24_bat\" ></td><td class=\"right iz\" data-stat=\"PO\" >0</td><td class=\"right iz\" data-stat=\"A\" >0</td><td class=\"left iz\" data-stat=\"details\" ></td></tr>\n",
       "<tr ><th scope=\"row\" class=\"left \" data-append-csv=\"culbech01\" data-stat=\"player\" csk=\"10\" >&nbsp;&nbsp;&nbsp;<a href=\"/players/c/culbech01.shtml\">Charlie Culberson</a> PH</th><td class=\"right endpoint\" data-endpoint=\"/tools/be.cgi?html=1&game-id=LAN201710240-culbech01-post\" data-stat=\"AB\" >1</td><td class=\"right iz\" data-stat=\"R\" >0</td><td class=\"right iz\" data-stat=\"H\" >0</td><td class=\"right iz\" data-stat=\"RBI\" >0</td><td class=\"right iz\" data-stat=\"BB\" >0</td><td class=\"right \" data-stat=\"SO\" >1</td><td class=\"right \" data-stat=\"PA\" >1</td><td class=\"right \" data-stat=\"batting_avg\" >.417</td><td class=\"right \" data-stat=\"onbase_perc\" >.385</td><td class=\"right \" data-stat=\"slugging_perc\" >.750</td><td class=\"right \" data-stat=\"onbase_plus_slugging\" >1.135</td><td class=\"right \" data-stat=\"pitches\" >4</td><td class=\"right \" data-stat=\"strikes_total\" >3</td><td class=\"right \" data-stat=\"wpa_bat\" >-0.006</td><td class=\"right \" data-stat=\"leverage_index_avg\" > 0.23</td><td class=\"right \" data-stat=\"wpa_bat_pos\" >0.000</td><td class=\"right \" data-stat=\"wpa_bat_neg\" >-0.006%</td><td class=\"right \" data-stat=\"cwpa_bat\" >-0.18%</td><td class=\"right \" data-stat=\"cli_avg\" >12.01</td><td class=\"right \" data-stat=\"re24_bat\" > -0.2</td><td class=\"right iz\" data-stat=\"PO\" ></td><td class=\"right iz\" data-stat=\"A\" ></td><td class=\"left iz\" data-stat=\"details\" ></td></tr>\n",
       "<tr ><th scope=\"row\" class=\"left \" data-append-csv=\"janseke01\" data-stat=\"player\" csk=\"11\" >&nbsp;&nbsp;&nbsp;<a href=\"/players/j/janseke01.shtml\">Kenley Jansen</a> P</th><td class=\"right endpoint iz\" data-endpoint=\"/tools/be.cgi?html=1&game-id=LAN201710240-janseke01-post\" data-stat=\"AB\" >0</td><td class=\"right iz\" data-stat=\"R\" >0</td><td class=\"right iz\" data-stat=\"H\" >0</td><td class=\"right iz\" data-stat=\"RBI\" >0</td><td class=\"right iz\" data-stat=\"BB\" >0</td><td class=\"right iz\" data-stat=\"SO\" >0</td><td class=\"right iz\" data-stat=\"PA\" >0</td><td class=\"right \" data-stat=\"batting_avg\" >.000</td><td class=\"right \" data-stat=\"onbase_perc\" >.000</td><td class=\"right \" data-stat=\"slugging_perc\" >.000</td><td class=\"right \" data-stat=\"onbase_plus_slugging\" >.000</td><td class=\"right iz\" data-stat=\"pitches\" ></td><td class=\"right iz\" data-stat=\"strikes_total\" ></td><td class=\"right iz\" data-stat=\"wpa_bat\" ></td><td class=\"right iz\" data-stat=\"leverage_index_avg\" ></td><td class=\"right iz\" data-stat=\"wpa_bat_pos\" ></td><td class=\"right iz\" data-stat=\"wpa_bat_neg\" ></td><td class=\"right iz\" data-stat=\"cwpa_bat\" ></td><td class=\"right iz\" data-stat=\"cli_avg\" ></td><td class=\"right iz\" data-stat=\"re24_bat\" ></td><td class=\"right iz\" data-stat=\"PO\" >0</td><td class=\"right iz\" data-stat=\"A\" >0</td><td class=\"left iz\" data-stat=\"details\" ></td></tr>\n",
       "\n",
       "   </tbody>\n",
       "   <tfoot><tr ><th scope=\"row\" class=\"left \" data-stat=\"player\" >Team Totals</th><td class=\"right \" data-stat=\"AB\" >26</td><td class=\"right \" data-stat=\"R\" >3</td><td class=\"right \" data-stat=\"H\" >6</td><td class=\"right \" data-stat=\"RBI\" >3</td><td class=\"right \" data-stat=\"BB\" >2</td><td class=\"right \" data-stat=\"SO\" >5</td><td class=\"right \" data-stat=\"PA\" >29</td><td class=\"right \" data-stat=\"batting_avg\" >.231</td><td class=\"right \" data-stat=\"onbase_perc\" >.286</td><td class=\"right \" data-stat=\"slugging_perc\" >.462</td><td class=\"right \" data-stat=\"onbase_plus_slugging\" >.747</td><td class=\"right \" data-stat=\"pitches\" >104</td><td class=\"right \" data-stat=\"strikes_total\" >63</td><td class=\"right \" data-stat=\"wpa_bat\" >0.053</td><td class=\"right \" data-stat=\"leverage_index_avg\" > 0.73</td><td class=\"right \" data-stat=\"wpa_bat_pos\" >0.520</td><td class=\"right \" data-stat=\"wpa_bat_neg\" >-0.466%</td><td class=\"right \" data-stat=\"cwpa_bat\" > 1.53%</td><td class=\"right \" data-stat=\"cli_avg\" >38.27</td><td class=\"right \" data-stat=\"re24_bat\" > -1.0</td><td class=\"right \" data-stat=\"PO\" >27</td><td class=\"right \" data-stat=\"A\" >7</td><td class=\"left iz\" data-stat=\"details\" ></td></tr>\n",
       "\n",
       "   </tfoot>\n",
       "\n",
       "</table>\n",
       "\n",
       "      </div>\n",
       "   </div>\n",
       "   <div class=\"footer no_hide_long\" id=\"tfooter_LosAngelesDodgersbatting\">\n",
       "   \n",
       "    <div><div id='HRhome'><strong>HR:</strong> Chris Taylor (3, off Dallas Keuchel, 1st inn, 0 on, 0 outs to LF); Justin Turner (4, off Dallas Keuchel, 6th inn, 1 on, 2 outs to LF-CF).</div>\n",
       "<div id='SHhome'><strong>SH:</strong> Clayton Kershaw (2, off Dallas Keuchel).</div>\n",
       "<div id='TB'><strong>TB:</strong> Justin&nbsp;Turner 4; Chris&nbsp;Taylor 4; Corey&nbsp;Seager 2; Austin&nbsp;Barnes; Enrique&nbsp;Hernandez.</div>\n",
       "<div id='GIDP'><strong>GIDP:</strong> Logan&nbsp;Forsythe (1); Corey&nbsp;Seager (1).</div>\n",
       "<div id='RBI'><strong>RBI:</strong> Justin&nbsp;Turner 2 (14); Chris&nbsp;Taylor (5).</div>\n",
       "<div id='RBI2out'><strong>2-out RBI:</strong> Justin&nbsp;Turner 2.</div>\n",
       "<div id='teamlobhome'><strong>Team LOB:</strong> 2.</div><div id='teamrisphome'><strong>With RISP:</strong> 0 for 2.</div></div>\n",
       "</div>\n",
       "-->\n",
       "</div>"
      ]
     },
     "execution_count": 118,
     "metadata": {},
     "output_type": "execute_result"
    }
   ],
   "source": [
    "div[1]"
   ]
  },
  {
   "cell_type": "code",
   "execution_count": null,
   "metadata": {},
   "outputs": [],
   "source": []
  }
 ],
 "metadata": {
  "kernelspec": {
   "display_name": "Python 3",
   "language": "python",
   "name": "python3"
  },
  "language_info": {
   "codemirror_mode": {
    "name": "ipython",
    "version": 3
   },
   "file_extension": ".py",
   "mimetype": "text/x-python",
   "name": "python",
   "nbconvert_exporter": "python",
   "pygments_lexer": "ipython3",
   "version": "3.7.9"
  }
 },
 "nbformat": 4,
 "nbformat_minor": 4
}
