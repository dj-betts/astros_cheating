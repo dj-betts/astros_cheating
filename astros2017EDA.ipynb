{
 "cells": [
  {
   "cell_type": "code",
   "execution_count": 374,
   "metadata": {},
   "outputs": [],
   "source": [
    "import pandas as pd\n",
    "import numpy as np\n",
    "\n",
    "from pandas.plotting import scatter_matrix\n",
    "\n",
    "from matplotlib import pyplot as plt\n",
    "plt.style.use(\"fivethirtyeight\")\n",
    "\n",
    "pd.options.display.max_columns = 50\n",
    "pd.options.display.max_rows = 100"
   ]
  },
  {
   "cell_type": "code",
   "execution_count": 375,
   "metadata": {},
   "outputs": [],
   "source": [
    "# astros2016 = pd.read_csv(\"data/HOU2016.csv\")\n",
    "astros2017 = pd.read_csv(\"data/HOU2017.csv\")\n",
    "# astros2018 = pd.read_csv(\"data/HOU2018.csv\")\n",
    "# astros2019 = pd.read_csv(\"data/HOU2019.csv\")\n",
    "yankees2017 = pd.read_csv(\"data/NYY2017.csv\")\n",
    "dodgers2017 = pd.read_csv(\"data/LAD2017.csv\")\n",
    "redsox2017 = pd.read_csv(\"data/BOS2017.csv\")\n"
   ]
  },
  {
   "cell_type": "code",
   "execution_count": 376,
   "metadata": {},
   "outputs": [],
   "source": [
    "def boolhome(df):\n",
    "    df.dropna(axis=\"index\", how=\"all\", inplace=True, subset=['Gtm'])\n",
    "    df.rename(columns={\"Unnamed: 3\":\"Home\"}, inplace=True)\n",
    "    df.replace({\"Home\":{\"@\": False, np.nan: True}}, inplace=True)\n",
    "    df.drop(\"Unnamed: 0\", axis=1, inplace=True)\n",
    "    df.reset_index(drop=True, inplace=True)\n",
    "    df['GmeSc'] = df['Opp. Starter (GmeSc)'].apply(lambda x: x[-3:-1])\n",
    "    df['SoAb'] = df['SO'] / df[\"AB\"]\n",
    "    df['BbAb'] = df['BB'] / df[\"AB\"]\n",
    "#     df['bbsum'] = df[\"BB\"] + df['SO']\n",
    "    #df['GmeSc'].apply(lambda x: x.astype(int))\n",
    "    return df"
   ]
  },
  {
   "cell_type": "code",
   "execution_count": null,
   "metadata": {},
   "outputs": [],
   "source": []
  },
  {
   "cell_type": "code",
   "execution_count": 377,
   "metadata": {},
   "outputs": [],
   "source": [
    "astros2017df = boolhome(astros2017)\n",
    "# astros2018df = boolhome(astros2018)\n",
    "# astros2019df = boolhome(astros2019)\n",
    "# astros2016df = boolhome(astros2016)\n",
    "yankees2017df = boolhome(yankees2017)\n",
    "dodgers2017df = boolhome(dodgers2017)\n",
    "redsox2017df = boolhome(redsox2017)"
   ]
  },
  {
   "cell_type": "code",
   "execution_count": 378,
   "metadata": {},
   "outputs": [],
   "source": [
    "columns = astros2017df.columns"
   ]
  },
  {
   "cell_type": "code",
   "execution_count": 379,
   "metadata": {},
   "outputs": [],
   "source": [
    "# astros2017df['so/at'] = astros2017df['SO'] / astros2017df[\"AB\"]\n",
    "# astros2017df['bb/at'] = astros2017df['BB'] / astros2017df[\"AB\"]\n",
    "# astros2017df['bbsum'] = astros2017df[\"BB\"] + astros2017df['SO']"
   ]
  },
  {
   "cell_type": "code",
   "execution_count": 380,
   "metadata": {},
   "outputs": [],
   "source": [
    "#astros2017df.head()"
   ]
  },
  {
   "cell_type": "code",
   "execution_count": 381,
   "metadata": {},
   "outputs": [],
   "source": [
    "#astros2017df.info"
   ]
  },
  {
   "cell_type": "code",
   "execution_count": 382,
   "metadata": {},
   "outputs": [],
   "source": [
    "#astros2017df.head()"
   ]
  },
  {
   "cell_type": "code",
   "execution_count": 383,
   "metadata": {},
   "outputs": [],
   "source": [
    "# astros2017df.dropna(axis=\"index\", how=\"all\", inplace=True)"
   ]
  },
  {
   "cell_type": "code",
   "execution_count": null,
   "metadata": {},
   "outputs": [],
   "source": []
  },
  {
   "cell_type": "code",
   "execution_count": null,
   "metadata": {},
   "outputs": [],
   "source": []
  },
  {
   "cell_type": "code",
   "execution_count": 384,
   "metadata": {},
   "outputs": [],
   "source": [
    "#astros2017df.head()"
   ]
  },
  {
   "cell_type": "code",
   "execution_count": 385,
   "metadata": {},
   "outputs": [],
   "source": [
    "#astros2017df.tail()"
   ]
  },
  {
   "cell_type": "code",
   "execution_count": 386,
   "metadata": {},
   "outputs": [],
   "source": [
    "#astros2017df.describe()"
   ]
  },
  {
   "cell_type": "code",
   "execution_count": 387,
   "metadata": {},
   "outputs": [],
   "source": [
    "#astros2017df.OBP\n",
    "#yankees2017df.OBP"
   ]
  },
  {
   "cell_type": "code",
   "execution_count": 388,
   "metadata": {},
   "outputs": [],
   "source": [
    "# #astros2017df.OBP.plot.line()\n",
    "# #yankees2017df.OBP.plot.line()\n",
    "# dodgers2017df.OBP.plot.line()\n",
    "# #redsox2017df.OBP.plot.line();"
   ]
  },
  {
   "cell_type": "code",
   "execution_count": 389,
   "metadata": {},
   "outputs": [],
   "source": [
    "#dodgers2017df.head(10)"
   ]
  },
  {
   "cell_type": "markdown",
   "metadata": {},
   "source": [
    "# GROUPBY home/away"
   ]
  },
  {
   "cell_type": "code",
   "execution_count": 390,
   "metadata": {},
   "outputs": [],
   "source": [
    "astros_home_gb = astros2017df.groupby(\"Home\")\n",
    "yankees_home_gb = yankees2017df.groupby(\"Home\")\n",
    "dodgers_home_gb = dodgers2017df.groupby(\"Home\")\n",
    "redsox_home_gb = redsox2017df.groupby(\"Home\")"
   ]
  },
  {
   "cell_type": "markdown",
   "metadata": {},
   "source": [
    "* ## OBP advantage"
   ]
  },
  {
   "cell_type": "code",
   "execution_count": 394,
   "metadata": {},
   "outputs": [],
   "source": [
    "astros_home_obp = astros_home_gb.get_group(True).OBP\n",
    "astros_away_obp = astros_home_gb.get_group(False).OBP"
   ]
  },
  {
   "cell_type": "code",
   "execution_count": 395,
   "metadata": {},
   "outputs": [],
   "source": [
    "yankees_home_obp = yankees_home_gb.get_group(True).OBP\n",
    "yankees_away_obp = yankees_home_gb.get_group(False).OBP"
   ]
  },
  {
   "cell_type": "code",
   "execution_count": 396,
   "metadata": {},
   "outputs": [],
   "source": [
    "dodgers_home_obp = dodgers_home_gb.get_group(True).OBP\n",
    "dodgers_away_obp = dodgers_home_gb.get_group(False).OBP"
   ]
  },
  {
   "cell_type": "code",
   "execution_count": 397,
   "metadata": {},
   "outputs": [],
   "source": [
    "redsox_home_obp = redsox_home_gb.get_group(True).OBP\n",
    "redsox_away_obp = redsox_home_gb.get_group(False).OBP"
   ]
  },
  {
   "cell_type": "code",
   "execution_count": 398,
   "metadata": {},
   "outputs": [
    {
     "name": "stdout",
     "output_type": "stream",
     "text": [
      "0.34600000000000003\n",
      "0.34\n",
      "0.341\n",
      "0.335\n"
     ]
    }
   ],
   "source": [
    "#OBP for 2017 season\n",
    "print(astros2017df.OBP.median())\n",
    "print(yankees2017df.OBP.median())\n",
    "print(dodgers2017df.OBP.median())\n",
    "print(redsox2017df.OBP.median())"
   ]
  },
  {
   "cell_type": "code",
   "execution_count": 399,
   "metadata": {},
   "outputs": [
    {
     "name": "stdout",
     "output_type": "stream",
     "text": [
      "0.3400370370370371\n",
      "0.34225925925925904\n",
      "0.34209876543209866\n",
      "0.3364197530864195\n"
     ]
    }
   ],
   "source": [
    "#OBP for 2017 home games\n",
    "print(astros_home_obp.mean())\n",
    "print(yankees_home_obp.mean())\n",
    "print(dodgers_home_obp.mean())\n",
    "print(redsox_home_obp.mean())"
   ]
  },
  {
   "cell_type": "code",
   "execution_count": 400,
   "metadata": {},
   "outputs": [
    {
     "name": "stdout",
     "output_type": "stream",
     "text": [
      "0.3463950617283951\n",
      "0.3403950617283949\n",
      "0.3397160493827161\n",
      "0.3374444444444443\n"
     ]
    }
   ],
   "source": [
    "#OBP for 2017 away games\n",
    "print(astros_away_obp.mean())\n",
    "print(yankees_away_obp.mean())\n",
    "print(dodgers_away_obp.mean())\n",
    "print(redsox_away_obp.mean())"
   ]
  },
  {
   "cell_type": "code",
   "execution_count": 401,
   "metadata": {},
   "outputs": [],
   "source": [
    "#home.get_group(True).OBP.plot.line()"
   ]
  },
  {
   "cell_type": "code",
   "execution_count": 402,
   "metadata": {},
   "outputs": [
    {
     "data": {
      "image/png": "[encoded data removed]",
      "text/plain": [
       "<Figure size 432x288 with 1 Axes>"
      ]
     },
     "metadata": {},
     "output_type": "display_data"
    }
   ],
   "source": [
    "astros_away_obp.plot.line()\n",
    "astros_home_obp.plot.line();"
   ]
  },
  {
   "cell_type": "code",
   "execution_count": 403,
   "metadata": {},
   "outputs": [
    {
     "data": {
      "image/png": "[encoded data removed]",
      "text/plain": [
       "<Figure size 432x288 with 1 Axes>"
      ]
     },
     "metadata": {},
     "output_type": "display_data"
    }
   ],
   "source": [
    "yankees_away_obp.plot.line()\n",
    "yankees_home_obp.plot.line();"
   ]
  },
  {
   "cell_type": "code",
   "execution_count": 404,
   "metadata": {},
   "outputs": [
    {
     "data": {
      "image/png": "[encoded data removed]",
      "text/plain": [
       "<Figure size 432x288 with 1 Axes>"
      ]
     },
     "metadata": {},
     "output_type": "display_data"
    }
   ],
   "source": [
    "dodgers_away_obp.plot.line()\n",
    "dodgers_home_obp.plot.line();"
   ]
  },
  {
   "cell_type": "code",
   "execution_count": 405,
   "metadata": {},
   "outputs": [
    {
     "data": {
      "image/png": "[encoded data removed]",
      "text/plain": [
       "<Figure size 432x288 with 1 Axes>"
      ]
     },
     "metadata": {},
     "output_type": "display_data"
    }
   ],
   "source": [
    "redsox_away_obp.plot.line()\n",
    "redsox_home_obp.plot.line();"
   ]
  },
  {
   "cell_type": "markdown",
   "metadata": {},
   "source": [
    "#### Is On Base Percentage (OBP) a rolling/weighted average? Can I parce HOME vs AWAY games? Should I consider a different stat like Strikeouts (SO)?"
   ]
  },
  {
   "cell_type": "markdown",
   "metadata": {},
   "source": [
    "* ## SO advantage"
   ]
  },
  {
   "cell_type": "code",
   "execution_count": 418,
   "metadata": {},
   "outputs": [],
   "source": [
    "astros_home_so = astros_home_gb.get_group(True).SO\n",
    "astros_away_so = astros_home_gb.get_group(False).SO"
   ]
  },
  {
   "cell_type": "code",
   "execution_count": 419,
   "metadata": {},
   "outputs": [],
   "source": [
    "yankees_home_so = yankees_home_gb.get_group(True).SO\n",
    "yankees_away_so = yankees_home_gb.get_group(False).SO"
   ]
  },
  {
   "cell_type": "code",
   "execution_count": 459,
   "metadata": {},
   "outputs": [],
   "source": [
    "dodgers_home_so = dodgers_home_gb.get_group(True).SO\n",
    "dodgers_away_so = dodgers_home_gb.get_group(False).SO"
   ]
  },
  {
   "cell_type": "code",
   "execution_count": 460,
   "metadata": {},
   "outputs": [],
   "source": [
    "redsox_home_so = redsox_home_gb.get_group(True).SO\n",
    "redsox_away_so = redsox_home_gb.get_group(False).SO"
   ]
  },
  {
   "cell_type": "code",
   "execution_count": 461,
   "metadata": {},
   "outputs": [],
   "source": [
    "astros_home_so_desc = astros_home_so.describe()"
   ]
  },
  {
   "cell_type": "code",
   "execution_count": 462,
   "metadata": {},
   "outputs": [],
   "source": [
    "#astros_home_so_desc"
   ]
  },
  {
   "cell_type": "code",
   "execution_count": 488,
   "metadata": {},
   "outputs": [
    {
     "name": "stdout",
     "output_type": "stream",
     "text": [
      "6.197530864197531\n",
      "8.407407407407407\n",
      "8.37037037037037\n",
      "7.283950617283951\n",
      "1.8230452674897117\n"
     ]
    },
    {
     "data": {
      "text/plain": [
       "8.020576131687243"
      ]
     },
     "execution_count": 488,
     "metadata": {},
     "output_type": "execute_result"
    }
   ],
   "source": [
    "print(astros_home_so.mean())\n",
    "print(yankees_home_so.mean())\n",
    "print(dodgers_home_so.mean())\n",
    "print(redsox_home_so.mean())\n",
    "\n",
    "list_field_home_so = [yankees_home_so.mean(), dodgers_home_so.mean(), redsox_home_so.mean()]\n",
    "arr_field_home_so = np.array(list_field_home_so)\n",
    "\n",
    "print(abs(astros_home_so.mean() - arr_field_home_so.mean()))\n",
    "\n",
    "arr_field_home_so.mean()\n"
   ]
  },
  {
   "cell_type": "code",
   "execution_count": 483,
   "metadata": {},
   "outputs": [
    {
     "name": "stdout",
     "output_type": "stream",
     "text": [
      "7.222222222222222\n",
      "8.703703703703704\n",
      "8.666666666666666\n",
      "7.827160493827161\n",
      "1.8230452674897117\n"
     ]
    }
   ],
   "source": [
    "print(astros_away_so.mean())\n",
    "print(yankees_away_so.mean())\n",
    "print(dodgers_away_so.mean())\n",
    "print(redsox_away_so.mean())\n",
    "\n",
    "list_field_away_so = [yankees_away_so.mean(), dodgers_away_so.mean(), redsox_away_so.mean()]\n",
    "arr_field_away_so = np.array(list_field_away_so)\n",
    "\n",
    "print(abs(astros_home_so.mean() - field.mean()))\n",
    "\n"
   ]
  },
  {
   "cell_type": "code",
   "execution_count": 467,
   "metadata": {},
   "outputs": [],
   "source": [
    "# plt.hist(astros_home_so)\n",
    "# plt.hist(yankees_home_so)\n",
    "# plt.hist(dodgers_home_so)\n",
    "# plt.hist(redsox_home_so)\n",
    "#print(abs(astros_home_so.mean() - yankees_home_so.mean()))\n",
    "#plt.hist([astros_home_so.mean(), yankees_home_so.mean(), dodgers_home_so.mean(), redsox_home_so.mean()])\n",
    "\n"
   ]
  },
  {
   "cell_type": "code",
   "execution_count": 468,
   "metadata": {},
   "outputs": [],
   "source": [
    "# astros_home_so.plot.bar()\n",
    "# yankees_home_so.plot.bar()\n",
    "# abs(astros_home_so - yankees_home_so).plot.bar()"
   ]
  },
  {
   "cell_type": "code",
   "execution_count": null,
   "metadata": {},
   "outputs": [],
   "source": []
  },
  {
   "cell_type": "markdown",
   "metadata": {},
   "source": [
    "* ## SS/AB"
   ]
  },
  {
   "cell_type": "code",
   "execution_count": 469,
   "metadata": {},
   "outputs": [],
   "source": [
    "astros_home_SoAb = astros_home_gb.get_group(True).SoAb\n",
    "astros_away_SoAb = astros_home_gb.get_group(False).SoAb"
   ]
  },
  {
   "cell_type": "code",
   "execution_count": 470,
   "metadata": {},
   "outputs": [],
   "source": [
    "yankees_home_SoAb = yankees_home_gb.get_group(True).SoAb\n",
    "yankees_away_SoAb = yankees_home_gb.get_group(False).SoAb"
   ]
  },
  {
   "cell_type": "code",
   "execution_count": 471,
   "metadata": {},
   "outputs": [],
   "source": [
    "dodgers_home_SoAb = dodgers_home_gb.get_group(True).SoAb\n",
    "dodgers_away_SoAb = dodgers_home_gb.get_group(False).SoAb"
   ]
  },
  {
   "cell_type": "code",
   "execution_count": 472,
   "metadata": {},
   "outputs": [],
   "source": [
    "redsox_home_SoAb = redsox_home_gb.get_group(True).SoAb\n",
    "redsox_away_SoAb = redsox_home_gb.get_group(False).SoAb"
   ]
  },
  {
   "cell_type": "code",
   "execution_count": 473,
   "metadata": {},
   "outputs": [
    {
     "name": "stdout",
     "output_type": "stream",
     "text": [
      "0.18812175291296823\n",
      "0.2538940449109881\n",
      "0.2585494086765249\n",
      "0.21108347759305549\n",
      "0.06577229199801987\n"
     ]
    }
   ],
   "source": [
    "print(astros_home_SoAb.mean())\n",
    "print(yankees_home_SoAb.mean())\n",
    "print(dodgers_home_SoAb.mean())\n",
    "print(redsox_home_SoAb.mean())\n",
    "print(abs(astros_home_SoAb.mean() - yankees_home_SoAb.mean()))"
   ]
  },
  {
   "cell_type": "code",
   "execution_count": 450,
   "metadata": {},
   "outputs": [
    {
     "name": "stdout",
     "output_type": "stream",
     "text": [
      "0.20336894774961192\n",
      "0.24466594275864456\n",
      "0.25466970932233124\n",
      "0.22296091479164296\n",
      "0.05052509716137618\n"
     ]
    }
   ],
   "source": [
    "print(astros_away_SoAb.mean())\n",
    "print(yankees_away_SoAb.mean())\n",
    "print(dodgers_away_SoAb.mean())\n",
    "print(redsox_away_SoAb.mean())\n",
    "print(abs(astros_away_SoAb.mean() - yankees_home_SoAb.mean()))"
   ]
  },
  {
   "cell_type": "markdown",
   "metadata": {},
   "source": [
    "* ## BB/AB"
   ]
  },
  {
   "cell_type": "code",
   "execution_count": 451,
   "metadata": {},
   "outputs": [],
   "source": [
    "astros_home_BbAb = astros_home_gb.get_group(True).BbAb\n",
    "astros_away_BbAb = astros_home_gb.get_group(False).BbAb"
   ]
  },
  {
   "cell_type": "code",
   "execution_count": 452,
   "metadata": {},
   "outputs": [],
   "source": [
    "yankees_home_BbAb = yankees_home_gb.get_group(True).BbAb\n",
    "yankees_away_BbAb = yankees_home_gb.get_group(False).BbAb"
   ]
  },
  {
   "cell_type": "code",
   "execution_count": 453,
   "metadata": {},
   "outputs": [],
   "source": [
    "dodgers_home_BbAb = dodgers_home_gb.get_group(True).BbAb\n",
    "dodgers_away_BbAb = dodgers_home_gb.get_group(False).BbAb"
   ]
  },
  {
   "cell_type": "code",
   "execution_count": 454,
   "metadata": {},
   "outputs": [],
   "source": [
    "redsox_home_BbAb = redsox_home_gb.get_group(True).BbAb\n",
    "redsox_away_BbAb = redsox_home_gb.get_group(False).BbAb"
   ]
  },
  {
   "cell_type": "code",
   "execution_count": 455,
   "metadata": {},
   "outputs": [
    {
     "name": "stdout",
     "output_type": "stream",
     "text": [
      "0.08566245119553516\n",
      "0.1162341190267757\n",
      "0.11739305753859244\n",
      "0.10293266258842577\n",
      "0.030571667831240545\n"
     ]
    }
   ],
   "source": [
    "print(astros_home_BbAb.mean())\n",
    "print(yankees_home_BbAb.mean())\n",
    "print(dodgers_home_BbAb.mean())\n",
    "print(redsox_home_BbAb.mean())\n",
    "print(abs(astros_home_BbAb.mean() - yankees_home_BbAb.mean()))"
   ]
  },
  {
   "cell_type": "code",
   "execution_count": 456,
   "metadata": {},
   "outputs": [
    {
     "name": "stdout",
     "output_type": "stream",
     "text": [
      "0.09646287836801411\n",
      "0.10544476198569479\n",
      "0.11739305753859244\n",
      "0.10293266258842577\n",
      "0.019771240658761596\n"
     ]
    }
   ],
   "source": [
    "print(astros_away_BbAb.mean())\n",
    "print(yankees_away_BbAb.mean())\n",
    "print(dodgers_home_BbAb.mean())\n",
    "print(redsox_home_BbAb.mean())\n",
    "print(abs(astros_away_BbAb.mean() - yankees_home_BbAb.mean()))"
   ]
  },
  {
   "cell_type": "code",
   "execution_count": null,
   "metadata": {},
   "outputs": [],
   "source": []
  },
  {
   "cell_type": "code",
   "execution_count": null,
   "metadata": {},
   "outputs": [],
   "source": []
  },
  {
   "cell_type": "code",
   "execution_count": null,
   "metadata": {},
   "outputs": [],
   "source": []
  },
  {
   "cell_type": "code",
   "execution_count": null,
   "metadata": {},
   "outputs": [],
   "source": []
  },
  {
   "cell_type": "markdown",
   "metadata": {},
   "source": [
    "* Baseball Reference uses MEDIAN over MEAN for all of its averages. Would using MEAN over MEDIAN effect outlieres that may be important for my test?\n",
    "** it would because some games had unusually (exciting) scores. "
   ]
  },
  {
   "cell_type": "code",
   "execution_count": null,
   "metadata": {},
   "outputs": [],
   "source": []
  },
  {
   "cell_type": "code",
   "execution_count": null,
   "metadata": {},
   "outputs": [],
   "source": []
  },
  {
   "cell_type": "code",
   "execution_count": null,
   "metadata": {},
   "outputs": [],
   "source": []
  },
  {
   "cell_type": "code",
   "execution_count": null,
   "metadata": {},
   "outputs": [],
   "source": []
  },
  {
   "cell_type": "code",
   "execution_count": null,
   "metadata": {},
   "outputs": [],
   "source": []
  },
  {
   "cell_type": "code",
   "execution_count": null,
   "metadata": {},
   "outputs": [],
   "source": []
  },
  {
   "cell_type": "code",
   "execution_count": null,
   "metadata": {},
   "outputs": [],
   "source": []
  },
  {
   "cell_type": "code",
   "execution_count": null,
   "metadata": {},
   "outputs": [],
   "source": []
  }
 ],
 "metadata": {
  "kernelspec": {
   "display_name": "Python 3",
   "language": "python",
   "name": "python3"
  },
  "language_info": {
   "codemirror_mode": {
    "name": "ipython",
    "version": 3
   },
   "file_extension": ".py",
   "mimetype": "text/x-python",
   "name": "python",
   "nbconvert_exporter": "python",
   "pygments_lexer": "ipython3",
   "version": "3.7.9"
  }
 },
 "nbformat": 4,
 "nbformat_minor": 4
}
