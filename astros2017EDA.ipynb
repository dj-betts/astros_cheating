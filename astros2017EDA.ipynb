{
 "cells": [
  {
   "cell_type": "code",
   "execution_count": 210,
   "metadata": {},
   "outputs": [],
   "source": [
    "import pandas as pd\n",
    "import numpy as np\n",
    "\n",
    "from pandas.plotting import scatter_matrix\n",
    "\n",
    "from matplotlib import pyplot as plt\n",
    "plt.style.use(\"fivethirtyeight\")\n",
    "\n",
    "pd.options.display.max_columns = 50\n",
    "pd.options.display.max_rows = 100"
   ]
  },
  {
   "cell_type": "code",
   "execution_count": 211,
   "metadata": {},
   "outputs": [],
   "source": [
    "# astros2016 = pd.read_csv(\"data/HOU2016.csv\")\n",
    "astros2017 = pd.read_csv(\"data/HOU2017.csv\")\n",
    "# astros2018 = pd.read_csv(\"data/HOU2018.csv\")\n",
    "# astros2019 = pd.read_csv(\"data/HOU2019.csv\")\n",
    "yankees2017 = pd.read_csv(\"data/NYY2017.csv\")\n",
    "# dodgers2017 = pd.read_csv(\"data/LAD2017.csv\")\n",
    "# redsox2017 = pd.read_csv(\"data/BOS2017.csv\")\n"
   ]
  },
  {
   "cell_type": "code",
   "execution_count": 212,
   "metadata": {},
   "outputs": [],
   "source": [
    "def boolhome(df):\n",
    "    df.dropna(axis=\"index\", how=\"all\", inplace=True, subset=['Gtm'])\n",
    "    df.rename(columns={\"Unnamed: 3\":\"Home\"}, inplace=True)\n",
    "    df.replace({\"Home\":{\"@\": False, np.nan: True}}, inplace=True)\n",
    "    df.drop(\"Unnamed: 0\", axis=1, inplace=True)\n",
    "    df.reset_index(drop=True, inplace=True)\n",
    "    df['GmeSc'] = df['Opp. Starter (GmeSc)'].apply(lambda x: x[-3:-1])\n",
    "    df['so/at'] = df['SO'] / df[\"AB\"]\n",
    "    df['bb/at'] = df['BB'] / df[\"AB\"]\n",
    "#     df['bbsum'] = df[\"BB\"] + df['SO']\n",
    "    #df['GmeSc'].apply(lambda x: x.astype(int))\n",
    "    return df"
   ]
  },
  {
   "cell_type": "code",
   "execution_count": 213,
   "metadata": {},
   "outputs": [],
   "source": [
    "astros2017df = boolhome(astros2017)"
   ]
  },
  {
   "cell_type": "code",
   "execution_count": 214,
   "metadata": {},
   "outputs": [],
   "source": [
    "# astros2017df = boolhome(astros2017)\n",
    "# astros2018df = boolhome(astros2018)\n",
    "# astros2019df = boolhome(astros2019)\n",
    "# astros2016df = boolhome(astros2016)\n",
    "yankees2017df = boolhome(yankees2017)\n",
    "# dodgers2017df = boolhome(dodgers2017)\n",
    "# redsox2017df = boolhome(redsox2017)"
   ]
  },
  {
   "cell_type": "code",
   "execution_count": 215,
   "metadata": {},
   "outputs": [],
   "source": [
    "columns = astros2017df.columns"
   ]
  },
  {
   "cell_type": "code",
   "execution_count": 216,
   "metadata": {},
   "outputs": [],
   "source": [
    "# astros2017df['so/at'] = astros2017df['SO'] / astros2017df[\"AB\"]\n",
    "# astros2017df['bb/at'] = astros2017df['BB'] / astros2017df[\"AB\"]\n",
    "# astros2017df['bbsum'] = astros2017df[\"BB\"] + astros2017df['SO']"
   ]
  },
  {
   "cell_type": "code",
   "execution_count": 217,
   "metadata": {},
   "outputs": [
    {
     "data": {
      "text/html": [
       "<div>\n",
       "<style scoped>\n",
       "    .dataframe tbody tr th:only-of-type {\n",
       "        vertical-align: middle;\n",
       "    }\n",
       "\n",
       "    .dataframe tbody tr th {\n",
       "        vertical-align: top;\n",
       "    }\n",
       "\n",
       "    .dataframe thead th {\n",
       "        text-align: right;\n",
       "    }\n",
       "</style>\n",
       "<table border=\"1\" class=\"dataframe\">\n",
       "  <thead>\n",
       "    <tr style=\"text-align: right;\">\n",
       "      <th></th>\n",
       "      <th>Gtm</th>\n",
       "      <th>Date</th>\n",
       "      <th>Home</th>\n",
       "      <th>Opp</th>\n",
       "      <th>Rslt</th>\n",
       "      <th>PA</th>\n",
       "      <th>AB</th>\n",
       "      <th>R</th>\n",
       "      <th>H</th>\n",
       "      <th>2B</th>\n",
       "      <th>3B</th>\n",
       "      <th>HR</th>\n",
       "      <th>RBI</th>\n",
       "      <th>BB</th>\n",
       "      <th>IBB</th>\n",
       "      <th>SO</th>\n",
       "      <th>HBP</th>\n",
       "      <th>SH</th>\n",
       "      <th>SF</th>\n",
       "      <th>ROE</th>\n",
       "      <th>GDP</th>\n",
       "      <th>SB</th>\n",
       "      <th>CS</th>\n",
       "      <th>BA</th>\n",
       "      <th>OBP</th>\n",
       "      <th>SLG</th>\n",
       "      <th>OPS</th>\n",
       "      <th>LOB</th>\n",
       "      <th>#</th>\n",
       "      <th>Thr</th>\n",
       "      <th>Opp. Starter (GmeSc)</th>\n",
       "      <th>GmeSc</th>\n",
       "      <th>so/at</th>\n",
       "      <th>bb/at</th>\n",
       "    </tr>\n",
       "  </thead>\n",
       "  <tbody>\n",
       "    <tr>\n",
       "      <th>0</th>\n",
       "      <td>1.0</td>\n",
       "      <td>Apr 3</td>\n",
       "      <td>True</td>\n",
       "      <td>SEA</td>\n",
       "      <td>W,3-0</td>\n",
       "      <td>30.0</td>\n",
       "      <td>27.0</td>\n",
       "      <td>3.0</td>\n",
       "      <td>6.0</td>\n",
       "      <td>0.0</td>\n",
       "      <td>0.0</td>\n",
       "      <td>2.0</td>\n",
       "      <td>3.0</td>\n",
       "      <td>1.0</td>\n",
       "      <td>0.0</td>\n",
       "      <td>6.0</td>\n",
       "      <td>0.0</td>\n",
       "      <td>0.0</td>\n",
       "      <td>1.0</td>\n",
       "      <td>0.0</td>\n",
       "      <td>1.0</td>\n",
       "      <td>1.0</td>\n",
       "      <td>0.0</td>\n",
       "      <td>0.222</td>\n",
       "      <td>0.241</td>\n",
       "      <td>0.444</td>\n",
       "      <td>0.686</td>\n",
       "      <td>3.0</td>\n",
       "      <td>10.0</td>\n",
       "      <td>R</td>\n",
       "      <td>F.Hernandez(55)</td>\n",
       "      <td>55</td>\n",
       "      <td>0.222222</td>\n",
       "      <td>0.037037</td>\n",
       "    </tr>\n",
       "    <tr>\n",
       "      <th>1</th>\n",
       "      <td>2.0</td>\n",
       "      <td>Apr 4</td>\n",
       "      <td>True</td>\n",
       "      <td>SEA</td>\n",
       "      <td>W,2-1</td>\n",
       "      <td>29.0</td>\n",
       "      <td>26.0</td>\n",
       "      <td>2.0</td>\n",
       "      <td>5.0</td>\n",
       "      <td>0.0</td>\n",
       "      <td>0.0</td>\n",
       "      <td>2.0</td>\n",
       "      <td>2.0</td>\n",
       "      <td>3.0</td>\n",
       "      <td>0.0</td>\n",
       "      <td>3.0</td>\n",
       "      <td>0.0</td>\n",
       "      <td>0.0</td>\n",
       "      <td>0.0</td>\n",
       "      <td>1.0</td>\n",
       "      <td>2.0</td>\n",
       "      <td>0.0</td>\n",
       "      <td>2.0</td>\n",
       "      <td>0.208</td>\n",
       "      <td>0.259</td>\n",
       "      <td>0.434</td>\n",
       "      <td>0.693</td>\n",
       "      <td>3.0</td>\n",
       "      <td>10.0</td>\n",
       "      <td>R</td>\n",
       "      <td>H.Iwakuma(55)</td>\n",
       "      <td>55</td>\n",
       "      <td>0.115385</td>\n",
       "      <td>0.115385</td>\n",
       "    </tr>\n",
       "    <tr>\n",
       "      <th>2</th>\n",
       "      <td>3.0</td>\n",
       "      <td>Apr 5</td>\n",
       "      <td>True</td>\n",
       "      <td>SEA</td>\n",
       "      <td>W,5-3</td>\n",
       "      <td>55.0</td>\n",
       "      <td>51.0</td>\n",
       "      <td>5.0</td>\n",
       "      <td>13.0</td>\n",
       "      <td>4.0</td>\n",
       "      <td>0.0</td>\n",
       "      <td>1.0</td>\n",
       "      <td>5.0</td>\n",
       "      <td>3.0</td>\n",
       "      <td>0.0</td>\n",
       "      <td>9.0</td>\n",
       "      <td>0.0</td>\n",
       "      <td>1.0</td>\n",
       "      <td>0.0</td>\n",
       "      <td>1.0</td>\n",
       "      <td>2.0</td>\n",
       "      <td>0.0</td>\n",
       "      <td>0.0</td>\n",
       "      <td>0.231</td>\n",
       "      <td>0.277</td>\n",
       "      <td>0.413</td>\n",
       "      <td>0.690</td>\n",
       "      <td>12.0</td>\n",
       "      <td>11.0</td>\n",
       "      <td>L</td>\n",
       "      <td>J.Paxton(72)</td>\n",
       "      <td>72</td>\n",
       "      <td>0.176471</td>\n",
       "      <td>0.058824</td>\n",
       "    </tr>\n",
       "    <tr>\n",
       "      <th>3</th>\n",
       "      <td>4.0</td>\n",
       "      <td>Apr 6</td>\n",
       "      <td>True</td>\n",
       "      <td>SEA</td>\n",
       "      <td>L,2-4</td>\n",
       "      <td>36.0</td>\n",
       "      <td>32.0</td>\n",
       "      <td>2.0</td>\n",
       "      <td>6.0</td>\n",
       "      <td>0.0</td>\n",
       "      <td>0.0</td>\n",
       "      <td>2.0</td>\n",
       "      <td>2.0</td>\n",
       "      <td>3.0</td>\n",
       "      <td>1.0</td>\n",
       "      <td>10.0</td>\n",
       "      <td>1.0</td>\n",
       "      <td>0.0</td>\n",
       "      <td>0.0</td>\n",
       "      <td>1.0</td>\n",
       "      <td>1.0</td>\n",
       "      <td>0.0</td>\n",
       "      <td>0.0</td>\n",
       "      <td>0.221</td>\n",
       "      <td>0.277</td>\n",
       "      <td>0.404</td>\n",
       "      <td>0.681</td>\n",
       "      <td>7.0</td>\n",
       "      <td>11.0</td>\n",
       "      <td>L</td>\n",
       "      <td>A.Miranda(50)</td>\n",
       "      <td>50</td>\n",
       "      <td>0.312500</td>\n",
       "      <td>0.093750</td>\n",
       "    </tr>\n",
       "    <tr>\n",
       "      <th>4</th>\n",
       "      <td>5.0</td>\n",
       "      <td>Apr 7</td>\n",
       "      <td>True</td>\n",
       "      <td>KCR</td>\n",
       "      <td>L,1-5</td>\n",
       "      <td>33.0</td>\n",
       "      <td>30.0</td>\n",
       "      <td>1.0</td>\n",
       "      <td>6.0</td>\n",
       "      <td>1.0</td>\n",
       "      <td>0.0</td>\n",
       "      <td>0.0</td>\n",
       "      <td>1.0</td>\n",
       "      <td>3.0</td>\n",
       "      <td>0.0</td>\n",
       "      <td>8.0</td>\n",
       "      <td>0.0</td>\n",
       "      <td>0.0</td>\n",
       "      <td>0.0</td>\n",
       "      <td>0.0</td>\n",
       "      <td>3.0</td>\n",
       "      <td>0.0</td>\n",
       "      <td>0.0</td>\n",
       "      <td>0.217</td>\n",
       "      <td>0.276</td>\n",
       "      <td>0.373</td>\n",
       "      <td>0.650</td>\n",
       "      <td>5.0</td>\n",
       "      <td>10.0</td>\n",
       "      <td>L</td>\n",
       "      <td>J.Vargas(61)</td>\n",
       "      <td>61</td>\n",
       "      <td>0.266667</td>\n",
       "      <td>0.100000</td>\n",
       "    </tr>\n",
       "  </tbody>\n",
       "</table>\n",
       "</div>"
      ],
      "text/plain": [
       "   Gtm   Date  Home  Opp   Rslt    PA    AB    R     H   2B   3B   HR  RBI  \\\n",
       "0  1.0  Apr 3  True  SEA  W,3-0  30.0  27.0  3.0   6.0  0.0  0.0  2.0  3.0   \n",
       "1  2.0  Apr 4  True  SEA  W,2-1  29.0  26.0  2.0   5.0  0.0  0.0  2.0  2.0   \n",
       "2  3.0  Apr 5  True  SEA  W,5-3  55.0  51.0  5.0  13.0  4.0  0.0  1.0  5.0   \n",
       "3  4.0  Apr 6  True  SEA  L,2-4  36.0  32.0  2.0   6.0  0.0  0.0  2.0  2.0   \n",
       "4  5.0  Apr 7  True  KCR  L,1-5  33.0  30.0  1.0   6.0  1.0  0.0  0.0  1.0   \n",
       "\n",
       "    BB  IBB    SO  HBP   SH   SF  ROE  GDP   SB   CS     BA    OBP    SLG  \\\n",
       "0  1.0  0.0   6.0  0.0  0.0  1.0  0.0  1.0  1.0  0.0  0.222  0.241  0.444   \n",
       "1  3.0  0.0   3.0  0.0  0.0  0.0  1.0  2.0  0.0  2.0  0.208  0.259  0.434   \n",
       "2  3.0  0.0   9.0  0.0  1.0  0.0  1.0  2.0  0.0  0.0  0.231  0.277  0.413   \n",
       "3  3.0  1.0  10.0  1.0  0.0  0.0  1.0  1.0  0.0  0.0  0.221  0.277  0.404   \n",
       "4  3.0  0.0   8.0  0.0  0.0  0.0  0.0  3.0  0.0  0.0  0.217  0.276  0.373   \n",
       "\n",
       "     OPS   LOB     # Thr Opp. Starter (GmeSc) GmeSc     so/at     bb/at  \n",
       "0  0.686   3.0  10.0   R      F.Hernandez(55)    55  0.222222  0.037037  \n",
       "1  0.693   3.0  10.0   R        H.Iwakuma(55)    55  0.115385  0.115385  \n",
       "2  0.690  12.0  11.0   L         J.Paxton(72)    72  0.176471  0.058824  \n",
       "3  0.681   7.0  11.0   L        A.Miranda(50)    50  0.312500  0.093750  \n",
       "4  0.650   5.0  10.0   L         J.Vargas(61)    61  0.266667  0.100000  "
      ]
     },
     "execution_count": 217,
     "metadata": {},
     "output_type": "execute_result"
    }
   ],
   "source": [
    "astros2017df.head()"
   ]
  },
  {
   "cell_type": "code",
   "execution_count": 218,
   "metadata": {},
   "outputs": [
    {
     "data": {
      "text/plain": [
       "<bound method DataFrame.info of        Gtm    Date   Home  Opp    Rslt    PA    AB     R     H   2B   3B   HR  \\\n",
       "0      1.0   Apr 3   True  SEA   W,3-0  30.0  27.0   3.0   6.0  0.0  0.0  2.0   \n",
       "1      2.0   Apr 4   True  SEA   W,2-1  29.0  26.0   2.0   5.0  0.0  0.0  2.0   \n",
       "2      3.0   Apr 5   True  SEA   W,5-3  55.0  51.0   5.0  13.0  4.0  0.0  1.0   \n",
       "3      4.0   Apr 6   True  SEA   L,2-4  36.0  32.0   2.0   6.0  0.0  0.0  2.0   \n",
       "4      5.0   Apr 7   True  KCR   L,1-5  33.0  30.0   1.0   6.0  1.0  0.0  0.0   \n",
       "..     ...     ...    ...  ...     ...   ...   ...   ...   ...  ...  ...  ...   \n",
       "157  158.0  Sep 27  False  TEX  W,12-2  45.0  43.0  12.0  16.0  3.0  0.0  3.0   \n",
       "158  159.0  Sep 28  False  BOS  W,12-2  50.0  44.0  12.0  17.0  4.0  0.0  3.0   \n",
       "159  160.0  Sep 29  False  BOS   W,3-2  36.0  33.0   3.0   6.0  1.0  0.0  1.0   \n",
       "160  161.0  Sep 30  False  BOS   L,3-6  37.0  33.0   3.0   8.0  1.0  0.0  1.0   \n",
       "161  162.0   Oct 1  False  BOS   W,4-3  38.0  33.0   4.0   8.0  2.0  0.0  0.0   \n",
       "\n",
       "      RBI   BB  IBB    SO  HBP   SH   SF  ROE  GDP   SB   CS     BA    OBP  \\\n",
       "0     3.0  1.0  0.0   6.0  0.0  0.0  1.0  0.0  1.0  1.0  0.0  0.222  0.241   \n",
       "1     2.0  3.0  0.0   3.0  0.0  0.0  0.0  1.0  2.0  0.0  2.0  0.208  0.259   \n",
       "2     5.0  3.0  0.0   9.0  0.0  1.0  0.0  1.0  2.0  0.0  0.0  0.231  0.277   \n",
       "3     2.0  3.0  1.0  10.0  1.0  0.0  0.0  1.0  1.0  0.0  0.0  0.221  0.277   \n",
       "4     1.0  3.0  0.0   8.0  0.0  0.0  0.0  0.0  3.0  0.0  0.0  0.217  0.276   \n",
       "..    ...  ...  ...   ...  ...  ...  ...  ...  ...  ...  ...    ...    ...   \n",
       "157  12.0  2.0  0.0   5.0  0.0  0.0  0.0  1.0  1.0  0.0  0.0  0.282  0.345   \n",
       "158  11.0  6.0  1.0  10.0  0.0  0.0  0.0  0.0  0.0  0.0  0.0  0.283  0.346   \n",
       "159   3.0  3.0  1.0   8.0  0.0  0.0  0.0  1.0  0.0  0.0  1.0  0.282  0.346   \n",
       "160   3.0  4.0  0.0   8.0  0.0  0.0  0.0  0.0  1.0  0.0  1.0  0.282  0.346   \n",
       "161   4.0  4.0  0.0  11.0  0.0  0.0  1.0  0.0  0.0  1.0  0.0  0.282  0.346   \n",
       "\n",
       "       SLG    OPS   LOB     # Thr Opp. Starter (GmeSc) GmeSc     so/at  \\\n",
       "0    0.444  0.686   3.0  10.0   R      F.Hernandez(55)    55  0.222222   \n",
       "1    0.434  0.693   3.0  10.0   R        H.Iwakuma(55)    55  0.115385   \n",
       "2    0.413  0.690  12.0  11.0   L         J.Paxton(72)    72  0.176471   \n",
       "3    0.404  0.681   7.0  11.0   L        A.Miranda(50)    50  0.312500   \n",
       "4    0.373  0.650   5.0  10.0   L         J.Vargas(61)    61  0.266667   \n",
       "..     ...    ...   ...   ...  ..                  ...   ...       ...   \n",
       "157  0.479  0.824   6.0  14.0   R       N.Martinez(24)    24  0.116279   \n",
       "158  0.481  0.827  11.0  16.0   L      E.Rodriguez(23)    23  0.227273   \n",
       "159  0.480  0.825   6.0  11.0   R         D.Fister(50)    50  0.242424   \n",
       "160  0.479  0.825   7.0  11.0   L       D.Pomeranz(63)    63  0.242424   \n",
       "161  0.478  0.823   7.0  12.0   R      H.Velazquez(58)    58  0.333333   \n",
       "\n",
       "        bb/at  \n",
       "0    0.037037  \n",
       "1    0.115385  \n",
       "2    0.058824  \n",
       "3    0.093750  \n",
       "4    0.100000  \n",
       "..        ...  \n",
       "157  0.046512  \n",
       "158  0.136364  \n",
       "159  0.090909  \n",
       "160  0.121212  \n",
       "161  0.121212  \n",
       "\n",
       "[162 rows x 34 columns]>"
      ]
     },
     "execution_count": 218,
     "metadata": {},
     "output_type": "execute_result"
    }
   ],
   "source": [
    "astros2017df.info"
   ]
  },
  {
   "cell_type": "code",
   "execution_count": 219,
   "metadata": {},
   "outputs": [
    {
     "data": {
      "text/html": [
       "<div>\n",
       "<style scoped>\n",
       "    .dataframe tbody tr th:only-of-type {\n",
       "        vertical-align: middle;\n",
       "    }\n",
       "\n",
       "    .dataframe tbody tr th {\n",
       "        vertical-align: top;\n",
       "    }\n",
       "\n",
       "    .dataframe thead th {\n",
       "        text-align: right;\n",
       "    }\n",
       "</style>\n",
       "<table border=\"1\" class=\"dataframe\">\n",
       "  <thead>\n",
       "    <tr style=\"text-align: right;\">\n",
       "      <th></th>\n",
       "      <th>Gtm</th>\n",
       "      <th>Date</th>\n",
       "      <th>Home</th>\n",
       "      <th>Opp</th>\n",
       "      <th>Rslt</th>\n",
       "      <th>PA</th>\n",
       "      <th>AB</th>\n",
       "      <th>R</th>\n",
       "      <th>H</th>\n",
       "      <th>2B</th>\n",
       "      <th>3B</th>\n",
       "      <th>HR</th>\n",
       "      <th>RBI</th>\n",
       "      <th>BB</th>\n",
       "      <th>IBB</th>\n",
       "      <th>SO</th>\n",
       "      <th>HBP</th>\n",
       "      <th>SH</th>\n",
       "      <th>SF</th>\n",
       "      <th>ROE</th>\n",
       "      <th>GDP</th>\n",
       "      <th>SB</th>\n",
       "      <th>CS</th>\n",
       "      <th>BA</th>\n",
       "      <th>OBP</th>\n",
       "      <th>SLG</th>\n",
       "      <th>OPS</th>\n",
       "      <th>LOB</th>\n",
       "      <th>#</th>\n",
       "      <th>Thr</th>\n",
       "      <th>Opp. Starter (GmeSc)</th>\n",
       "      <th>GmeSc</th>\n",
       "      <th>so/at</th>\n",
       "      <th>bb/at</th>\n",
       "    </tr>\n",
       "  </thead>\n",
       "  <tbody>\n",
       "    <tr>\n",
       "      <th>0</th>\n",
       "      <td>1.0</td>\n",
       "      <td>Apr 3</td>\n",
       "      <td>True</td>\n",
       "      <td>SEA</td>\n",
       "      <td>W,3-0</td>\n",
       "      <td>30.0</td>\n",
       "      <td>27.0</td>\n",
       "      <td>3.0</td>\n",
       "      <td>6.0</td>\n",
       "      <td>0.0</td>\n",
       "      <td>0.0</td>\n",
       "      <td>2.0</td>\n",
       "      <td>3.0</td>\n",
       "      <td>1.0</td>\n",
       "      <td>0.0</td>\n",
       "      <td>6.0</td>\n",
       "      <td>0.0</td>\n",
       "      <td>0.0</td>\n",
       "      <td>1.0</td>\n",
       "      <td>0.0</td>\n",
       "      <td>1.0</td>\n",
       "      <td>1.0</td>\n",
       "      <td>0.0</td>\n",
       "      <td>0.222</td>\n",
       "      <td>0.241</td>\n",
       "      <td>0.444</td>\n",
       "      <td>0.686</td>\n",
       "      <td>3.0</td>\n",
       "      <td>10.0</td>\n",
       "      <td>R</td>\n",
       "      <td>F.Hernandez(55)</td>\n",
       "      <td>55</td>\n",
       "      <td>0.222222</td>\n",
       "      <td>0.037037</td>\n",
       "    </tr>\n",
       "    <tr>\n",
       "      <th>1</th>\n",
       "      <td>2.0</td>\n",
       "      <td>Apr 4</td>\n",
       "      <td>True</td>\n",
       "      <td>SEA</td>\n",
       "      <td>W,2-1</td>\n",
       "      <td>29.0</td>\n",
       "      <td>26.0</td>\n",
       "      <td>2.0</td>\n",
       "      <td>5.0</td>\n",
       "      <td>0.0</td>\n",
       "      <td>0.0</td>\n",
       "      <td>2.0</td>\n",
       "      <td>2.0</td>\n",
       "      <td>3.0</td>\n",
       "      <td>0.0</td>\n",
       "      <td>3.0</td>\n",
       "      <td>0.0</td>\n",
       "      <td>0.0</td>\n",
       "      <td>0.0</td>\n",
       "      <td>1.0</td>\n",
       "      <td>2.0</td>\n",
       "      <td>0.0</td>\n",
       "      <td>2.0</td>\n",
       "      <td>0.208</td>\n",
       "      <td>0.259</td>\n",
       "      <td>0.434</td>\n",
       "      <td>0.693</td>\n",
       "      <td>3.0</td>\n",
       "      <td>10.0</td>\n",
       "      <td>R</td>\n",
       "      <td>H.Iwakuma(55)</td>\n",
       "      <td>55</td>\n",
       "      <td>0.115385</td>\n",
       "      <td>0.115385</td>\n",
       "    </tr>\n",
       "    <tr>\n",
       "      <th>2</th>\n",
       "      <td>3.0</td>\n",
       "      <td>Apr 5</td>\n",
       "      <td>True</td>\n",
       "      <td>SEA</td>\n",
       "      <td>W,5-3</td>\n",
       "      <td>55.0</td>\n",
       "      <td>51.0</td>\n",
       "      <td>5.0</td>\n",
       "      <td>13.0</td>\n",
       "      <td>4.0</td>\n",
       "      <td>0.0</td>\n",
       "      <td>1.0</td>\n",
       "      <td>5.0</td>\n",
       "      <td>3.0</td>\n",
       "      <td>0.0</td>\n",
       "      <td>9.0</td>\n",
       "      <td>0.0</td>\n",
       "      <td>1.0</td>\n",
       "      <td>0.0</td>\n",
       "      <td>1.0</td>\n",
       "      <td>2.0</td>\n",
       "      <td>0.0</td>\n",
       "      <td>0.0</td>\n",
       "      <td>0.231</td>\n",
       "      <td>0.277</td>\n",
       "      <td>0.413</td>\n",
       "      <td>0.690</td>\n",
       "      <td>12.0</td>\n",
       "      <td>11.0</td>\n",
       "      <td>L</td>\n",
       "      <td>J.Paxton(72)</td>\n",
       "      <td>72</td>\n",
       "      <td>0.176471</td>\n",
       "      <td>0.058824</td>\n",
       "    </tr>\n",
       "    <tr>\n",
       "      <th>3</th>\n",
       "      <td>4.0</td>\n",
       "      <td>Apr 6</td>\n",
       "      <td>True</td>\n",
       "      <td>SEA</td>\n",
       "      <td>L,2-4</td>\n",
       "      <td>36.0</td>\n",
       "      <td>32.0</td>\n",
       "      <td>2.0</td>\n",
       "      <td>6.0</td>\n",
       "      <td>0.0</td>\n",
       "      <td>0.0</td>\n",
       "      <td>2.0</td>\n",
       "      <td>2.0</td>\n",
       "      <td>3.0</td>\n",
       "      <td>1.0</td>\n",
       "      <td>10.0</td>\n",
       "      <td>1.0</td>\n",
       "      <td>0.0</td>\n",
       "      <td>0.0</td>\n",
       "      <td>1.0</td>\n",
       "      <td>1.0</td>\n",
       "      <td>0.0</td>\n",
       "      <td>0.0</td>\n",
       "      <td>0.221</td>\n",
       "      <td>0.277</td>\n",
       "      <td>0.404</td>\n",
       "      <td>0.681</td>\n",
       "      <td>7.0</td>\n",
       "      <td>11.0</td>\n",
       "      <td>L</td>\n",
       "      <td>A.Miranda(50)</td>\n",
       "      <td>50</td>\n",
       "      <td>0.312500</td>\n",
       "      <td>0.093750</td>\n",
       "    </tr>\n",
       "    <tr>\n",
       "      <th>4</th>\n",
       "      <td>5.0</td>\n",
       "      <td>Apr 7</td>\n",
       "      <td>True</td>\n",
       "      <td>KCR</td>\n",
       "      <td>L,1-5</td>\n",
       "      <td>33.0</td>\n",
       "      <td>30.0</td>\n",
       "      <td>1.0</td>\n",
       "      <td>6.0</td>\n",
       "      <td>1.0</td>\n",
       "      <td>0.0</td>\n",
       "      <td>0.0</td>\n",
       "      <td>1.0</td>\n",
       "      <td>3.0</td>\n",
       "      <td>0.0</td>\n",
       "      <td>8.0</td>\n",
       "      <td>0.0</td>\n",
       "      <td>0.0</td>\n",
       "      <td>0.0</td>\n",
       "      <td>0.0</td>\n",
       "      <td>3.0</td>\n",
       "      <td>0.0</td>\n",
       "      <td>0.0</td>\n",
       "      <td>0.217</td>\n",
       "      <td>0.276</td>\n",
       "      <td>0.373</td>\n",
       "      <td>0.650</td>\n",
       "      <td>5.0</td>\n",
       "      <td>10.0</td>\n",
       "      <td>L</td>\n",
       "      <td>J.Vargas(61)</td>\n",
       "      <td>61</td>\n",
       "      <td>0.266667</td>\n",
       "      <td>0.100000</td>\n",
       "    </tr>\n",
       "  </tbody>\n",
       "</table>\n",
       "</div>"
      ],
      "text/plain": [
       "   Gtm   Date  Home  Opp   Rslt    PA    AB    R     H   2B   3B   HR  RBI  \\\n",
       "0  1.0  Apr 3  True  SEA  W,3-0  30.0  27.0  3.0   6.0  0.0  0.0  2.0  3.0   \n",
       "1  2.0  Apr 4  True  SEA  W,2-1  29.0  26.0  2.0   5.0  0.0  0.0  2.0  2.0   \n",
       "2  3.0  Apr 5  True  SEA  W,5-3  55.0  51.0  5.0  13.0  4.0  0.0  1.0  5.0   \n",
       "3  4.0  Apr 6  True  SEA  L,2-4  36.0  32.0  2.0   6.0  0.0  0.0  2.0  2.0   \n",
       "4  5.0  Apr 7  True  KCR  L,1-5  33.0  30.0  1.0   6.0  1.0  0.0  0.0  1.0   \n",
       "\n",
       "    BB  IBB    SO  HBP   SH   SF  ROE  GDP   SB   CS     BA    OBP    SLG  \\\n",
       "0  1.0  0.0   6.0  0.0  0.0  1.0  0.0  1.0  1.0  0.0  0.222  0.241  0.444   \n",
       "1  3.0  0.0   3.0  0.0  0.0  0.0  1.0  2.0  0.0  2.0  0.208  0.259  0.434   \n",
       "2  3.0  0.0   9.0  0.0  1.0  0.0  1.0  2.0  0.0  0.0  0.231  0.277  0.413   \n",
       "3  3.0  1.0  10.0  1.0  0.0  0.0  1.0  1.0  0.0  0.0  0.221  0.277  0.404   \n",
       "4  3.0  0.0   8.0  0.0  0.0  0.0  0.0  3.0  0.0  0.0  0.217  0.276  0.373   \n",
       "\n",
       "     OPS   LOB     # Thr Opp. Starter (GmeSc) GmeSc     so/at     bb/at  \n",
       "0  0.686   3.0  10.0   R      F.Hernandez(55)    55  0.222222  0.037037  \n",
       "1  0.693   3.0  10.0   R        H.Iwakuma(55)    55  0.115385  0.115385  \n",
       "2  0.690  12.0  11.0   L         J.Paxton(72)    72  0.176471  0.058824  \n",
       "3  0.681   7.0  11.0   L        A.Miranda(50)    50  0.312500  0.093750  \n",
       "4  0.650   5.0  10.0   L         J.Vargas(61)    61  0.266667  0.100000  "
      ]
     },
     "execution_count": 219,
     "metadata": {},
     "output_type": "execute_result"
    }
   ],
   "source": [
    "astros2017df.head()"
   ]
  },
  {
   "cell_type": "code",
   "execution_count": 226,
   "metadata": {},
   "outputs": [],
   "source": [
    "# astros2017df.dropna(axis=\"index\", how=\"all\", inplace=True)"
   ]
  },
  {
   "cell_type": "code",
   "execution_count": null,
   "metadata": {},
   "outputs": [],
   "source": []
  },
  {
   "cell_type": "code",
   "execution_count": null,
   "metadata": {},
   "outputs": [],
   "source": []
  },
  {
   "cell_type": "code",
   "execution_count": 227,
   "metadata": {},
   "outputs": [],
   "source": [
    "#astros2017df.head()"
   ]
  },
  {
   "cell_type": "code",
   "execution_count": 228,
   "metadata": {},
   "outputs": [],
   "source": [
    "#astros2017df.tail()"
   ]
  },
  {
   "cell_type": "code",
   "execution_count": 229,
   "metadata": {},
   "outputs": [],
   "source": [
    "#astros2017df.describe()"
   ]
  },
  {
   "cell_type": "code",
   "execution_count": 230,
   "metadata": {},
   "outputs": [],
   "source": [
    "#astros2017df.OBP\n",
    "#yankees2017df.OBP"
   ]
  },
  {
   "cell_type": "code",
   "execution_count": 231,
   "metadata": {},
   "outputs": [],
   "source": [
    "# #astros2017df.OBP.plot.line()\n",
    "# #yankees2017df.OBP.plot.line()\n",
    "# dodgers2017df.OBP.plot.line()\n",
    "# #redsox2017df.OBP.plot.line();"
   ]
  },
  {
   "cell_type": "code",
   "execution_count": 232,
   "metadata": {},
   "outputs": [],
   "source": [
    "#dodgers2017df.head(10)"
   ]
  },
  {
   "cell_type": "markdown",
   "metadata": {},
   "source": [
    "# GROUPBY home/away"
   ]
  },
  {
   "cell_type": "code",
   "execution_count": 241,
   "metadata": {},
   "outputs": [],
   "source": [
    "astros_home_gb = astros2017df.groupby(\"Home\")\n",
    "yankees_home_gb = yankees2017df.groupby(\"Home\")\n",
    "# dodgers_home_gb = dodgers2017df.groupby(\"Home\")\n",
    "# redsox_home_gb = redsox2017df.groupby(\"Home\")"
   ]
  },
  {
   "cell_type": "markdown",
   "metadata": {},
   "source": [
    "* ## OBP advantage"
   ]
  },
  {
   "cell_type": "code",
   "execution_count": 242,
   "metadata": {},
   "outputs": [],
   "source": [
    "astros_home_obp = astros_home_gb.get_group(True).OBP\n",
    "astros_away_obp = astros_home_gb.get_group(False).OBP"
   ]
  },
  {
   "cell_type": "code",
   "execution_count": 243,
   "metadata": {},
   "outputs": [],
   "source": [
    "yankees_home_obp = yankees_home_gb.get_group(True).OBP\n",
    "yankees_away_obp = yankees_home_gb.get_group(False).OBP"
   ]
  },
  {
   "cell_type": "code",
   "execution_count": 246,
   "metadata": {},
   "outputs": [
    {
     "name": "stdout",
     "output_type": "stream",
     "text": [
      "0.3432160493827158\n",
      "0.3413271604938275\n"
     ]
    }
   ],
   "source": [
    "print(astros2017df.OBP.mean())\n",
    "print(yankees2017df.OBP.mean())"
   ]
  },
  {
   "cell_type": "code",
   "execution_count": 247,
   "metadata": {},
   "outputs": [
    {
     "name": "stdout",
     "output_type": "stream",
     "text": [
      "0.3400370370370371\n",
      "0.34225925925925904\n"
     ]
    }
   ],
   "source": [
    "print(astros_home_obp.mean())\n",
    "print(yankees_home_obp.mean())"
   ]
  },
  {
   "cell_type": "code",
   "execution_count": 248,
   "metadata": {},
   "outputs": [
    {
     "name": "stdout",
     "output_type": "stream",
     "text": [
      "0.3463950617283951\n",
      "0.3403950617283949\n"
     ]
    }
   ],
   "source": [
    "print(astros_away_obp.mean())\n",
    "print(yankees_away_obp.mean())"
   ]
  },
  {
   "cell_type": "code",
   "execution_count": 238,
   "metadata": {},
   "outputs": [],
   "source": [
    "#home.get_group(True).OBP.plot.line()"
   ]
  },
  {
   "cell_type": "code",
   "execution_count": 239,
   "metadata": {},
   "outputs": [
    {
     "data": {
      "image/png": "[encoded data removed]",
      "text/plain": [
       "<Figure size 432x288 with 1 Axes>"
      ]
     },
     "metadata": {},
     "output_type": "display_data"
    }
   ],
   "source": [
    "astros_away_obp.plot.line()\n",
    "astros_home_obp.plot.line();"
   ]
  },
  {
   "cell_type": "markdown",
   "metadata": {},
   "source": [
    "#### Is On Base Percentage (OBP) a rolling/weighted average? Can I parce HOME vs AWAY games? Should I consider a different stat like Strikeouts (SO)?"
   ]
  },
  {
   "cell_type": "markdown",
   "metadata": {},
   "source": [
    "* ## SO advantage"
   ]
  },
  {
   "cell_type": "code",
   "execution_count": 193,
   "metadata": {},
   "outputs": [],
   "source": [
    "astros_home_so = astros_home_gb.get_group(True).SO\n",
    "astros_away_so = astros_home_gb.get_group(False).SO"
   ]
  },
  {
   "cell_type": "code",
   "execution_count": 249,
   "metadata": {},
   "outputs": [],
   "source": [
    "yankees_home_so = yankees_home_gb.get_group(True).SO\n",
    "yankees_away_so = yankees_home_gb.get_group(False).SO"
   ]
  },
  {
   "cell_type": "code",
   "execution_count": 253,
   "metadata": {},
   "outputs": [],
   "source": [
    "astros_home_so_desc = astros_home_so.describe()"
   ]
  },
  {
   "cell_type": "code",
   "execution_count": 254,
   "metadata": {},
   "outputs": [
    {
     "name": "stdout",
     "output_type": "stream",
     "text": [
      "6.197530864197531\n",
      "8.407407407407407\n"
     ]
    }
   ],
   "source": [
    "print(astros_home_so.mean())\n",
    "print(yankees_home_so.mean())"
   ]
  },
  {
   "cell_type": "code",
   "execution_count": 255,
   "metadata": {},
   "outputs": [
    {
     "name": "stdout",
     "output_type": "stream",
     "text": [
      "7.222222222222222\n",
      "8.703703703703704\n"
     ]
    }
   ],
   "source": [
    "print(astros_away_so.mean())\n",
    "print(yankees_away_so.mean())"
   ]
  },
  {
   "cell_type": "markdown",
   "metadata": {},
   "source": [
    "* ## SS/AT"
   ]
  },
  {
   "cell_type": "code",
   "execution_count": 257,
   "metadata": {},
   "outputs": [
    {
     "ename": "SyntaxError",
     "evalue": "can't assign to operator (<ipython-input-257-094b584b0332>, line 1)",
     "output_type": "error",
     "traceback": [
      "\u001b[0;36m  File \u001b[0;32m\"<ipython-input-257-094b584b0332>\"\u001b[0;36m, line \u001b[0;32m1\u001b[0m\n\u001b[0;31m    astros_home_so-ab = astros_home_gb.get_group(True).so/ab\u001b[0m\n\u001b[0m                                                            ^\u001b[0m\n\u001b[0;31mSyntaxError\u001b[0m\u001b[0;31m:\u001b[0m can't assign to operator\n"
     ]
    }
   ],
   "source": [
    "astros_home_so-ab = astros_home_gb.get_group(True).so/ab\n",
    "astros_away_so-ab = astros_home_gb.get_group(False).SO"
   ]
  },
  {
   "cell_type": "code",
   "execution_count": null,
   "metadata": {},
   "outputs": [],
   "source": []
  },
  {
   "cell_type": "markdown",
   "metadata": {},
   "source": [
    "plotting describe"
   ]
  },
  {
   "cell_type": "code",
   "execution_count": 190,
   "metadata": {},
   "outputs": [],
   "source": [
    "astros_home_db_desc = astros_home_gb.describe()"
   ]
  },
  {
   "cell_type": "code",
   "execution_count": 191,
   "metadata": {},
   "outputs": [
    {
     "data": {
      "text/plain": [
       "MultiIndex([('Gtm', 'count'),\n",
       "            ('Gtm',  'mean'),\n",
       "            ('Gtm',   'std'),\n",
       "            ('Gtm',   'min'),\n",
       "            ('Gtm',   '25%'),\n",
       "            ('Gtm',   '50%'),\n",
       "            ('Gtm',   '75%'),\n",
       "            ('Gtm',   'max'),\n",
       "            ( 'PA', 'count'),\n",
       "            ( 'PA',  'mean'),\n",
       "            ...\n",
       "            ('LOB',   '75%'),\n",
       "            ('LOB',   'max'),\n",
       "            (  '#', 'count'),\n",
       "            (  '#',  'mean'),\n",
       "            (  '#',   'std'),\n",
       "            (  '#',   'min'),\n",
       "            (  '#',   '25%'),\n",
       "            (  '#',   '50%'),\n",
       "            (  '#',   '75%'),\n",
       "            (  '#',   'max')],\n",
       "           length=200)"
      ]
     },
     "execution_count": 191,
     "metadata": {},
     "output_type": "execute_result"
    }
   ],
   "source": [
    "astros_home_db_desc.columns"
   ]
  },
  {
   "cell_type": "code",
   "execution_count": null,
   "metadata": {},
   "outputs": [],
   "source": []
  },
  {
   "cell_type": "code",
   "execution_count": null,
   "metadata": {},
   "outputs": [],
   "source": []
  },
  {
   "cell_type": "code",
   "execution_count": null,
   "metadata": {},
   "outputs": [],
   "source": []
  },
  {
   "cell_type": "code",
   "execution_count": null,
   "metadata": {},
   "outputs": [],
   "source": []
  },
  {
   "cell_type": "code",
   "execution_count": null,
   "metadata": {},
   "outputs": [],
   "source": []
  },
  {
   "cell_type": "code",
   "execution_count": null,
   "metadata": {},
   "outputs": [],
   "source": []
  },
  {
   "cell_type": "code",
   "execution_count": null,
   "metadata": {},
   "outputs": [],
   "source": []
  },
  {
   "cell_type": "code",
   "execution_count": null,
   "metadata": {},
   "outputs": [],
   "source": []
  },
  {
   "cell_type": "code",
   "execution_count": null,
   "metadata": {},
   "outputs": [],
   "source": []
  }
 ],
 "metadata": {
  "kernelspec": {
   "display_name": "Python 3",
   "language": "python",
   "name": "python3"
  },
  "language_info": {
   "codemirror_mode": {
    "name": "ipython",
    "version": 3
   },
   "file_extension": ".py",
   "mimetype": "text/x-python",
   "name": "python",
   "nbconvert_exporter": "python",
   "pygments_lexer": "ipython3",
   "version": "3.7.9"
  }
 },
 "nbformat": 4,
 "nbformat_minor": 4
}
