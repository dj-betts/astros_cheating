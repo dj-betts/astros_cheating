{
 "cells": [
  {
   "cell_type": "code",
   "execution_count": 1,
   "metadata": {},
   "outputs": [],
   "source": [
    "import pandas as pd\n",
    "import numpy as np\n",
    "from scipy import stats\n",
    "\n",
    "from pandas.plotting import scatter_matrix\n",
    "\n",
    "from matplotlib import pyplot as plt\n",
    "plt.style.use(\"fivethirtyeight\")\n",
    "\n",
    "pd.options.display.max_columns = 50\n",
    "pd.options.display.max_rows = 100"
   ]
  },
  {
   "cell_type": "code",
   "execution_count": 2,
   "metadata": {},
   "outputs": [
    {
     "ename": "FileNotFoundError",
     "evalue": "[Errno 2] No such file or directory: 'data/HOU2017.csv'",
     "output_type": "error",
     "traceback": [
      "\u001b[0;31m---------------------------------------------------------------------------\u001b[0m",
      "\u001b[0;31mFileNotFoundError\u001b[0m                         Traceback (most recent call last)",
      "\u001b[0;32m<ipython-input-2-7f694165bf81>\u001b[0m in \u001b[0;36m<module>\u001b[0;34m\u001b[0m\n\u001b[1;32m      1\u001b[0m \u001b[0;31m# astros2016 = pd.read_csv(\"data/HOU2016.csv\")\u001b[0m\u001b[0;34m\u001b[0m\u001b[0;34m\u001b[0m\u001b[0;34m\u001b[0m\u001b[0m\n\u001b[0;32m----> 2\u001b[0;31m \u001b[0mastros2017\u001b[0m \u001b[0;34m=\u001b[0m \u001b[0mpd\u001b[0m\u001b[0;34m.\u001b[0m\u001b[0mread_csv\u001b[0m\u001b[0;34m(\u001b[0m\u001b[0;34m\"data/HOU2017.csv\"\u001b[0m\u001b[0;34m)\u001b[0m\u001b[0;34m\u001b[0m\u001b[0;34m\u001b[0m\u001b[0m\n\u001b[0m\u001b[1;32m      3\u001b[0m \u001b[0;31m# astros2018 = pd.read_csv(\"data/HOU2018.csv\")\u001b[0m\u001b[0;34m\u001b[0m\u001b[0;34m\u001b[0m\u001b[0;34m\u001b[0m\u001b[0m\n\u001b[1;32m      4\u001b[0m \u001b[0mastros2019\u001b[0m \u001b[0;34m=\u001b[0m \u001b[0mpd\u001b[0m\u001b[0;34m.\u001b[0m\u001b[0mread_csv\u001b[0m\u001b[0;34m(\u001b[0m\u001b[0;34m\"data/HOU2019.csv\"\u001b[0m\u001b[0;34m)\u001b[0m\u001b[0;34m\u001b[0m\u001b[0;34m\u001b[0m\u001b[0m\n\u001b[1;32m      5\u001b[0m \u001b[0myankees2017\u001b[0m \u001b[0;34m=\u001b[0m \u001b[0mpd\u001b[0m\u001b[0;34m.\u001b[0m\u001b[0mread_csv\u001b[0m\u001b[0;34m(\u001b[0m\u001b[0;34m\"data/NYY2017.csv\"\u001b[0m\u001b[0;34m)\u001b[0m\u001b[0;34m\u001b[0m\u001b[0;34m\u001b[0m\u001b[0m\n",
      "\u001b[0;32m~/opt/anaconda3/lib/python3.7/site-packages/pandas/io/parsers.py\u001b[0m in \u001b[0;36mread_csv\u001b[0;34m(filepath_or_buffer, sep, delimiter, header, names, index_col, usecols, squeeze, prefix, mangle_dupe_cols, dtype, engine, converters, true_values, false_values, skipinitialspace, skiprows, skipfooter, nrows, na_values, keep_default_na, na_filter, verbose, skip_blank_lines, parse_dates, infer_datetime_format, keep_date_col, date_parser, dayfirst, cache_dates, iterator, chunksize, compression, thousands, decimal, lineterminator, quotechar, quoting, doublequote, escapechar, comment, encoding, dialect, error_bad_lines, warn_bad_lines, delim_whitespace, low_memory, memory_map, float_precision)\u001b[0m\n\u001b[1;32m    684\u001b[0m     )\n\u001b[1;32m    685\u001b[0m \u001b[0;34m\u001b[0m\u001b[0m\n\u001b[0;32m--> 686\u001b[0;31m     \u001b[0;32mreturn\u001b[0m \u001b[0m_read\u001b[0m\u001b[0;34m(\u001b[0m\u001b[0mfilepath_or_buffer\u001b[0m\u001b[0;34m,\u001b[0m \u001b[0mkwds\u001b[0m\u001b[0;34m)\u001b[0m\u001b[0;34m\u001b[0m\u001b[0;34m\u001b[0m\u001b[0m\n\u001b[0m\u001b[1;32m    687\u001b[0m \u001b[0;34m\u001b[0m\u001b[0m\n\u001b[1;32m    688\u001b[0m \u001b[0;34m\u001b[0m\u001b[0m\n",
      "\u001b[0;32m~/opt/anaconda3/lib/python3.7/site-packages/pandas/io/parsers.py\u001b[0m in \u001b[0;36m_read\u001b[0;34m(filepath_or_buffer, kwds)\u001b[0m\n\u001b[1;32m    450\u001b[0m \u001b[0;34m\u001b[0m\u001b[0m\n\u001b[1;32m    451\u001b[0m     \u001b[0;31m# Create the parser.\u001b[0m\u001b[0;34m\u001b[0m\u001b[0;34m\u001b[0m\u001b[0;34m\u001b[0m\u001b[0m\n\u001b[0;32m--> 452\u001b[0;31m     \u001b[0mparser\u001b[0m \u001b[0;34m=\u001b[0m \u001b[0mTextFileReader\u001b[0m\u001b[0;34m(\u001b[0m\u001b[0mfp_or_buf\u001b[0m\u001b[0;34m,\u001b[0m \u001b[0;34m**\u001b[0m\u001b[0mkwds\u001b[0m\u001b[0;34m)\u001b[0m\u001b[0;34m\u001b[0m\u001b[0;34m\u001b[0m\u001b[0m\n\u001b[0m\u001b[1;32m    453\u001b[0m \u001b[0;34m\u001b[0m\u001b[0m\n\u001b[1;32m    454\u001b[0m     \u001b[0;32mif\u001b[0m \u001b[0mchunksize\u001b[0m \u001b[0;32mor\u001b[0m \u001b[0miterator\u001b[0m\u001b[0;34m:\u001b[0m\u001b[0;34m\u001b[0m\u001b[0;34m\u001b[0m\u001b[0m\n",
      "\u001b[0;32m~/opt/anaconda3/lib/python3.7/site-packages/pandas/io/parsers.py\u001b[0m in \u001b[0;36m__init__\u001b[0;34m(self, f, engine, **kwds)\u001b[0m\n\u001b[1;32m    944\u001b[0m             \u001b[0mself\u001b[0m\u001b[0;34m.\u001b[0m\u001b[0moptions\u001b[0m\u001b[0;34m[\u001b[0m\u001b[0;34m\"has_index_names\"\u001b[0m\u001b[0;34m]\u001b[0m \u001b[0;34m=\u001b[0m \u001b[0mkwds\u001b[0m\u001b[0;34m[\u001b[0m\u001b[0;34m\"has_index_names\"\u001b[0m\u001b[0;34m]\u001b[0m\u001b[0;34m\u001b[0m\u001b[0;34m\u001b[0m\u001b[0m\n\u001b[1;32m    945\u001b[0m \u001b[0;34m\u001b[0m\u001b[0m\n\u001b[0;32m--> 946\u001b[0;31m         \u001b[0mself\u001b[0m\u001b[0;34m.\u001b[0m\u001b[0m_make_engine\u001b[0m\u001b[0;34m(\u001b[0m\u001b[0mself\u001b[0m\u001b[0;34m.\u001b[0m\u001b[0mengine\u001b[0m\u001b[0;34m)\u001b[0m\u001b[0;34m\u001b[0m\u001b[0;34m\u001b[0m\u001b[0m\n\u001b[0m\u001b[1;32m    947\u001b[0m \u001b[0;34m\u001b[0m\u001b[0m\n\u001b[1;32m    948\u001b[0m     \u001b[0;32mdef\u001b[0m \u001b[0mclose\u001b[0m\u001b[0;34m(\u001b[0m\u001b[0mself\u001b[0m\u001b[0;34m)\u001b[0m\u001b[0;34m:\u001b[0m\u001b[0;34m\u001b[0m\u001b[0;34m\u001b[0m\u001b[0m\n",
      "\u001b[0;32m~/opt/anaconda3/lib/python3.7/site-packages/pandas/io/parsers.py\u001b[0m in \u001b[0;36m_make_engine\u001b[0;34m(self, engine)\u001b[0m\n\u001b[1;32m   1176\u001b[0m     \u001b[0;32mdef\u001b[0m \u001b[0m_make_engine\u001b[0m\u001b[0;34m(\u001b[0m\u001b[0mself\u001b[0m\u001b[0;34m,\u001b[0m \u001b[0mengine\u001b[0m\u001b[0;34m=\u001b[0m\u001b[0;34m\"c\"\u001b[0m\u001b[0;34m)\u001b[0m\u001b[0;34m:\u001b[0m\u001b[0;34m\u001b[0m\u001b[0;34m\u001b[0m\u001b[0m\n\u001b[1;32m   1177\u001b[0m         \u001b[0;32mif\u001b[0m \u001b[0mengine\u001b[0m \u001b[0;34m==\u001b[0m \u001b[0;34m\"c\"\u001b[0m\u001b[0;34m:\u001b[0m\u001b[0;34m\u001b[0m\u001b[0;34m\u001b[0m\u001b[0m\n\u001b[0;32m-> 1178\u001b[0;31m             \u001b[0mself\u001b[0m\u001b[0;34m.\u001b[0m\u001b[0m_engine\u001b[0m \u001b[0;34m=\u001b[0m \u001b[0mCParserWrapper\u001b[0m\u001b[0;34m(\u001b[0m\u001b[0mself\u001b[0m\u001b[0;34m.\u001b[0m\u001b[0mf\u001b[0m\u001b[0;34m,\u001b[0m \u001b[0;34m**\u001b[0m\u001b[0mself\u001b[0m\u001b[0;34m.\u001b[0m\u001b[0moptions\u001b[0m\u001b[0;34m)\u001b[0m\u001b[0;34m\u001b[0m\u001b[0;34m\u001b[0m\u001b[0m\n\u001b[0m\u001b[1;32m   1179\u001b[0m         \u001b[0;32melse\u001b[0m\u001b[0;34m:\u001b[0m\u001b[0;34m\u001b[0m\u001b[0;34m\u001b[0m\u001b[0m\n\u001b[1;32m   1180\u001b[0m             \u001b[0;32mif\u001b[0m \u001b[0mengine\u001b[0m \u001b[0;34m==\u001b[0m \u001b[0;34m\"python\"\u001b[0m\u001b[0;34m:\u001b[0m\u001b[0;34m\u001b[0m\u001b[0;34m\u001b[0m\u001b[0m\n",
      "\u001b[0;32m~/opt/anaconda3/lib/python3.7/site-packages/pandas/io/parsers.py\u001b[0m in \u001b[0;36m__init__\u001b[0;34m(self, src, **kwds)\u001b[0m\n\u001b[1;32m   2006\u001b[0m         \u001b[0mkwds\u001b[0m\u001b[0;34m[\u001b[0m\u001b[0;34m\"usecols\"\u001b[0m\u001b[0;34m]\u001b[0m \u001b[0;34m=\u001b[0m \u001b[0mself\u001b[0m\u001b[0;34m.\u001b[0m\u001b[0musecols\u001b[0m\u001b[0;34m\u001b[0m\u001b[0;34m\u001b[0m\u001b[0m\n\u001b[1;32m   2007\u001b[0m \u001b[0;34m\u001b[0m\u001b[0m\n\u001b[0;32m-> 2008\u001b[0;31m         \u001b[0mself\u001b[0m\u001b[0;34m.\u001b[0m\u001b[0m_reader\u001b[0m \u001b[0;34m=\u001b[0m \u001b[0mparsers\u001b[0m\u001b[0;34m.\u001b[0m\u001b[0mTextReader\u001b[0m\u001b[0;34m(\u001b[0m\u001b[0msrc\u001b[0m\u001b[0;34m,\u001b[0m \u001b[0;34m**\u001b[0m\u001b[0mkwds\u001b[0m\u001b[0;34m)\u001b[0m\u001b[0;34m\u001b[0m\u001b[0;34m\u001b[0m\u001b[0m\n\u001b[0m\u001b[1;32m   2009\u001b[0m         \u001b[0mself\u001b[0m\u001b[0;34m.\u001b[0m\u001b[0munnamed_cols\u001b[0m \u001b[0;34m=\u001b[0m \u001b[0mself\u001b[0m\u001b[0;34m.\u001b[0m\u001b[0m_reader\u001b[0m\u001b[0;34m.\u001b[0m\u001b[0munnamed_cols\u001b[0m\u001b[0;34m\u001b[0m\u001b[0;34m\u001b[0m\u001b[0m\n\u001b[1;32m   2010\u001b[0m \u001b[0;34m\u001b[0m\u001b[0m\n",
      "\u001b[0;32mpandas/_libs/parsers.pyx\u001b[0m in \u001b[0;36mpandas._libs.parsers.TextReader.__cinit__\u001b[0;34m()\u001b[0m\n",
      "\u001b[0;32mpandas/_libs/parsers.pyx\u001b[0m in \u001b[0;36mpandas._libs.parsers.TextReader._setup_parser_source\u001b[0;34m()\u001b[0m\n",
      "\u001b[0;31mFileNotFoundError\u001b[0m: [Errno 2] No such file or directory: 'data/HOU2017.csv'"
     ]
    }
   ],
   "source": [
    "# astros2016 = pd.read_csv(\"data/HOU2016.csv\")\n",
    "astros2017 = pd.read_csv(\"data/HOU2017.csv\")\n",
    "# astros2018 = pd.read_csv(\"data/HOU2018.csv\")\n",
    "astros2019 = pd.read_csv(\"data/HOU2019.csv\")\n",
    "yankees2017 = pd.read_csv(\"data/NYY2017.csv\")\n",
    "dodgers2017 = pd.read_csv(\"data/LAD2017.csv\")\n",
    "redsox2017 = pd.read_csv(\"data/BOS2017.csv\")\n"
   ]
  },
  {
   "cell_type": "code",
   "execution_count": null,
   "metadata": {},
   "outputs": [],
   "source": [
    "def boolhome(df):\n",
    "    df.dropna(axis=\"index\", how=\"all\", inplace=True, subset=['Gtm'])\n",
    "    df.rename(columns={\"Unnamed: 3\":\"Home\"}, inplace=True)\n",
    "    df.replace({\"Home\":{\"@\": False, np.nan: True}}, inplace=True)\n",
    "    df.drop(\"Unnamed: 0\", axis=1, inplace=True)\n",
    "#     df['GmeSc'] = df['Opp. Starter (GmeSc)'].apply(lambda x: x[-3:-1])\n",
    "    df['GmeSc'] = df['Opp. Starter (GmeSc)'].str.extract('(\\d+)')\n",
    "    df['GmeSc'] = df['GmeSc'].astype(int)\n",
    "    df['SoAb'] = df['SO'] / df[\"AB\"]\n",
    "    df['BbAb'] = df['BB'] / df[\"AB\"]\n",
    "    df.reset_index(drop=True, inplace=True)\n",
    "#     df['bbsum'] = df[\"BB\"] + df['SO']\n",
    "    #df['GmeSc'].apply(lambda x: x.astype(int))\n",
    "    return df"
   ]
  },
  {
   "cell_type": "code",
   "execution_count": null,
   "metadata": {},
   "outputs": [],
   "source": []
  },
  {
   "cell_type": "code",
   "execution_count": null,
   "metadata": {},
   "outputs": [],
   "source": [
    "astros2017df = boolhome(astros2017)\n",
    "# astros2018df = boolhome(astros2018)\n",
    "astros2019df = boolhome(astros2019)\n",
    "# astros2016df = boolhome(astros2016)\n",
    "yankees2017df = boolhome(yankees2017)\n",
    "dodgers2017df = boolhome(dodgers2017)\n",
    "redsox2017df = boolhome(redsox2017)"
   ]
  },
  {
   "cell_type": "code",
   "execution_count": null,
   "metadata": {},
   "outputs": [],
   "source": [
    "columns = astros2017df.columns"
   ]
  },
  {
   "cell_type": "code",
   "execution_count": null,
   "metadata": {},
   "outputs": [],
   "source": [
    "columns"
   ]
  },
  {
   "cell_type": "markdown",
   "metadata": {},
   "source": [
    "# GROUPBY home/away"
   ]
  },
  {
   "cell_type": "code",
   "execution_count": null,
   "metadata": {},
   "outputs": [],
   "source": [
    "#Home vs. Away groupby for top teams \n",
    "astros_home_gb = astros2017df.groupby(\"Home\")\n",
    "# yankees_home_gb = yankees2017df.groupby(\"Home\")\n",
    "# dodgers_home_gb = dodgers2017df.groupby(\"Home\")\n",
    "# redsox_home_gb = redsox2017df.groupby(\"Home\")"
   ]
  },
  {
   "cell_type": "code",
   "execution_count": null,
   "metadata": {},
   "outputs": [],
   "source": [
    "#Home vs. Away groupby for Astros 2017 and 2019\n",
    "astros2017_home_gb = astros2017df.groupby(\"Home\")\n",
    "astros2019_home_gb = astros2019df.groupby(\"Home\")\n"
   ]
  },
  {
   "cell_type": "markdown",
   "metadata": {},
   "source": [
    "* ## OBP advantage"
   ]
  },
  {
   "cell_type": "code",
   "execution_count": null,
   "metadata": {},
   "outputs": [],
   "source": [
    "astros_home_obp = astros_home_gb.get_group(True).OBP\n",
    "astros_away_obp = astros_home_gb.get_group(False).OBP"
   ]
  },
  {
   "cell_type": "code",
   "execution_count": null,
   "metadata": {},
   "outputs": [],
   "source": [
    "astros2017_home_obp = astros2017_home_gb.get_group(True).OBP\n",
    "astros2017_away_obp = astros2017_home_gb.get_group(False).OBP\n",
    "astros2019_home_obp = astros2019_home_gb.get_group(True).OBP\n",
    "astros2019_home_obp = astros2019_home_gb.get_group(False).OBP"
   ]
  },
  {
   "cell_type": "code",
   "execution_count": null,
   "metadata": {},
   "outputs": [],
   "source": []
  },
  {
   "cell_type": "code",
   "execution_count": null,
   "metadata": {},
   "outputs": [],
   "source": [
    "# yankees_home_obp = yankees_home_gb.get_group(True).OBP\n",
    "# yankees_away_obp = yankees_home_gb.get_group(False).OBP"
   ]
  },
  {
   "cell_type": "code",
   "execution_count": null,
   "metadata": {},
   "outputs": [],
   "source": [
    "# dodgers_home_obp = dodgers_home_gb.get_group(True).OBP\n",
    "# dodgers_away_obp = dodgers_home_gb.get_group(False).OBP"
   ]
  },
  {
   "cell_type": "code",
   "execution_count": null,
   "metadata": {},
   "outputs": [],
   "source": [
    "# redsox_home_obp = redsox_home_gb.get_group(True).OBP\n",
    "# redsox_away_obp = redsox_home_gb.get_group(False).OBP"
   ]
  },
  {
   "cell_type": "code",
   "execution_count": null,
   "metadata": {},
   "outputs": [],
   "source": [
    "# # heights: matt vs nick\n",
    "# fig, ax = plt.subplots(1, figsize=(16, 3))\n",
    "\n",
    "# ax.scatter(astros_home_obp, \n",
    "#            np.repeat(0, len(astros_home_obp)) + \\\n",
    "#            np.random.normal(0, 0.1, len(astros_home_obp)), ## jitter\n",
    "#            s=45)\n",
    "# ax.scatter(astros_away_obp, \n",
    "#            np.repeat(1, len(astros_away_obp)) + \\\n",
    "#            np.random.normal(0, 0.1, len(astros_home_obp)), \n",
    "#            s=45)\n",
    "# ax.set_yticks([0, 1])\n",
    "# ax.set_yticklabels([\"Home\", \"Away\"]);"
   ]
  },
  {
   "cell_type": "markdown",
   "metadata": {},
   "source": [
    "#### Write down the Null and Alternative Hypothesis \n",
    "\n",
    "**Null:** There is no difference in the OBP between HOME and AWAY games.\n",
    "\n",
    "**Alternative:** There is a difference in the OBP between HOME and AWAY games."
   ]
  },
  {
   "cell_type": "code",
   "execution_count": null,
   "metadata": {},
   "outputs": [],
   "source": [
    "def welch_test_statistic(sample_1, sample_2):\n",
    "    numerator = np.mean(sample_1) - np.mean(sample_2)\n",
    "    denominator_sq = (np.var(sample_1) / len(sample_1)) + \\\n",
    "                        (np.var(sample_2) / len(sample_2))\n",
    "    return numerator / np.sqrt(denominator_sq)"
   ]
  },
  {
   "cell_type": "code",
   "execution_count": null,
   "metadata": {},
   "outputs": [],
   "source": [
    "test_statistic = welch_test_statistic(astros_home_obp, astros_away_obp)\n",
    "print(\"Welch Test Statistic: {:2.2f}\".format(test_statistic))"
   ]
  },
  {
   "cell_type": "code",
   "execution_count": null,
   "metadata": {},
   "outputs": [],
   "source": [
    "def welch_satterhwaithe_df(sample_1, sample_2):\n",
    "    ss1 = len(sample_1)\n",
    "    ss2 = len(sample_2)\n",
    "    df = (\n",
    "        ((np.var(sample_1)/ss1 + np.var(sample_2)/ss2)**(2.0)) / \n",
    "        ((np.var(sample_1)/ss1)**(2.0)/(ss1 - 1) + (np.var(sample_2)/ss2)**(2.0)/(ss2 - 1))\n",
    "    )\n",
    "    return df"
   ]
  },
  {
   "cell_type": "code",
   "execution_count": null,
   "metadata": {},
   "outputs": [],
   "source": [
    "df = welch_satterhwaithe_df(astros_home_obp, astros_away_obp)\n",
    "print(\"Degrees of Freedom for Welch's Test: {:2.2f}\".format(df))"
   ]
  },
  {
   "cell_type": "code",
   "execution_count": null,
   "metadata": {},
   "outputs": [],
   "source": [
    "# Distribution of Welsh's Test Statistic Under the Null Hypothesis\n",
    "x = np.linspace(-3, 3, num=250)\n",
    "\n",
    "fig, ax = plt.subplots(1, figsize=(16, 3))\n",
    "students = stats.t(df)\n",
    "ax.plot(x, students.pdf(x), linewidth=2, label=\"Degree of Freedom: {:2.2f}\".format(df))\n",
    "ax.legend()\n",
    "ax.set_title(\"Distribution of Welsh's Test Statistic Under the Null Hypothesis\");"
   ]
  },
  {
   "cell_type": "markdown",
   "metadata": {},
   "source": [
    "**Also, the above is not always true!**  The $T$ statistic only has a t-distribution **under the assumption that the population distributions are Normal**!  \n",
    "\n",
    "# is this why my plots look weighted towards one side? is my sample normally distributed? Is OBP NOT normally distributed because it's a rolling average?\n",
    "\n",
    "If the population is very non-normal, the properties of the t-test **will fail**.  You must have some legitimate a-priori reason to believe the populations are approximately normal to use a t-test!\n",
    "\n",
    "\n",
    "#### Set Significance level\n",
    "\n",
    "Given the the love I have for my childhood baseball tea (and in a sense my childhood) that's at stake here, and how much they value to friendship, I decide to be reasonably skeptical, so take $\\alpha = 0.05$.\n",
    "\n",
    "#### Calculate p-value\n"
   ]
  },
  {
   "cell_type": "code",
   "execution_count": null,
   "metadata": {},
   "outputs": [],
   "source": [
    "# p-val\n",
    "x = np.linspace(-3, 3, num=250)\n",
    "\n",
    "fig, ax = plt.subplots(1, figsize=(16, 3))\n",
    "students = stats.t(df)\n",
    "ax.plot(x, students.pdf(x), linewidth=2, label=\"Degree of Freedom: {:2.2f}\".format(df))\n",
    "_ = ax.fill_between(x, students.pdf(x), where=(x >= -test_statistic), color=\"red\", alpha=0.25)\n",
    "_ = ax.fill_between(x, students.pdf(x), where=(x <= test_statistic), color=\"red\", alpha=0.25)\n",
    "ax.legend()\n",
    "ax.set_title(\"p-value Reigon\");"
   ]
  },
  {
   "cell_type": "code",
   "execution_count": null,
   "metadata": {},
   "outputs": [],
   "source": [
    "# p_value = students.cdf(test_statistic) + (1 - students.cdf(-test_statistic))\n",
    "# print(\"p-value for different average kickflip height: {:2.2f}\".format(p_value))"
   ]
  },
  {
   "cell_type": "markdown",
   "metadata": {},
   "source": [
    "# 0.01 < 0.05 --> there is a statistical difference between HOME and AWAY games."
   ]
  },
  {
   "cell_type": "code",
   "execution_count": null,
   "metadata": {},
   "outputs": [],
   "source": [
    "# test_statistic = welch_test_statistic(astros_home_obp, astros_away_obp)\n",
    "\n",
    "# p_value = 1 - students.cdf(test_statistic)\n",
    "# print(\"p-value for the OBP for HOME games greater than AWAY games: {:2.3f}\".format(p_value))"
   ]
  },
  {
   "cell_type": "code",
   "execution_count": null,
   "metadata": {},
   "outputs": [],
   "source": [
    "astros__obp_ttest = stats.ttest_ind(astros_home_obp, astros_away_obp)"
   ]
  },
  {
   "cell_type": "code",
   "execution_count": null,
   "metadata": {},
   "outputs": [],
   "source": [
    "astros__SoAb_home_ttest = stats.ttest_ind(astros2017_home_obp, astros_away_obp) "
   ]
  },
  {
   "cell_type": "code",
   "execution_count": null,
   "metadata": {},
   "outputs": [],
   "source": [
    "#astros__SoAb_away_ttest = stats.ttest_ind(astros_home_obp, astros_away_obp)"
   ]
  },
  {
   "cell_type": "code",
   "execution_count": null,
   "metadata": {},
   "outputs": [],
   "source": [
    "# Distribution of Welsh's Test Statistic Under the Null Hypothesis that \n",
    "x = np.linspace(-3, 3, num=250)\n",
    "\n",
    "fig, ax = plt.subplots(1, figsize=(16, 3))\n",
    "curve = stats.t(160)\n",
    "ax.plot(x, curve.pdf(x), linewidth=2, label=\"Degree of Freedom: {:2.2f}\".format(160))\n",
    "ax.fill_between(x, curve.pdf(x), where=(x >= -astros__obp_ttest[0]), color=\"red\", alpha=0.25)\n",
    "ax.fill_between(x, curve.pdf(x), where=(x <= astros__obp_ttest[0]), color=\"red\", alpha=0.25)\n",
    "ax.legend()\n",
    "ax.set_title(\"Distribution of Welsh's Test Statistic Under the Null Hypothesis\")\n",
    "\n",
    "print(f\"Astro's t-statistic is {astros__obp_ttest[0]}, and p-value is {astros__obp_ttest[1]}\")"
   ]
  },
  {
   "cell_type": "code",
   "execution_count": null,
   "metadata": {},
   "outputs": [],
   "source": [
    "# Distribution of Welsh's Test Statistic Under the Null Hypothesis\n",
    "x = np.linspace(-3, 3, num=250)\n",
    "\n",
    "fig, ax = plt.subplots(1, figsize=(16, 3))\n",
    "curve = stats.t(160)\n",
    "ax.plot(x, curve.pdf(x), linewidth=2, label=\"Degree of Freedom: {:2.2f}\".format(160))\n",
    "_ = ax.fill_between(x, curve.pdf(x), where=(x >= -astros__obp_ttest[0]), color=\"red\", alpha=0.25)\n",
    "_ = ax.fill_between(x, curve.pdf(x), where=(x <= astros__obp_ttest[0]), color=\"red\", alpha=0.25)\n",
    "_ = ax.fill_between(x, curve.pdf(x), where=(x >= .95), color=\"blue\", alpha=0.05)\n",
    "_ = ax.fill_between(x, curve.pdf(x), where=(x <= -.95), color=\"blue\", alpha=0.05)\n",
    "ax.legend()\n",
    "ax.set_title(\"Distribution of Welsh's Test Statistic Under the Null Hypothesis\")\n",
    "\n",
    "print(f\"Astro's t-statistic is {astros__obp_ttest[0]}, and p-value is {astros__obp_ttest[1]}\")"
   ]
  },
  {
   "cell_type": "code",
   "execution_count": null,
   "metadata": {},
   "outputs": [],
   "source": []
  },
  {
   "cell_type": "code",
   "execution_count": null,
   "metadata": {},
   "outputs": [],
   "source": []
  },
  {
   "cell_type": "code",
   "execution_count": null,
   "metadata": {},
   "outputs": [],
   "source": []
  },
  {
   "cell_type": "code",
   "execution_count": null,
   "metadata": {},
   "outputs": [],
   "source": []
  },
  {
   "cell_type": "code",
   "execution_count": null,
   "metadata": {},
   "outputs": [],
   "source": [
    "#OBP for 2017 season\n",
    "print(astros2017df.OBP.median())\n",
    "print(yankees2017df.OBP.median())\n",
    "print(dodgers2017df.OBP.median())\n",
    "print(redsox2017df.OBP.median())"
   ]
  },
  {
   "cell_type": "code",
   "execution_count": null,
   "metadata": {},
   "outputs": [],
   "source": [
    "#OBP for 2017 home games\n",
    "print(astros_home_obp.mean())\n",
    "# print(yankees_home_obp.mean())\n",
    "# print(dodgers_home_obp.mean())\n",
    "# print(redsox_home_obp.mean())"
   ]
  },
  {
   "cell_type": "code",
   "execution_count": null,
   "metadata": {},
   "outputs": [],
   "source": [
    "#OBP for 2017 away games\n",
    "print(astros_away_obp.mean())\n",
    "# print(yankees_away_obp.mean())\n",
    "# print(dodgers_away_obp.mean())\n",
    "# print(redsox_away_obp.mean())"
   ]
  },
  {
   "cell_type": "code",
   "execution_count": null,
   "metadata": {},
   "outputs": [],
   "source": [
    "#home.get_group(True).OBP.plot.line()"
   ]
  },
  {
   "cell_type": "code",
   "execution_count": null,
   "metadata": {},
   "outputs": [],
   "source": [
    "astros2017df.OBP.plot.line();"
   ]
  },
  {
   "cell_type": "code",
   "execution_count": null,
   "metadata": {},
   "outputs": [],
   "source": [
    "astros_away_obp.plot.line(label=\"away\")\n",
    "astros_home_obp.plot.line(label=\"home\")\n",
    "plt.legend()\n",
    "print(f'home:{astros_home_obp.mean()}')\n",
    "print(f'away:{astros_away_obp.mean()}')\n"
   ]
  },
  {
   "cell_type": "code",
   "execution_count": null,
   "metadata": {},
   "outputs": [],
   "source": [
    "astros_away_obp.plot.hist(label=\"away\")\n",
    "astros_home_obp.plot.hist(label=\"home\")"
   ]
  },
  {
   "cell_type": "code",
   "execution_count": null,
   "metadata": {},
   "outputs": [],
   "source": [
    "# yankees_away_obp.plot.line(label=\"away\")\n",
    "# yankees_home_obp.plot.line(label=\"home\")\n",
    "# plt.legend()\n",
    "# print(f'home:{yankees_home_obp.mean()}')\n",
    "# print(f'away:{yankees_away_obp.mean()}');"
   ]
  },
  {
   "cell_type": "code",
   "execution_count": null,
   "metadata": {},
   "outputs": [],
   "source": [
    "# dodgers_away_obp.plot.line(label=\"away\")\n",
    "# dodgers_home_obp.plot.line(label=\"home\")\n",
    "# plt.legend()\n",
    "# print(f'home:{dodgers_home_obp.mean()}')\n",
    "# print(f'away:{dodgers_away_obp.mean()}');"
   ]
  },
  {
   "cell_type": "code",
   "execution_count": null,
   "metadata": {},
   "outputs": [],
   "source": [
    "# redsox_away_obp.plot.line(label=\"away\")\n",
    "# redsox_home_obp.plot.line(label=\"home\")\n",
    "# plt.legend()\n",
    "# print(f'home:{redsox_home_obp.mean()}')\n",
    "# print(f'away:{redsox_away_obp.mean()}');"
   ]
  },
  {
   "cell_type": "markdown",
   "metadata": {},
   "source": [
    "#### Is On Base Percentage (OBP) a rolling/weighted average? Can I parce HOME vs AWAY games? Should I consider a different stat like Strikeouts (SO)?"
   ]
  },
  {
   "cell_type": "markdown",
   "metadata": {},
   "source": [
    "* ## SO advantage\n",
    "fewer stikeouts/game\n",
    "expect: astros to have fewer strikeouts than the field"
   ]
  },
  {
   "cell_type": "code",
   "execution_count": null,
   "metadata": {},
   "outputs": [],
   "source": [
    "# astros_home_so = astros_home_gb.get_group(True).SO\n",
    "# astros_away_so = astros_home_gb.get_group(False).SO"
   ]
  },
  {
   "cell_type": "code",
   "execution_count": null,
   "metadata": {},
   "outputs": [],
   "source": [
    "# yankees_home_so = yankees_home_gb.get_group(True).SO\n",
    "# yankees_away_so = yankees_home_gb.get_group(False).SO"
   ]
  },
  {
   "cell_type": "code",
   "execution_count": null,
   "metadata": {},
   "outputs": [],
   "source": [
    "# dodgers_home_so = dodgers_home_gb.get_group(True).SO\n",
    "# dodgers_away_so = dodgers_home_gb.get_group(False).SO"
   ]
  },
  {
   "cell_type": "code",
   "execution_count": null,
   "metadata": {},
   "outputs": [],
   "source": [
    "# redsox_home_so = redsox_home_gb.get_group(True).SO\n",
    "# redsox_away_so = redsox_home_gb.get_group(False).SO"
   ]
  },
  {
   "cell_type": "code",
   "execution_count": null,
   "metadata": {},
   "outputs": [],
   "source": [
    "# astros_home_so_desc = astros_home_so.describe()"
   ]
  },
  {
   "cell_type": "code",
   "execution_count": null,
   "metadata": {},
   "outputs": [],
   "source": [
    "#astros_home_so_desc"
   ]
  },
  {
   "cell_type": "code",
   "execution_count": null,
   "metadata": {},
   "outputs": [],
   "source": [
    "# print(astros_home_so.mean())\n",
    "# print(yankees_home_so.mean())\n",
    "# print(dodgers_home_so.mean())\n",
    "# print(redsox_home_so.mean())\n",
    "\n",
    "# list_field_home_so = [yankees_home_so.mean(), dodgers_home_so.mean(), redsox_home_so.mean()]\n",
    "# arr_field_home_so = np.array(list_field_home_so)\n",
    "\n",
    "# print((astros_home_so.mean() - arr_field_home_so.mean()))\n",
    "\n",
    "# arr_field_home_so.mean()\n"
   ]
  },
  {
   "cell_type": "code",
   "execution_count": null,
   "metadata": {},
   "outputs": [],
   "source": [
    "# print(astros_away_so.mean())\n",
    "# print(yankees_away_so.mean())\n",
    "# print(dodgers_away_so.mean())\n",
    "# print(redsox_away_so.mean())\n",
    "\n",
    "# list_field_away_so = [yankees_away_so.mean(), dodgers_away_so.mean(), redsox_away_so.mean()]\n",
    "# arr_field_away_so = np.array(list_field_away_so)\n",
    "\n",
    "# print((astros_home_so.mean() - arr_field_away_so.mean()))\n",
    "\n",
    "# arr_field_away_so.mean()"
   ]
  },
  {
   "cell_type": "markdown",
   "metadata": {},
   "source": [
    "some plot attempts"
   ]
  },
  {
   "cell_type": "code",
   "execution_count": null,
   "metadata": {},
   "outputs": [],
   "source": [
    "# plt.hist(astros_home_so)\n",
    "# plt.hist(yankees_home_so)\n",
    "# plt.hist(dodgers_home_so)\n",
    "# plt.hist(redsox_home_so)\n",
    "#print(abs(astros_home_so.mean() - yankees_home_so.mean()))\n",
    "#plt.hist([astros_home_so.mean(), yankees_home_so.mean(), dodgers_home_so.mean(), redsox_home_so.mean()])"
   ]
  },
  {
   "cell_type": "code",
   "execution_count": null,
   "metadata": {},
   "outputs": [],
   "source": [
    "# astros_home_so.plot.bar()\n",
    "# yankees_home_so.plot.bar()\n",
    "# abs(astros_home_so - yankees_home_so).plot.bar()"
   ]
  },
  {
   "cell_type": "markdown",
   "metadata": {},
   "source": [
    "* ## SS/AB\n",
    "new stat: strikeouts/at bats\n",
    "expect to be lower than the field"
   ]
  },
  {
   "cell_type": "code",
   "execution_count": null,
   "metadata": {},
   "outputs": [],
   "source": [
    "astros_home_SoAb = astros_home_gb.get_group(True).SoAb\n",
    "astros_away_SoAb = astros_home_gb.get_group(False).SoAb"
   ]
  },
  {
   "cell_type": "code",
   "execution_count": null,
   "metadata": {},
   "outputs": [],
   "source": [
    "astros2017_home_SoAb = astros2017_home_gb.get_group(True).SoAb\n",
    "astros2017_away_SoAb = astros2017_home_gb.get_group(False).SoAb\n",
    "astros2019_home_SoAb = astros2019_home_gb.get_group(True).SoAb\n",
    "astros2019_home_SoAb = astros2019_home_gb.get_group(False).SoAb"
   ]
  },
  {
   "cell_type": "code",
   "execution_count": null,
   "metadata": {},
   "outputs": [],
   "source": [
    "print(astros_home_SoAb.mean())\n",
    "print(astros_away_SoAb.mean())"
   ]
  },
  {
   "cell_type": "code",
   "execution_count": null,
   "metadata": {},
   "outputs": [],
   "source": [
    "# yankees_home_SoAb = yankees_home_gb.get_group(True).SoAb\n",
    "# yankees_away_SoAb = yankees_home_gb.get_group(False).SoAb"
   ]
  },
  {
   "cell_type": "code",
   "execution_count": null,
   "metadata": {},
   "outputs": [],
   "source": [
    "# dodgers_home_SoAb = dodgers_home_gb.get_group(True).SoAb\n",
    "# dodgers_away_SoAb = dodgers_home_gb.get_group(False).SoAb"
   ]
  },
  {
   "cell_type": "code",
   "execution_count": null,
   "metadata": {},
   "outputs": [],
   "source": [
    "# redsox_home_SoAb = redsox_home_gb.get_group(True).SoAb\n",
    "# redsox_away_SoAb = redsox_home_gb.get_group(False).SoAb"
   ]
  },
  {
   "cell_type": "code",
   "execution_count": null,
   "metadata": {},
   "outputs": [],
   "source": [
    "# # SS/AB HOME vs. AWAY\n",
    "# fig, ax = plt.subplots(1, figsize=(16, 3))\n",
    "\n",
    "# ax.scatter(astros2017df.SoAb, bins = 5,\n",
    "# #            np.repeat(0, len(astros_home_SoAb)) + \\\n",
    "# #            np.random.normal(0, 0.1, len(astros_home_SoAb)), ## jitter\n",
    "#            s=45)\n",
    "\n",
    "# .set_yticks([0, 1])\n",
    "# ax.set_yticklabels([\"Home\", \"Away\"]);"
   ]
  },
  {
   "cell_type": "code",
   "execution_count": null,
   "metadata": {},
   "outputs": [],
   "source": [
    "# SS/AB HOME vs. AWAY\n",
    "fig, ax = plt.subplots(1, figsize=(, 3))\n",
    "\n",
    "ax.hist(astros_home_SoAb, bins=8, label=\"Home\", color='#fc4f30', alpha=.5)\n",
    "ax.hist(astros_away_SoAb, bins=8, label=\"Away\", color='#008fd5', alpha=.2)\n",
    "\n",
    "plt.ylabel(\"Frequency\")\n",
    "plt.xlabel(\"SO/AB\")\n",
    "plt.title(\"SoAb Home vs. Away for 2018 Regular Season\")\n",
    "\n",
    "ax.legend();"
   ]
  },
  {
   "cell_type": "code",
   "execution_count": null,
   "metadata": {},
   "outputs": [],
   "source": [
    "# SS/AB HOME 2017 vs. 2019\n",
    "fig, ax = plt.subplots(1, figsize=(16, 3))\n",
    "\n",
    "ax.hist(astros2017_home_SoAb, bins=8, label=\"2017\", color='#fc4f30', alpha=.5)\n",
    "ax.hist(astros2019_home_SoAb, bins=8, label=\"2019\", color='#008fd5', alpha=.2)\n",
    "\n",
    "plt.ylabel(\"Frequency\")\n",
    "plt.xlabel(\"SO/AB\")\n",
    "\n",
    "ax.legend();"
   ]
  },
  {
   "cell_type": "code",
   "execution_count": null,
   "metadata": {},
   "outputs": [],
   "source": [
    "# # SS/AB HOME vs. AWAY\n",
    "# fig, ax = plt.subplots(1, figsize=(16, 3))\n",
    "\n",
    "# ax.hist(yankees_home_SoAb, bins=20, label=\"Home\", color=\"blue\", alpha=.5)\n",
    "# ax.hist(yankees_away_SoAb, bins=20, label=\"Away\", color=\"black\", alpha=.2)\n",
    "\n",
    "# plt.ylabel(\"Games\")\n",
    "# plt.xlabel(\"SO/AB\")\n",
    "\n",
    "# ax.legend();"
   ]
  },
  {
   "cell_type": "code",
   "execution_count": null,
   "metadata": {},
   "outputs": [],
   "source": [
    "# # SS/AB HOME vs. AWAY\n",
    "# fig, ax = plt.subplots(1, figsize=(16, 3))\n",
    "\n",
    "# ax.hist(dodgers_home_SoAb, bins=20, label=\"Home\", color=\"purple\", alpha=.5)\n",
    "# ax.hist(dodgers_away_SoAb, bins=20, label=\"Away\", color=\"black\", alpha=.2)\n",
    "\n",
    "# plt.ylabel(\"Games\")\n",
    "# plt.xlabel(\"SO/AB\")\n",
    "\n",
    "# ax.legend();"
   ]
  },
  {
   "cell_type": "code",
   "execution_count": null,
   "metadata": {},
   "outputs": [],
   "source": [
    "# # SS/AB HOME vs. AWAY\n",
    "# fig, ax = plt.subplots(1, figsize=(16, 3))\n",
    "\n",
    "# ax.hist(redsox_home_SoAb, bins=20, label=\"Home\", color=\"red\",alpha=.5)\n",
    "# ax.hist(redsox_away_SoAb, bins=20, label=\"Away\", color=\"black\", alpha=.2)\n",
    "\n",
    "# plt.ylabel(\"Games\")\n",
    "# plt.xlabel(\"SO/AB\")\n",
    "\n",
    "# ax.legend();"
   ]
  },
  {
   "cell_type": "code",
   "execution_count": null,
   "metadata": {},
   "outputs": [],
   "source": [
    "# SS/AB HOME vs. AWAY\n",
    "# fig, ax = plt.subplots(1,1)\n",
    "\n",
    "# ax.hist(astros2017df.SoAb)\n",
    "# ax.hist(astros_home_SoAb, bins=90)\n",
    "# ax.hist(astros_away_SoAb, alpha=.5, bins=90)\n",
    "# ax.hist(astros2017df.Date)\n",
    "# ax.legend([\"Home\", \"Away\"]);"
   ]
  },
  {
   "cell_type": "markdown",
   "metadata": {},
   "source": [
    "#### Write down the Null and Alternative Hypothesis \n",
    "\n",
    "**Null:** There is no difference in the SS/AB between HOME and AWAY games.\n",
    "\n",
    "**Alternative:** There is a difference in the SS/AB between HOME and AWAY games."
   ]
  },
  {
   "cell_type": "code",
   "execution_count": null,
   "metadata": {},
   "outputs": [],
   "source": [
    "# astros_test_statistic = welch_test_statistic(astros_home_SoAb, astros_away_SoAb)\n",
    "# print(\"Welch Test Statistic: {:2.2f}\".format(astros_test_statistic))\n",
    "# yankees_test_statistic = welch_test_statistic(yankees_home_SoAb, yankees_away_SoAb)\n",
    "# print(\"Welch Test Statistic: {:2.2f}\".format(yankees_test_statistic))\n",
    "# dodgers_test_statistic = welch_test_statistic(dodgers_home_SoAb, dodgers_away_SoAb)\n",
    "# print(\"Welch Test Statistic: {:2.2f}\".format(dodgers_test_statistic))\n",
    "# redsox_test_statistic = welch_test_statistic(redsox_home_SoAb, redsox_away_SoAb)\n",
    "# print(\"Welch Test Statistic: {:2.2f}\".format(redsox_test_statistic))"
   ]
  },
  {
   "cell_type": "code",
   "execution_count": null,
   "metadata": {},
   "outputs": [],
   "source": [
    "# astros_df = welch_satterhwaithe_df(astros_home_SoAb, astros_away_SoAb)\n",
    "# print(\"Degrees of Freedom for Welch's Test: {:2.2f}\".format(astros_df))\n",
    "# yankees_df = welch_satterhwaithe_df(yankees_home_SoAb, yankees_away_SoAb)\n",
    "# print(\"Degrees of Freedom for Welch's Test: {:2.2f}\".format(yankees_df))\n",
    "# dodgers_df = welch_satterhwaithe_df(dodgers_home_SoAb, dodgers_away_SoAb)\n",
    "# print(\"Degrees of Freedom for Welch's Test: {:2.2f}\".format(dodgers_df))\n",
    "# redsox_df = welch_satterhwaithe_df(redsox_home_SoAb, redsox_away_SoAb)\n",
    "# print(\"Degrees of Freedom for Welch's Test: {:2.2f}\".format(redsox_df))"
   ]
  },
  {
   "cell_type": "markdown",
   "metadata": {},
   "source": [
    "#### Write down the Null and Alternative Hypothesis \n",
    "\n",
    "**Null:** There is no difference in the SO/AB between HOME and AWAY games.\n",
    "\n",
    "**Alternative:** There is a difference in the SO/AB between HOME and AWAY games."
   ]
  },
  {
   "cell_type": "markdown",
   "metadata": {},
   "source": [
    "# Run the t-test"
   ]
  },
  {
   "cell_type": "code",
   "execution_count": null,
   "metadata": {},
   "outputs": [],
   "source": [
    "astros_home2017away = stats.ttest_ind(astros_home_SoAb, astros_away_SoAb)"
   ]
  },
  {
   "cell_type": "code",
   "execution_count": null,
   "metadata": {},
   "outputs": [],
   "source": [
    "astros_2017home2019 = stats.ttest_ind(astros2017_home_SoAb, astros2019_home_SoAb)"
   ]
  },
  {
   "cell_type": "code",
   "execution_count": null,
   "metadata": {
    "scrolled": true
   },
   "outputs": [],
   "source": [
    "# Distribution of Welsh's Test Statistic Under the Null Hypothesis\n",
    "x = np.linspace(-3, 3, num=250)\n",
    "\n",
    "fig, ax = plt.subplots(1, figsize=(16, 3))\n",
    "curve = stats.t(160)\n",
    "ax.plot(x, curve.pdf(x), linewidth=2, label=\"Degree of Freedom: {:2.2f}\".format(160))\n",
    "ax.fill_between(x, curve.pdf(x), where=(x >= -astros_2017home2019[0]), color=\"red\", alpha=0.25)\n",
    "ax.fill_between(x, curve.pdf(x), where=(x <= astros_2017home2019[0]), color=\"red\", alpha=0.25)\n",
    "ax.legend()\n",
    "ax.set_title(\"Distribution of Welsh's Test Statistic Under the Null Hypothesis for Home in 2017 vs 2019\")\n",
    "\n",
    "print(f\"Astro's t-statistic is {astros_2017home2019[0]}, and p-value is {astros_2017home2019[1]}\")\n"
   ]
  },
  {
   "cell_type": "code",
   "execution_count": null,
   "metadata": {},
   "outputs": [],
   "source": [
    "# Distribution of Welsh's Test Statistic Under the Null Hypothesis for Home vs Away in 2017\n",
    "x = np.linspace(-3, 3, num=250)\n",
    "\n",
    "fig, ax = plt.subplots(1, figsize=(16, 3))\n",
    "curve = stats.t(160)\n",
    "ax.plot(x, curve.pdf(x), linewidth=2, label=\"Degree of Freedom: {:2.2f}\".format(160))\n",
    "ax.fill_between(x, curve.pdf(x), where=(x >= -astros_home2017away[0]), color=\"red\", alpha=0.25)\n",
    "ax.fill_between(x, curve.pdf(x), where=(x <= astros_home2017away[0]), color=\"red\", alpha=0.25)\n",
    "ax.legend()\n",
    "ax.set_title(\"Distribution of Welsh's Test Statistic Under the Null Hypothesis for Home vs Away in 2017\")\n",
    "\n",
    "print(f\"Astro's t-statistic is {astros_home2017away[0]}, and p-value is {astros_home2017away[1]}\")\n",
    "\n",
    "\n"
   ]
  },
  {
   "cell_type": "code",
   "execution_count": null,
   "metadata": {},
   "outputs": [],
   "source": [
    "# # p-val\n",
    "# x = np.linspace(-3, 3, num=250)\n",
    "\n",
    "# fig, ax = plt.subplots(1, figsize=(16, 3))\n",
    "# students = stats.t(160) #stats.t_ind()\n",
    "# ax.plot(x, students.pdf(x), linewidth=2, label=\"Degree of Freedom: {:2.2f}\".format(160))\n",
    "# _ = ax.fill_between(x, students.pdf(x), where=(x >= -astros[0]), color=\"red\", alpha=0.25)\n",
    "# _ = ax.fill_between(x, students.pdf(x), where=(x <= astros[0]), color=\"red\", alpha=0.25)\n",
    "# ax.legend()\n",
    "# ax.set_title(\"p-value Reigon\");"
   ]
  },
  {
   "cell_type": "code",
   "execution_count": null,
   "metadata": {},
   "outputs": [],
   "source": [
    "# astros_p_value = students.cdf(astros_test_statistic) + (1 + students.cdf(astros_test_statistic))\n",
    "# print(\"p-value for different SS/AB: {:2.2f}\".format(astros_p_value))\n",
    "# yankees_p_value = students.cdf(-yankees_test_statistic) + (1 - students.cdf(yankees_test_statistic))\n",
    "# print(\"p-value for different SS/AB: {:2.2f}\".format(yankees_p_value))\n",
    "# dodgers_p_value = students.cdf(-dodgers_test_statistic) + (1 - students.cdf(dodgers_test_statistic))\n",
    "# print(\"p-value for different SS/AB: {:2.2f}\".format(dodgers_p_value))\n",
    "# redsox_p_value = students.cdf(-redsox_test_statistic) + (1 - students.cdf(redsox_test_statistic))\n",
    "# print(\"p-value for different SS/AB: {:2.2f}\".format(redsox_p_value))\n",
    "\n"
   ]
  },
  {
   "cell_type": "code",
   "execution_count": null,
   "metadata": {},
   "outputs": [],
   "source": [
    "# def welch_satterhwaithe_df(sample_1, sample_2):\n",
    "#     ss1 = len(sample_1)\n",
    "#     ss2 = len(sample_2)\n",
    "#     df = (\n",
    "#         ((np.var(sample_1)/ss1 + np.var(sample_2)/ss2)**(2.0)) / \n",
    "#         ((np.var(sample_1)/ss1)**(2.0)/(ss1 - 1) + (np.var(sample_2)/ss2)**(2.0)/(ss2 - 1))\n",
    "#     )\n",
    "#     return df"
   ]
  },
  {
   "cell_type": "code",
   "execution_count": null,
   "metadata": {},
   "outputs": [],
   "source": [
    "# welch_satterhwaithe_df(astros_home_SoAb, astros_away_SoAb)"
   ]
  },
  {
   "cell_type": "code",
   "execution_count": null,
   "metadata": {},
   "outputs": [],
   "source": [
    "# test_statistic = welch_test_statistic(astros_home_SoAb, astros_away_SoAb)\n",
    "\n",
    "# p_value = 1 - students.cdf(test_statistic)\n",
    "# print(\"p-value for the OBP for HOME games greater than AWAY games: {:2.3f}\".format(p_value))"
   ]
  },
  {
   "cell_type": "code",
   "execution_count": null,
   "metadata": {},
   "outputs": [],
   "source": [
    "# print(astros_home_SoAb.mean())\n",
    "# print(yankees_home_SoAb.mean())\n",
    "# print(dodgers_home_SoAb.mean())\n",
    "# print(redsox_home_SoAb.mean())\n",
    "\n",
    "# list_field_home_soab = [yankees_home_SoAb.mean(), dodgers_home_SoAb.mean(), redsox_home_SoAb.mean()]\n",
    "# arr_field_home_soab = np.array(list_field_home_soab)\n",
    "\n",
    "# print((astros_home_SoAb.mean() - arr_field_home_soab.mean()))\n",
    "\n",
    "# arr_field_home_soab.mean()"
   ]
  },
  {
   "cell_type": "code",
   "execution_count": null,
   "metadata": {},
   "outputs": [],
   "source": [
    "# print(astros_away_SoAb.mean())\n",
    "# print(yankees_away_SoAb.mean())\n",
    "# print(dodgers_away_SoAb.mean())\n",
    "# print(redsox_away_SoAb.mean())\n",
    "\n",
    "# list_field_away_soab = [yankees_away_SoAb.mean(), dodgers_away_SoAb.mean(), redsox_away_SoAb.mean()]\n",
    "# arr_field_away_soab = np.array(list_field_away_soab)\n",
    "\n",
    "# print((astros_away_SoAb.mean() - arr_field_away_soab.mean()))\n",
    "\n",
    "# arr_field_home_soab.mean()"
   ]
  },
  {
   "cell_type": "markdown",
   "metadata": {},
   "source": [
    "* ## BB/AB\n",
    "EXPECT: astros to be higher than the field"
   ]
  },
  {
   "cell_type": "code",
   "execution_count": null,
   "metadata": {},
   "outputs": [],
   "source": [
    "astros_home_BbAb = astros_home_gb.get_group(True).BbAb\n",
    "astros_away_BbAb = astros_home_gb.get_group(False).BbAb"
   ]
  },
  {
   "cell_type": "code",
   "execution_count": null,
   "metadata": {},
   "outputs": [],
   "source": [
    "astros2017_home_BbAb = astros2017_home_gb.get_group(True).BbAb\n",
    "#astros2017_away_BbAb = astros2017_home_gb.get_group(False).BbAb\n",
    "astros2019_home_BbAb = astros2019_home_gb.get_group(True).BbAb\n",
    "#astros2019_home_BbAb = astros2019_home_gb.get_group(False).BbAb"
   ]
  },
  {
   "cell_type": "code",
   "execution_count": null,
   "metadata": {},
   "outputs": [],
   "source": [
    "# yankees_home_BbAb = yankees_home_gb.get_group(True).BbAb\n",
    "# yankees_away_BbAb = yankees_home_gb.get_group(False).BbAb"
   ]
  },
  {
   "cell_type": "code",
   "execution_count": null,
   "metadata": {},
   "outputs": [],
   "source": [
    "# dodgers_home_BbAb = dodgers_home_gb.get_group(True).BbAb\n",
    "# dodgers_away_BbAb = dodgers_home_gb.get_group(False).BbAb"
   ]
  },
  {
   "cell_type": "code",
   "execution_count": null,
   "metadata": {},
   "outputs": [],
   "source": [
    "# redsox_home_BbAb = redsox_home_gb.get_group(True).BbAb\n",
    "# redsox_away_BbAb = redsox_home_gb.get_group(False).BbAb"
   ]
  },
  {
   "cell_type": "markdown",
   "metadata": {},
   "source": [
    "# how do get these colors but \"cheating years\" are the same red shade"
   ]
  },
  {
   "cell_type": "code",
   "execution_count": null,
   "metadata": {},
   "outputs": [],
   "source": [
    "# Bb/AB HOME vs. AWAY\n",
    "\n",
    "fig, ax = plt.subplots(1, figsize=(16, 3))\n",
    "\n",
    "ax.hist(astros_home_BbAb, bins=8, color='#fc4f30', label=\"Home\", alpha=.4)\n",
    "ax.hist(astros_away_BbAb, bins=8, color='#008fd5', label=\"Away\", alpha=.4)\n",
    "\n",
    "\n",
    "plt.ylabel(\"Games\")\n",
    "plt.xlabel(\"BB/AB\")\n",
    "\n",
    "ax.legend();\n"
   ]
  },
  {
   "cell_type": "code",
   "execution_count": null,
   "metadata": {},
   "outputs": [],
   "source": [
    "# Bb/AB HOME 2017 vs 2019\n",
    "\n",
    "fig, ax = plt.subplots(1, figsize=(16, 3))\n",
    "\n",
    "ax.hist(astros2017_home_BbAb, bins=8, color='#fc4f30', label=\"2017 Home\", alpha=.4)\n",
    "ax.hist(astros2019_home_BbAb, bins=8, color='#008fd5', label=\"2019 Home\", alpha=.4)\n",
    "\n",
    "plt.ylabel(\"Games\")\n",
    "plt.xlabel(\"BB/AB\")\n",
    "\n",
    "ax.legend();\n"
   ]
  },
  {
   "cell_type": "code",
   "execution_count": null,
   "metadata": {},
   "outputs": [],
   "source": [
    "astros_BbAb_home2017away = stats.ttest_ind(astros_home_BbAb, astros_away_BbAb)"
   ]
  },
  {
   "cell_type": "code",
   "execution_count": null,
   "metadata": {},
   "outputs": [],
   "source": [
    "astros__BbAb_2017home2019 = stats.ttest_ind(astros2017_home_BbAb, astros2019_home_BbAb)"
   ]
  },
  {
   "cell_type": "code",
   "execution_count": null,
   "metadata": {},
   "outputs": [],
   "source": [
    "# Distribution of Welsh's Test Statistic Under the Null Hypothesis \n",
    "x = np.linspace(-3, 3, num=250)\n",
    "\n",
    "fig, ax = plt.subplots(1, figsize=(16, 3))\n",
    "curve = stats.t(160)\n",
    "ax.plot(x, curve.pdf(x), linewidth=2, label=\"Degree of Freedom: {:2.2f}\".format(160))\n",
    "ax.fill_between(x, curve.pdf(x), where=(x >= -astros_BbAb_home2017away[0]), color=\"red\", alpha=0.25)\n",
    "ax.fill_between(x, curve.pdf(x), where=(x <= astros_BbAb_home2017away[0]), color=\"red\", alpha=0.25)\n",
    "ax.legend()\n",
    "ax.set_title(\"Distribution of Welsh's Test Statistic Under the Null Hypothesis for Home in 2017 vs 2019\")\n",
    "\n",
    "print(f\"Astro's t-statistic is {astros_BbAb_home2017away[0]}, and p-value is {astros_BbAb_home2017away[1]}\")\n"
   ]
  },
  {
   "cell_type": "code",
   "execution_count": null,
   "metadata": {},
   "outputs": [],
   "source": [
    "# Distribution of Welsh's Test Statistic Under the Null Hypothesis \n",
    "x = np.linspace(-5, 5, num=250)\n",
    "\n",
    "fig, ax = plt.subplots(1, figsize=(16, 3))\n",
    "curve = stats.t(160)\n",
    "ax.plot(x, curve.pdf(x), linewidth=2, label=\"Degree of Freedom: {:2.2f}\".format(160))\n",
    "ax.fill_between(x, curve.pdf(x), where=(x >= -astros__BbAb_2017home2019[0]), color=\"red\", alpha=0.25)\n",
    "ax.fill_between(x, curve.pdf(x), where=(x <= astros__BbAb_2017home2019[0]), color=\"red\", alpha=0.25)\n",
    "ax.legend()\n",
    "ax.set_title(\"Distribution of Welsh's Test Statistic Under the Null Hypothesis for Home in 2017 vs 2019\")\n",
    "\n",
    "print(f\"Astro's t-statistic is {astros__BbAb_2017home2019[0]}, and p-value is {astros__BbAb_2017home2019[1]}\");\n"
   ]
  },
  {
   "cell_type": "code",
   "execution_count": null,
   "metadata": {},
   "outputs": [],
   "source": [
    "astros2017_home_BbAb.describe()"
   ]
  },
  {
   "cell_type": "code",
   "execution_count": null,
   "metadata": {},
   "outputs": [],
   "source": [
    "astros2019_home_BbAb.describe()"
   ]
  },
  {
   "cell_type": "code",
   "execution_count": null,
   "metadata": {},
   "outputs": [],
   "source": [
    "\n",
    "\n",
    "# Distribution of Welsh's Test Statistic Under the Null Hypothesis for Home vs Away in 2017\n",
    "x = np.linspace(-3, 3, num=250)\n",
    "\n",
    "fig, ax = plt.subplots(1, figsize=(16, 3))\n",
    "curve = stats.t(160)\n",
    "ax.plot(x, curve.pdf(x), linewidth=2, label=\"Degree of Freedom: {:2.2f}\".format(160))\n",
    "ax.fill_between(x, curve.pdf(x), where=(x >= -astros_home2017away[0]), color=\"red\", alpha=0.25)\n",
    "ax.fill_between(x, curve.pdf(x), where=(x <= astros_home2017away[0]), color=\"red\", alpha=0.25)\n",
    "ax.legend()\n",
    "ax.set_title(\"Distribution of Welsh's Test Statistic Under the Null Hypothesis for Home vs Away in 2017\")\n",
    "\n",
    "print(f\"Astro's t-statistic is {astros_home2017away[0]}, and p-value is {astros_home2017away[1]}\")\n",
    "\n",
    "\n"
   ]
  },
  {
   "cell_type": "code",
   "execution_count": null,
   "metadata": {},
   "outputs": [],
   "source": [
    "# print(astros_home_BbAb.mean())\n",
    "# print(yankees_home_BbAb.mean())\n",
    "# print(dodgers_home_BbAb.mean())\n",
    "# print(redsox_home_BbAb.mean())\n",
    "\n",
    "# list_field_home_bbab = [yankees_home_BbAb.mean(), dodgers_home_BbAb.mean(), redsox_home_BbAb.mean()]\n",
    "# arr_field_home_bbab = np.array(list_field_home_bbab)\n",
    "\n",
    "# print((astros_home_SoAb.mean() - arr_field_home_soab.mean()))\n",
    "\n",
    "# arr_field_home_bbab.mean()"
   ]
  },
  {
   "cell_type": "code",
   "execution_count": null,
   "metadata": {},
   "outputs": [],
   "source": []
  },
  {
   "cell_type": "code",
   "execution_count": null,
   "metadata": {},
   "outputs": [],
   "source": [
    "# print(astros_away_BbAb.mean())\n",
    "# print(yankees_away_BbAb.mean())\n",
    "# print(dodgers_away_BbAb.mean())\n",
    "# print(redsox_away_BbAb.mean())\n",
    "\n",
    "# list_field_away_bbab = [yankees_away_BbAb.mean(), dodgers_away_BbAb.mean(), redsox_away_BbAb.mean()]\n",
    "# arr_field_away_bbab = np.array(list_field_away_bbab)\n",
    "\n",
    "# print((astros_away_BbAb.mean() - arr_field_away_bbab.mean()))\n",
    "\n",
    "# arr_field_away_bbab.mean()"
   ]
  },
  {
   "cell_type": "markdown",
   "metadata": {},
   "source": [
    "# GAME SCORE"
   ]
  },
  {
   "cell_type": "code",
   "execution_count": null,
   "metadata": {},
   "outputs": [],
   "source": [
    "#astros2017df['GmeSc'].unique()"
   ]
  },
  {
   "cell_type": "code",
   "execution_count": null,
   "metadata": {},
   "outputs": [],
   "source": [
    "#astros2017df['GmeSc'].str.extract('(\\d+)')"
   ]
  },
  {
   "cell_type": "code",
   "execution_count": null,
   "metadata": {},
   "outputs": [],
   "source": [
    "#x.apply.astype(int) for x in astros2017df['GmeSc']"
   ]
  },
  {
   "cell_type": "code",
   "execution_count": null,
   "metadata": {},
   "outputs": [],
   "source": [
    "astros_home_GmeSc = astros_home_gb.get_group(True).GmeSc\n",
    "astros_away_GmeSc = astros_home_gb.get_group(False).GmeSc"
   ]
  },
  {
   "cell_type": "code",
   "execution_count": null,
   "metadata": {},
   "outputs": [],
   "source": [
    "astros2017_home_GmeSc = astros2017_home_gb.get_group(True).GmeSc\n",
    "#astros2017_away_GmeSc = astros2017_home_gb.get_group(False).GmeSc\n",
    "astros2019_home_GmeSc = astros2019_home_gb.get_group(True).GmeSc\n",
    "#astros2019_home_GmeSc = astros2019_home_gb.get_group(False).GmeSc\n"
   ]
  },
  {
   "cell_type": "code",
   "execution_count": null,
   "metadata": {},
   "outputs": [],
   "source": [
    "# Game Score HOME vs. AWAY\n",
    "\n",
    "fig, ax = plt.subplots(1, figsize=(16, 3))\n",
    "\n",
    "ax.hist(astros_away_GmeSc, bins=8, label=\"Away\", alpha=.5, color='#fc4f30')\n",
    "ax.hist(astros_home_GmeSc, bins=8, label=\"Home\", alpha=.5, color='#008fd5')\n",
    "\n",
    "plt.ylabel(\"Frequency\")\n",
    "plt.xlabel(\"Starting Pitcher Game Score\")\n",
    "\n",
    "ax.legend();\n",
    "'#fc4f30'"
   ]
  },
  {
   "cell_type": "code",
   "execution_count": null,
   "metadata": {},
   "outputs": [],
   "source": [
    "# SS/AB HOME 2017 vs 2019\n",
    "\n",
    "fig, ax = plt.subplots(1, figsize=(16, 3))\n",
    "\n",
    "ax.hist(astros2017_home_GmeSc, bins=8, color='#fc4f30', label=\"2017 Home\", alpha=.5)\n",
    "ax.hist(astros2019_home_GmeSc, bins=8, color='#008fd5', label=\"2019 Home\", alpha=.5)\n",
    "\n",
    "plt.ylabel(\"Frequency\")\n",
    "plt.xlabel(\"Starting Pitcher Game Score\")\n",
    "plt.title(\"test\")\n",
    "ax.legend();\n"
   ]
  },
  {
   "cell_type": "code",
   "execution_count": null,
   "metadata": {},
   "outputs": [],
   "source": [
    "astros_away_GmeSc.describe()"
   ]
  },
  {
   "cell_type": "code",
   "execution_count": null,
   "metadata": {},
   "outputs": [],
   "source": [
    "astros_home_GmeSc.describe()"
   ]
  },
  {
   "cell_type": "code",
   "execution_count": null,
   "metadata": {},
   "outputs": [],
   "source": [
    "astros2017_home_GmeSc.describe()"
   ]
  },
  {
   "cell_type": "code",
   "execution_count": null,
   "metadata": {},
   "outputs": [],
   "source": [
    "astros2019_home_GmeSc.describe()"
   ]
  },
  {
   "cell_type": "code",
   "execution_count": null,
   "metadata": {},
   "outputs": [],
   "source": [
    "astros_GmeSc_home2017away = stats.ttest_ind(astros_home_GmeSc, astros_away_GmeSc)\n"
   ]
  },
  {
   "cell_type": "code",
   "execution_count": null,
   "metadata": {},
   "outputs": [],
   "source": [
    "astros__GmeSc_2017home2019 = stats.ttest_ind(astros2017_home_GmeSc, astros2019_home_GmeSc)\n",
    "    "
   ]
  },
  {
   "cell_type": "code",
   "execution_count": null,
   "metadata": {},
   "outputs": [],
   "source": [
    "# Distribution of Welsh's Test Statistic Under the Null Hypothesis \n",
    "x = np.linspace(-3, 3, num=250)\n",
    "\n",
    "fig, ax = plt.subplots(1, figsize=(16, 3))\n",
    "curve = stats.t(160)\n",
    "ax.plot(x, curve.pdf(x), linewidth=2, label=\"Degree of Freedom: {:2.2f}\".format(160))\n",
    "ax.fill_between(x, curve.pdf(x), where=(x >= -astros_GmeSc_home2017away[0]), color=\"red\", alpha=0.25)\n",
    "ax.fill_between(x, curve.pdf(x), where=(x <= astros_GmeSc_home2017away[0]), color=\"red\", alpha=0.25)\n",
    "ax.legend()\n",
    "ax.set_title(\"Distribution of Welsh's Test Statistic Under the Null Hypothesis for Home in 2017 vs 2019\")\n",
    "\n",
    "print(f\"Astro's t-statistic is {astros_GmeSc_home2017away[0]}, and p-value is {astros_GmeSc_home2017away[1]}\");\n",
    "\n"
   ]
  },
  {
   "cell_type": "code",
   "execution_count": null,
   "metadata": {},
   "outputs": [],
   "source": [
    "# Distribution of Welsh's Test Statistic Under the Null Hypothesis \n",
    "x = np.linspace(-3, 3, num=250)\n",
    "\n",
    "fig, ax = plt.subplots(1, figsize=(16, 3))\n",
    "curve = stats.t(160)\n",
    "ax.plot(x, curve.pdf(x), linewidth=2, label=\"Degree of Freedom: {:2.2f}\".format(160))\n",
    "ax.fill_between(x, curve.pdf(x), where=(x >= -astros__GmeSc_2017home2019[0]), color=\"red\", alpha=0.25)\n",
    "ax.fill_between(x, curve.pdf(x), where=(x <= astros__GmeSc_2017home2019[0]), color=\"red\", alpha=0.25)\n",
    "ax.legend()\n",
    "ax.set_title(\"Distribution of Welsh's Test Statistic Under the Null Hypothesis for Home in 2017 vs 2019\")\n",
    "\n",
    "print(f\"Astro's t-statistic is {astros__GmeSc_2017home2019[0]}, and p-value is {astros__GmeSc_2017home2019[1]}\")\n"
   ]
  },
  {
   "cell_type": "code",
   "execution_count": null,
   "metadata": {},
   "outputs": [],
   "source": [
    "\n",
    "\n",
    "# Distribution of Welsh's Test Statistic Under the Null Hypothesis for Home vs Away in 2017\n",
    "x = np.linspace(-3, 3, num=250)\n",
    "\n",
    "fig, ax = plt.subplots(1, figsize=(16, 3))\n",
    "curve = stats.t(160)\n",
    "ax.plot(x, curve.pdf(x), linewidth=2, label=\"Degree of Freedom: {:2.2f}\".format(160))\n",
    "ax.fill_between(x, curve.pdf(x), where=(x >= -astros_home2017away[0]), color=\"red\", alpha=0.25)\n",
    "ax.fill_between(x, curve.pdf(x), where=(x <= astros_home2017away[0]), color=\"red\", alpha=0.25)\n",
    "ax.legend()\n",
    "ax.set_title(\"Distribution of Welsh's Test Statistic Under the Null Hypothesis for Home vs Away in 2017\")\n",
    "\n",
    "print(f\"Astro's t-statistic is {astros_home2017away[0]}, and p-value is {astros_home2017away[1]}\")\n",
    "\n",
    "\n"
   ]
  },
  {
   "cell_type": "code",
   "execution_count": null,
   "metadata": {},
   "outputs": [],
   "source": []
  }
 ],
 "metadata": {
  "kernelspec": {
   "display_name": "Python 3",
   "language": "python",
   "name": "python3"
  },
  "language_info": {
   "codemirror_mode": {
    "name": "ipython",
    "version": 3
   },
   "file_extension": ".py",
   "mimetype": "text/x-python",
   "name": "python",
   "nbconvert_exporter": "python",
   "pygments_lexer": "ipython3",
   "version": "3.7.7"
  }
 },
 "nbformat": 4,
 "nbformat_minor": 4
}
