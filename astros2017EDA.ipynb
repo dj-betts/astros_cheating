{
 "cells": [
  {
   "cell_type": "code",
   "execution_count": 1,
   "metadata": {},
   "outputs": [],
   "source": [
    "import pandas as pd\n",
    "import numpy as np\n",
    "from scipy import stats\n",
    "\n",
    "from pandas.plotting import scatter_matrix\n",
    "\n",
    "from matplotlib import pyplot as plt\n",
    "plt.style.use(\"fivethirtyeight\")\n",
    "\n",
    "pd.options.display.max_columns = 50\n",
    "pd.options.display.max_rows = 100"
   ]
  },
  {
   "cell_type": "code",
   "execution_count": 41,
   "metadata": {},
   "outputs": [],
   "source": [
    "# astros2016 = pd.read_csv(\"data/HOU2016.csv\")\n",
    "astros2017 = pd.read_csv(\"data/HOU2017.csv\")\n",
    "# astros2018 = pd.read_csv(\"data/HOU2018.csv\")\n",
    "# astros2019 = pd.read_csv(\"data/HOU2019.csv\")\n",
    "yankees2017 = pd.read_csv(\"data/NYY2017.csv\")\n",
    "dodgers2017 = pd.read_csv(\"data/LAD2017.csv\")\n",
    "redsox2017 = pd.read_csv(\"data/BOS2017.csv\")\n"
   ]
  },
  {
   "cell_type": "code",
   "execution_count": 42,
   "metadata": {},
   "outputs": [],
   "source": [
    "def boolhome(df):\n",
    "    df.dropna(axis=\"index\", how=\"all\", inplace=True, subset=['Gtm'])\n",
    "    df.rename(columns={\"Unnamed: 3\":\"Home\"}, inplace=True)\n",
    "    df.replace({\"Home\":{\"@\": False, np.nan: True}}, inplace=True)\n",
    "    df.drop(\"Unnamed: 0\", axis=1, inplace=True)\n",
    "    df.reset_index(drop=True, inplace=True)\n",
    "    df['GmeSc'] = df['Opp. Starter (GmeSc)'].apply(lambda x: x[-3:-1])\n",
    "    df['SoAb'] = df['SO'] / df[\"AB\"]\n",
    "    df['BbAb'] = df['BB'] / df[\"AB\"]\n",
    "#     df['bbsum'] = df[\"BB\"] + df['SO']\n",
    "    #df['GmeSc'].apply(lambda x: x.astype(int))\n",
    "    return df"
   ]
  },
  {
   "cell_type": "code",
   "execution_count": null,
   "metadata": {},
   "outputs": [],
   "source": []
  },
  {
   "cell_type": "code",
   "execution_count": 43,
   "metadata": {},
   "outputs": [],
   "source": [
    "astros2017df = boolhome(astros2017)\n",
    "# astros2018df = boolhome(astros2018)\n",
    "# astros2019df = boolhome(astros2019)\n",
    "# astros2016df = boolhome(astros2016)\n",
    "yankees2017df = boolhome(yankees2017)\n",
    "dodgers2017df = boolhome(dodgers2017)\n",
    "redsox2017df = boolhome(redsox2017)"
   ]
  },
  {
   "cell_type": "code",
   "execution_count": 44,
   "metadata": {},
   "outputs": [],
   "source": [
    "columns = astros2017df.columns"
   ]
  },
  {
   "cell_type": "code",
   "execution_count": 45,
   "metadata": {},
   "outputs": [],
   "source": [
    "# astros2017df['so/at'] = astros2017df['SO'] / astros2017df[\"AB\"]\n",
    "# astros2017df['bb/at'] = astros2017df['BB'] / astros2017df[\"AB\"]\n",
    "# astros2017df['bbsum'] = astros2017df[\"BB\"] + astros2017df['SO']"
   ]
  },
  {
   "cell_type": "code",
   "execution_count": 46,
   "metadata": {},
   "outputs": [],
   "source": [
    "#astros2017df.head()"
   ]
  },
  {
   "cell_type": "code",
   "execution_count": 47,
   "metadata": {},
   "outputs": [],
   "source": [
    "#astros2017df.info"
   ]
  },
  {
   "cell_type": "code",
   "execution_count": 48,
   "metadata": {},
   "outputs": [],
   "source": [
    "#astros2017df.head()"
   ]
  },
  {
   "cell_type": "code",
   "execution_count": 49,
   "metadata": {},
   "outputs": [],
   "source": [
    "# astros2017df.dropna(axis=\"index\", how=\"all\", inplace=True)"
   ]
  },
  {
   "cell_type": "code",
   "execution_count": null,
   "metadata": {},
   "outputs": [],
   "source": []
  },
  {
   "cell_type": "code",
   "execution_count": null,
   "metadata": {},
   "outputs": [],
   "source": []
  },
  {
   "cell_type": "code",
   "execution_count": 50,
   "metadata": {},
   "outputs": [],
   "source": [
    "#astros2017df.head()"
   ]
  },
  {
   "cell_type": "code",
   "execution_count": 51,
   "metadata": {},
   "outputs": [],
   "source": [
    "#astros2017df.tail()"
   ]
  },
  {
   "cell_type": "code",
   "execution_count": 52,
   "metadata": {},
   "outputs": [],
   "source": [
    "#astros2017df.describe()"
   ]
  },
  {
   "cell_type": "code",
   "execution_count": 53,
   "metadata": {},
   "outputs": [],
   "source": [
    "#astros2017df.OBP\n",
    "#yankees2017df.OBP"
   ]
  },
  {
   "cell_type": "code",
   "execution_count": 54,
   "metadata": {},
   "outputs": [],
   "source": [
    "# #astros2017df.OBP.plot.line()\n",
    "# #yankees2017df.OBP.plot.line()\n",
    "# dodgers2017df.OBP.plot.line()\n",
    "# #redsox2017df.OBP.plot.line();"
   ]
  },
  {
   "cell_type": "code",
   "execution_count": 55,
   "metadata": {},
   "outputs": [],
   "source": [
    "#dodgers2017df.head(10)"
   ]
  },
  {
   "cell_type": "markdown",
   "metadata": {},
   "source": [
    "# GROUPBY home/away"
   ]
  },
  {
   "cell_type": "code",
   "execution_count": 56,
   "metadata": {},
   "outputs": [],
   "source": [
    "astros_home_gb = astros2017df.groupby(\"Home\")\n",
    "yankees_home_gb = yankees2017df.groupby(\"Home\")\n",
    "dodgers_home_gb = dodgers2017df.groupby(\"Home\")\n",
    "redsox_home_gb = redsox2017df.groupby(\"Home\")"
   ]
  },
  {
   "cell_type": "markdown",
   "metadata": {},
   "source": [
    "* ## OBP advantage"
   ]
  },
  {
   "cell_type": "code",
   "execution_count": 74,
   "metadata": {},
   "outputs": [],
   "source": [
    "astros_home_obp = astros_home_gb.get_group(True).OBP\n",
    "astros_away_obp = astros_home_gb.get_group(False).OBP"
   ]
  },
  {
   "cell_type": "code",
   "execution_count": 75,
   "metadata": {},
   "outputs": [
    {
     "data": {
      "text/plain": [
       "pandas.core.series.Series"
      ]
     },
     "execution_count": 75,
     "metadata": {},
     "output_type": "execute_result"
    }
   ],
   "source": [
    "type(astros_home_obp)"
   ]
  },
  {
   "cell_type": "code",
   "execution_count": 76,
   "metadata": {},
   "outputs": [],
   "source": [
    "yankees_home_obp = yankees_home_gb.get_group(True).OBP\n",
    "yankees_away_obp = yankees_home_gb.get_group(False).OBP"
   ]
  },
  {
   "cell_type": "code",
   "execution_count": 77,
   "metadata": {},
   "outputs": [],
   "source": [
    "dodgers_home_obp = dodgers_home_gb.get_group(True).OBP\n",
    "dodgers_away_obp = dodgers_home_gb.get_group(False).OBP"
   ]
  },
  {
   "cell_type": "code",
   "execution_count": 78,
   "metadata": {},
   "outputs": [],
   "source": [
    "redsox_home_obp = redsox_home_gb.get_group(True).OBP\n",
    "redsox_away_obp = redsox_home_gb.get_group(False).OBP"
   ]
  },
  {
   "cell_type": "code",
   "execution_count": 79,
   "metadata": {},
   "outputs": [
    {
     "data": {
      "image/png": "[encoded data removed]",
      "text/plain": [
       "<Figure size 1152x216 with 1 Axes>"
      ]
     },
     "metadata": {},
     "output_type": "display_data"
    }
   ],
   "source": [
    "# heights: matt vs nick\n",
    "fig, ax = plt.subplots(1, figsize=(16, 3))\n",
    "\n",
    "ax.scatter(astros_home_obp, \n",
    "           np.repeat(0, len(astros_home_obp)) + \\\n",
    "           np.random.normal(0, 0.1, len(astros_home_obp)), ## jitter\n",
    "           s=45)\n",
    "ax.scatter(astros_away_obp, \n",
    "           np.repeat(1, len(astros_away_obp)) + \\\n",
    "           np.random.normal(0, 0.1, len(astros_home_obp)), \n",
    "           s=45)\n",
    "ax.set_yticks([0, 1])\n",
    "ax.set_yticklabels([\"Home\", \"Away\"]);"
   ]
  },
  {
   "cell_type": "markdown",
   "metadata": {},
   "source": [
    "#### Write down the Null and Alternative Hypothesis \n",
    "\n",
    "**Null:** There is no difference in the OBP between HOME and AWAY games.\n",
    "\n",
    "**Alternative:** There is a difference in the OBP between HOME and AWAY games."
   ]
  },
  {
   "cell_type": "code",
   "execution_count": 80,
   "metadata": {},
   "outputs": [],
   "source": [
    "\n",
    "\n",
    "def welch_test_statistic(sample_1, sample_2):\n",
    "    numerator = np.mean(sample_1) - np.mean(sample_2)\n",
    "    denominator_sq = (np.var(sample_1) / len(sample_1)) + \\\n",
    "                        (np.var(sample_2) / len(sample_2))\n",
    "    return numerator / np.sqrt(denominator_sq)"
   ]
  },
  {
   "cell_type": "code",
   "execution_count": 81,
   "metadata": {},
   "outputs": [
    {
     "name": "stdout",
     "output_type": "stream",
     "text": [
      "Welch Test Statistic: -2.51\n"
     ]
    }
   ],
   "source": [
    "test_statistic = welch_test_statistic(astros_home_obp, astros_away_obp)\n",
    "print(\"Welch Test Statistic: {:2.2f}\".format(test_statistic))"
   ]
  },
  {
   "cell_type": "code",
   "execution_count": 82,
   "metadata": {},
   "outputs": [],
   "source": [
    "def welch_satterhwaithe_df(sample_1, sample_2):\n",
    "    ss1 = len(sample_1)\n",
    "    ss2 = len(sample_2)\n",
    "    df = (\n",
    "        ((np.var(sample_1)/ss1 + np.var(sample_2)/ss2)**(2.0)) / \n",
    "        ((np.var(sample_1)/ss1)**(2.0)/(ss1 - 1) + (np.var(sample_2)/ss2)**(2.0)/(ss2 - 1))\n",
    "    )\n",
    "    return df"
   ]
  },
  {
   "cell_type": "code",
   "execution_count": 83,
   "metadata": {},
   "outputs": [
    {
     "name": "stdout",
     "output_type": "stream",
     "text": [
      "Degrees of Freedom for Welch's Test: 99.19\n"
     ]
    }
   ],
   "source": [
    "df = welch_satterhwaithe_df(astros_home_obp, astros_away_obp)\n",
    "print(\"Degrees of Freedom for Welch's Test: {:2.2f}\".format(df))"
   ]
  },
  {
   "cell_type": "code",
   "execution_count": null,
   "metadata": {},
   "outputs": [],
   "source": []
  },
  {
   "cell_type": "code",
   "execution_count": 84,
   "metadata": {},
   "outputs": [
    {
     "data": {
      "image/png": "[encoded data removed]",
      "text/plain": [
       "<Figure size 1152x216 with 1 Axes>"
      ]
     },
     "metadata": {},
     "output_type": "display_data"
    }
   ],
   "source": [
    "# Distribution of Welsh's Test Statistic Under the Null Hypothesis\n",
    "x = np.linspace(-3, 3, num=250)\n",
    "\n",
    "fig, ax = plt.subplots(1, figsize=(16, 3))\n",
    "students = stats.t(df)\n",
    "ax.plot(x, students.pdf(x), linewidth=2, label=\"Degree of Freedom: {:2.2f}\".format(df))\n",
    "ax.legend()\n",
    "ax.set_title(\"Distribution of Welsh's Test Statistic Under the Null Hypothesis\");"
   ]
  },
  {
   "cell_type": "markdown",
   "metadata": {},
   "source": [
    "**Also, the above is not always true!**  The $T$ statistic only has a t-distribution **under the assumption that the population distributions are Normal**!  \n",
    "\n",
    "# is this why my plots look weighted towards one side? is my sample normally distributed? Is OBP NOT normally distributed because it's a rolling average?\n",
    "\n",
    "If the population is very non-normal, the properties of the t-test **will fail**.  You must have some legitimate a-priori reason to believe the populations are approximately normal to use a t-test!\n",
    "\n",
    "\n",
    "#### Set Significance level\n",
    "\n",
    "Given the the love I have for my childhood baseball tea (and in a sense my childhood) that's at stake here, and how much they value to friendship, I decide to be reasonably skeptical, so take $\\alpha = 0.05$.\n",
    "\n",
    "#### Calculate p-value\n"
   ]
  },
  {
   "cell_type": "code",
   "execution_count": 85,
   "metadata": {},
   "outputs": [
    {
     "data": {
      "image/png": "[encoded data removed]",
      "text/plain": [
       "<Figure size 1152x216 with 1 Axes>"
      ]
     },
     "metadata": {},
     "output_type": "display_data"
    }
   ],
   "source": [
    "# p-val\n",
    "x = np.linspace(-3, 3, num=250)\n",
    "\n",
    "fig, ax = plt.subplots(1, figsize=(16, 3))\n",
    "students = stats.t(df)\n",
    "ax.plot(x, students.pdf(x), linewidth=2, label=\"Degree of Freedom: {:2.2f}\".format(df))\n",
    "_ = ax.fill_between(x, students.pdf(x), where=(x >= -test_statistic), color=\"red\", alpha=0.25)\n",
    "_ = ax.fill_between(x, students.pdf(x), where=(x <= test_statistic), color=\"red\", alpha=0.25)\n",
    "ax.legend()\n",
    "ax.set_title(\"p-value Reigon\");"
   ]
  },
  {
   "cell_type": "code",
   "execution_count": 86,
   "metadata": {},
   "outputs": [
    {
     "name": "stdout",
     "output_type": "stream",
     "text": [
      "p-value for different average kickflip height: 0.01\n"
     ]
    }
   ],
   "source": [
    "p_value = students.cdf(test_statistic) + (1 - students.cdf(-test_statistic))\n",
    "print(\"p-value for different average kickflip height: {:2.2f}\".format(p_value))"
   ]
  },
  {
   "cell_type": "markdown",
   "metadata": {},
   "source": [
    "# 0.01 < 0.05 --> there is a statistical difference between HOME and AWAY games."
   ]
  },
  {
   "cell_type": "code",
   "execution_count": 87,
   "metadata": {},
   "outputs": [
    {
     "name": "stdout",
     "output_type": "stream",
     "text": [
      "p-value for the OBP for HOME games greater than AWAY games: 0.993\n"
     ]
    }
   ],
   "source": [
    "test_statistic = welch_test_statistic(astros_home_obp, astros_away_obp)\n",
    "\n",
    "p_value = 1 - students.cdf(test_statistic)\n",
    "print(\"p-value for the OBP for HOME games greater than AWAY games: {:2.3f}\".format(p_value))"
   ]
  },
  {
   "cell_type": "markdown",
   "metadata": {},
   "source": [
    "### So the astros did have a statistically better OBP at HOME than AWAY. but that's to be expected."
   ]
  },
  {
   "cell_type": "markdown",
   "metadata": {},
   "source": [
    "## How do I compare the advantages of these other teams HOME/AWAY OBP split to the astros???"
   ]
  },
  {
   "cell_type": "markdown",
   "metadata": {},
   "source": [
    "# WAIT! They had a better OPB for AWAY games than HOME games. I need to try a different stat..."
   ]
  },
  {
   "cell_type": "code",
   "execution_count": 88,
   "metadata": {},
   "outputs": [
    {
     "name": "stdout",
     "output_type": "stream",
     "text": [
      "0.34600000000000003\n",
      "0.34\n",
      "0.341\n",
      "0.335\n"
     ]
    }
   ],
   "source": [
    "#OBP for 2017 season\n",
    "print(astros2017df.OBP.median())\n",
    "print(yankees2017df.OBP.median())\n",
    "print(dodgers2017df.OBP.median())\n",
    "print(redsox2017df.OBP.median())"
   ]
  },
  {
   "cell_type": "code",
   "execution_count": 89,
   "metadata": {},
   "outputs": [
    {
     "name": "stdout",
     "output_type": "stream",
     "text": [
      "0.3400370370370371\n",
      "0.34225925925925904\n",
      "0.34209876543209866\n",
      "0.3364197530864195\n"
     ]
    }
   ],
   "source": [
    "#OBP for 2017 home games\n",
    "print(astros_home_obp.mean())\n",
    "print(yankees_home_obp.mean())\n",
    "print(dodgers_home_obp.mean())\n",
    "print(redsox_home_obp.mean())"
   ]
  },
  {
   "cell_type": "code",
   "execution_count": 90,
   "metadata": {},
   "outputs": [
    {
     "name": "stdout",
     "output_type": "stream",
     "text": [
      "0.3463950617283951\n",
      "0.3403950617283949\n",
      "0.3397160493827161\n",
      "0.3374444444444443\n"
     ]
    }
   ],
   "source": [
    "#OBP for 2017 away games\n",
    "print(astros_away_obp.mean())\n",
    "print(yankees_away_obp.mean())\n",
    "print(dodgers_away_obp.mean())\n",
    "print(redsox_away_obp.mean())"
   ]
  },
  {
   "cell_type": "code",
   "execution_count": 91,
   "metadata": {},
   "outputs": [],
   "source": [
    "#home.get_group(True).OBP.plot.line()"
   ]
  },
  {
   "cell_type": "code",
   "execution_count": 92,
   "metadata": {},
   "outputs": [
    {
     "name": "stdout",
     "output_type": "stream",
     "text": [
      "home:0.3400370370370371\n",
      "away:0.3463950617283951\n"
     ]
    },
    {
     "data": {
      "image/png": "[encoded data removed]",
      "text/plain": [
       "<Figure size 432x288 with 1 Axes>"
      ]
     },
     "metadata": {},
     "output_type": "display_data"
    }
   ],
   "source": [
    "astros_away_obp.plot.line(label=\"away\")\n",
    "astros_home_obp.plot.line(label=\"home\")\n",
    "plt.legend()\n",
    "print(f'home:{astros_home_obp.mean()}')\n",
    "print(f'away:{astros_away_obp.mean()}')\n"
   ]
  },
  {
   "cell_type": "code",
   "execution_count": 93,
   "metadata": {},
   "outputs": [
    {
     "name": "stdout",
     "output_type": "stream",
     "text": [
      "home:0.34225925925925904\n",
      "away:0.3403950617283949\n"
     ]
    },
    {
     "data": {
      "image/png": "[encoded data removed]",
      "text/plain": [
       "<Figure size 432x288 with 1 Axes>"
      ]
     },
     "metadata": {},
     "output_type": "display_data"
    }
   ],
   "source": [
    "yankees_away_obp.plot.line(label=\"away\")\n",
    "yankees_home_obp.plot.line(label=\"home\")\n",
    "plt.legend()\n",
    "print(f'home:{yankees_home_obp.mean()}')\n",
    "print(f'away:{yankees_away_obp.mean()}');"
   ]
  },
  {
   "cell_type": "code",
   "execution_count": 94,
   "metadata": {},
   "outputs": [
    {
     "name": "stdout",
     "output_type": "stream",
     "text": [
      "home:0.34209876543209866\n",
      "away:0.3397160493827161\n"
     ]
    },
    {
     "data": {
      "image/png": "[encoded data removed]",
      "text/plain": [
       "<Figure size 432x288 with 1 Axes>"
      ]
     },
     "metadata": {},
     "output_type": "display_data"
    }
   ],
   "source": [
    "dodgers_away_obp.plot.line(label=\"away\")\n",
    "dodgers_home_obp.plot.line(label=\"home\")\n",
    "plt.legend()\n",
    "print(f'home:{dodgers_home_obp.mean()}')\n",
    "print(f'away:{dodgers_away_obp.mean()}');"
   ]
  },
  {
   "cell_type": "code",
   "execution_count": 95,
   "metadata": {},
   "outputs": [
    {
     "name": "stdout",
     "output_type": "stream",
     "text": [
      "home:0.3364197530864195\n",
      "away:0.3374444444444443\n"
     ]
    },
    {
     "data": {
      "image/png": "[encoded data removed]",
      "text/plain": [
       "<Figure size 432x288 with 1 Axes>"
      ]
     },
     "metadata": {},
     "output_type": "display_data"
    }
   ],
   "source": [
    "redsox_away_obp.plot.line(label=\"away\")\n",
    "redsox_home_obp.plot.line(label=\"home\")\n",
    "plt.legend()\n",
    "print(f'home:{redsox_home_obp.mean()}')\n",
    "print(f'away:{redsox_away_obp.mean()}');"
   ]
  },
  {
   "cell_type": "markdown",
   "metadata": {},
   "source": [
    "#### Is On Base Percentage (OBP) a rolling/weighted average? Can I parce HOME vs AWAY games? Should I consider a different stat like Strikeouts (SO)?"
   ]
  },
  {
   "cell_type": "markdown",
   "metadata": {},
   "source": [
    "* ## SO advantage\n",
    "fewer stikeouts/game\n",
    "expect: astros to have fewer strikeouts than the field"
   ]
  },
  {
   "cell_type": "code",
   "execution_count": 97,
   "metadata": {},
   "outputs": [],
   "source": [
    "# astros_home_so = astros_home_gb.get_group(True).SO\n",
    "# astros_away_so = astros_home_gb.get_group(False).SO"
   ]
  },
  {
   "cell_type": "code",
   "execution_count": 98,
   "metadata": {},
   "outputs": [],
   "source": [
    "# yankees_home_so = yankees_home_gb.get_group(True).SO\n",
    "# yankees_away_so = yankees_home_gb.get_group(False).SO"
   ]
  },
  {
   "cell_type": "code",
   "execution_count": 99,
   "metadata": {},
   "outputs": [],
   "source": [
    "# dodgers_home_so = dodgers_home_gb.get_group(True).SO\n",
    "# dodgers_away_so = dodgers_home_gb.get_group(False).SO"
   ]
  },
  {
   "cell_type": "code",
   "execution_count": 100,
   "metadata": {},
   "outputs": [],
   "source": [
    "# redsox_home_so = redsox_home_gb.get_group(True).SO\n",
    "# redsox_away_so = redsox_home_gb.get_group(False).SO"
   ]
  },
  {
   "cell_type": "code",
   "execution_count": 101,
   "metadata": {},
   "outputs": [],
   "source": [
    "# astros_home_so_desc = astros_home_so.describe()"
   ]
  },
  {
   "cell_type": "code",
   "execution_count": null,
   "metadata": {},
   "outputs": [],
   "source": [
    "#astros_home_so_desc"
   ]
  },
  {
   "cell_type": "code",
   "execution_count": 102,
   "metadata": {},
   "outputs": [
    {
     "name": "stdout",
     "output_type": "stream",
     "text": [
      "6.197530864197531\n"
     ]
    }
   ],
   "source": [
    "print(astros_home_so.mean())\n",
    "# print(yankees_home_so.mean())\n",
    "# print(dodgers_home_so.mean())\n",
    "# print(redsox_home_so.mean())\n",
    "\n",
    "# list_field_home_so = [yankees_home_so.mean(), dodgers_home_so.mean(), redsox_home_so.mean()]\n",
    "# arr_field_home_so = np.array(list_field_home_so)\n",
    "\n",
    "# print((astros_home_so.mean() - arr_field_home_so.mean()))\n",
    "\n",
    "# arr_field_home_so.mean()\n"
   ]
  },
  {
   "cell_type": "code",
   "execution_count": 103,
   "metadata": {},
   "outputs": [
    {
     "name": "stdout",
     "output_type": "stream",
     "text": [
      "7.222222222222222\n"
     ]
    }
   ],
   "source": [
    "print(astros_away_so.mean())\n",
    "# print(yankees_away_so.mean())\n",
    "# print(dodgers_away_so.mean())\n",
    "# print(redsox_away_so.mean())\n",
    "\n",
    "# list_field_away_so = [yankees_away_so.mean(), dodgers_away_so.mean(), redsox_away_so.mean()]\n",
    "# arr_field_away_so = np.array(list_field_away_so)\n",
    "\n",
    "# print((astros_home_so.mean() - arr_field_away_so.mean()))\n",
    "\n",
    "# arr_field_away_so.mean()"
   ]
  },
  {
   "cell_type": "markdown",
   "metadata": {},
   "source": [
    "some plot attempts"
   ]
  },
  {
   "cell_type": "code",
   "execution_count": 104,
   "metadata": {},
   "outputs": [],
   "source": [
    "# plt.hist(astros_home_so)\n",
    "# plt.hist(yankees_home_so)\n",
    "# plt.hist(dodgers_home_so)\n",
    "# plt.hist(redsox_home_so)\n",
    "#print(abs(astros_home_so.mean() - yankees_home_so.mean()))\n",
    "#plt.hist([astros_home_so.mean(), yankees_home_so.mean(), dodgers_home_so.mean(), redsox_home_so.mean()])"
   ]
  },
  {
   "cell_type": "code",
   "execution_count": 105,
   "metadata": {},
   "outputs": [],
   "source": [
    "# astros_home_so.plot.bar()\n",
    "# yankees_home_so.plot.bar()\n",
    "# abs(astros_home_so - yankees_home_so).plot.bar()"
   ]
  },
  {
   "cell_type": "markdown",
   "metadata": {},
   "source": [
    "* ## SS/AB\n",
    "new stat: strikeouts/at bats\n",
    "expect to be lower than the field"
   ]
  },
  {
   "cell_type": "code",
   "execution_count": 124,
   "metadata": {},
   "outputs": [],
   "source": [
    "astros_home_SoAb = astros_home_gb.get_group(True).SoAb\n",
    "astros_away_SoAb = astros_home_gb.get_group(False).SoAb"
   ]
  },
  {
   "cell_type": "code",
   "execution_count": 125,
   "metadata": {},
   "outputs": [],
   "source": [
    "yankees_home_SoAb = yankees_home_gb.get_group(True).SoAb\n",
    "yankees_away_SoAb = yankees_home_gb.get_group(False).SoAb"
   ]
  },
  {
   "cell_type": "code",
   "execution_count": 126,
   "metadata": {},
   "outputs": [],
   "source": [
    "dodgers_home_SoAb = dodgers_home_gb.get_group(True).SoAb\n",
    "dodgers_away_SoAb = dodgers_home_gb.get_group(False).SoAb"
   ]
  },
  {
   "cell_type": "code",
   "execution_count": 127,
   "metadata": {},
   "outputs": [],
   "source": [
    "redsox_home_SoAb = redsox_home_gb.get_group(True).SoAb\n",
    "redsox_away_SoAb = redsox_home_gb.get_group(False).SoAb"
   ]
  },
  {
   "cell_type": "code",
   "execution_count": 128,
   "metadata": {},
   "outputs": [],
   "source": [
    "# # SS/AB HOME vs. AWAY\n",
    "# fig, ax = plt.subplots(1, figsize=(16, 3))\n",
    "\n",
    "# ax.scatter(astros2017df.SoAb, bins = 5,\n",
    "# #            np.repeat(0, len(astros_home_SoAb)) + \\\n",
    "# #            np.random.normal(0, 0.1, len(astros_home_SoAb)), ## jitter\n",
    "#            s=45)\n",
    "\n",
    "# .set_yticks([0, 1])\n",
    "# ax.set_yticklabels([\"Home\", \"Away\"]);"
   ]
  },
  {
   "cell_type": "code",
   "execution_count": 187,
   "metadata": {},
   "outputs": [
    {
     "data": {
      "image/png": "[encoded data removed]",
      "text/plain": [
       "<Figure size 1152x216 with 1 Axes>"
      ]
     },
     "metadata": {},
     "output_type": "display_data"
    }
   ],
   "source": [
    "# SS/AB HOME vs. AWAY\n",
    "fig, ax = plt.subplots(1, figsize=(16, 3))\n",
    "\n",
    "ax.hist(astros_home_SoAb, bins=20, label=\"Home\", color=\"orange\", alpha=.5)\n",
    "ax.hist(astros_away_SoAb, bins=20, label=\"Away\", color=\"black\", alpha=.2)\n",
    "\n",
    "plt.ylabel(\"Games\")\n",
    "plt.xlabel(\"SO/AB\")\n",
    "\n",
    "ax.legend();"
   ]
  },
  {
   "cell_type": "code",
   "execution_count": 188,
   "metadata": {},
   "outputs": [],
   "source": [
    "# # SS/AB HOME vs. AWAY\n",
    "# fig, ax = plt.subplots(1, figsize=(16, 3))\n",
    "\n",
    "# ax.hist(yankees_home_SoAb, bins=20, label=\"Home\", color=\"blue\", alpha=.5)\n",
    "# ax.hist(yankees_away_SoAb, bins=20, label=\"Away\", color=\"black\", alpha=.2)\n",
    "\n",
    "# plt.ylabel(\"Games\")\n",
    "# plt.xlabel(\"SO/AB\")\n",
    "\n",
    "# ax.legend();"
   ]
  },
  {
   "cell_type": "code",
   "execution_count": 189,
   "metadata": {},
   "outputs": [],
   "source": [
    "# # SS/AB HOME vs. AWAY\n",
    "# fig, ax = plt.subplots(1, figsize=(16, 3))\n",
    "\n",
    "# ax.hist(dodgers_home_SoAb, bins=20, label=\"Home\", color=\"purple\", alpha=.5)\n",
    "# ax.hist(dodgers_away_SoAb, bins=20, label=\"Away\", color=\"black\", alpha=.2)\n",
    "\n",
    "# plt.ylabel(\"Games\")\n",
    "# plt.xlabel(\"SO/AB\")\n",
    "\n",
    "# ax.legend();"
   ]
  },
  {
   "cell_type": "code",
   "execution_count": 190,
   "metadata": {},
   "outputs": [],
   "source": [
    "# # SS/AB HOME vs. AWAY\n",
    "# fig, ax = plt.subplots(1, figsize=(16, 3))\n",
    "\n",
    "# ax.hist(redsox_home_SoAb, bins=20, label=\"Home\", color=\"red\",alpha=.5)\n",
    "# ax.hist(redsox_away_SoAb, bins=20, label=\"Away\", color=\"black\", alpha=.2)\n",
    "\n",
    "# plt.ylabel(\"Games\")\n",
    "# plt.xlabel(\"SO/AB\")\n",
    "\n",
    "# ax.legend();"
   ]
  },
  {
   "cell_type": "code",
   "execution_count": 191,
   "metadata": {},
   "outputs": [],
   "source": [
    "# SS/AB HOME vs. AWAY\n",
    "# fig, ax = plt.subplots(1,1)\n",
    "\n",
    "# ax.hist(astros2017df.SoAb)\n",
    "# ax.hist(astros_home_SoAb, bins=90)\n",
    "# ax.hist(astros_away_SoAb, alpha=.5, bins=90)\n",
    "# ax.hist(astros2017df.Date)\n",
    "# ax.legend([\"Home\", \"Away\"]);"
   ]
  },
  {
   "cell_type": "markdown",
   "metadata": {},
   "source": [
    "#### Write down the Null and Alternative Hypothesis \n",
    "\n",
    "**Null:** There is no difference in the SS/AB between HOME and AWAY games.\n",
    "\n",
    "**Alternative:** There is a difference in the SS/AB between HOME and AWAY games."
   ]
  },
  {
   "cell_type": "code",
   "execution_count": 192,
   "metadata": {},
   "outputs": [],
   "source": [
    "# astros_test_statistic = welch_test_statistic(astros_home_SoAb, astros_away_SoAb)\n",
    "# print(\"Welch Test Statistic: {:2.2f}\".format(astros_test_statistic))\n",
    "# yankees_test_statistic = welch_test_statistic(yankees_home_SoAb, yankees_away_SoAb)\n",
    "# print(\"Welch Test Statistic: {:2.2f}\".format(yankees_test_statistic))\n",
    "# dodgers_test_statistic = welch_test_statistic(dodgers_home_SoAb, dodgers_away_SoAb)\n",
    "# print(\"Welch Test Statistic: {:2.2f}\".format(dodgers_test_statistic))\n",
    "# redsox_test_statistic = welch_test_statistic(redsox_home_SoAb, redsox_away_SoAb)\n",
    "# print(\"Welch Test Statistic: {:2.2f}\".format(redsox_test_statistic))"
   ]
  },
  {
   "cell_type": "code",
   "execution_count": 193,
   "metadata": {},
   "outputs": [],
   "source": [
    "# astros_df = welch_satterhwaithe_df(astros_home_SoAb, astros_away_SoAb)\n",
    "# print(\"Degrees of Freedom for Welch's Test: {:2.2f}\".format(astros_df))\n",
    "# yankees_df = welch_satterhwaithe_df(yankees_home_SoAb, yankees_away_SoAb)\n",
    "# print(\"Degrees of Freedom for Welch's Test: {:2.2f}\".format(yankees_df))\n",
    "# dodgers_df = welch_satterhwaithe_df(dodgers_home_SoAb, dodgers_away_SoAb)\n",
    "# print(\"Degrees of Freedom for Welch's Test: {:2.2f}\".format(dodgers_df))\n",
    "# redsox_df = welch_satterhwaithe_df(redsox_home_SoAb, redsox_away_SoAb)\n",
    "# print(\"Degrees of Freedom for Welch's Test: {:2.2f}\".format(redsox_df))"
   ]
  },
  {
   "cell_type": "code",
   "execution_count": 194,
   "metadata": {},
   "outputs": [],
   "source": [
    "astros = stats.ttest_ind(astros_home_SoAb, astros_away_SoAb)"
   ]
  },
  {
   "cell_type": "code",
   "execution_count": 195,
   "metadata": {},
   "outputs": [
    {
     "data": {
      "text/plain": [
       "-1.2859019101726619"
      ]
     },
     "execution_count": 195,
     "metadata": {},
     "output_type": "execute_result"
    }
   ],
   "source": [
    "astros[0]"
   ]
  },
  {
   "cell_type": "code",
   "execution_count": 197,
   "metadata": {},
   "outputs": [],
   "source": [
    "astros_p_value = astros[1]"
   ]
  },
  {
   "cell_type": "code",
   "execution_count": 198,
   "metadata": {},
   "outputs": [
    {
     "data": {
      "text/plain": [
       "0.20033515512214123"
      ]
     },
     "execution_count": 198,
     "metadata": {},
     "output_type": "execute_result"
    }
   ],
   "source": [
    "astros_p_value"
   ]
  },
  {
   "cell_type": "code",
   "execution_count": 196,
   "metadata": {},
   "outputs": [
    {
     "ename": "AttributeError",
     "evalue": "'Ttest_indResult' object has no attribute 'pdf'",
     "output_type": "error",
     "traceback": [
      "\u001b[0;31m---------------------------------------------------------------------------\u001b[0m",
      "\u001b[0;31mAttributeError\u001b[0m                            Traceback (most recent call last)",
      "\u001b[0;32m<ipython-input-196-fd4c2433ae44>\u001b[0m in \u001b[0;36m<module>\u001b[0;34m\u001b[0m\n\u001b[1;32m      3\u001b[0m \u001b[0;34m\u001b[0m\u001b[0m\n\u001b[1;32m      4\u001b[0m \u001b[0mfig\u001b[0m\u001b[0;34m,\u001b[0m \u001b[0max\u001b[0m \u001b[0;34m=\u001b[0m \u001b[0mplt\u001b[0m\u001b[0;34m.\u001b[0m\u001b[0msubplots\u001b[0m\u001b[0;34m(\u001b[0m\u001b[0;36m1\u001b[0m\u001b[0;34m,\u001b[0m \u001b[0mfigsize\u001b[0m\u001b[0;34m=\u001b[0m\u001b[0;34m(\u001b[0m\u001b[0;36m16\u001b[0m\u001b[0;34m,\u001b[0m \u001b[0;36m3\u001b[0m\u001b[0;34m)\u001b[0m\u001b[0;34m)\u001b[0m\u001b[0;34m\u001b[0m\u001b[0;34m\u001b[0m\u001b[0m\n\u001b[0;32m----> 5\u001b[0;31m \u001b[0max\u001b[0m\u001b[0;34m.\u001b[0m\u001b[0mplot\u001b[0m\u001b[0;34m(\u001b[0m\u001b[0mx\u001b[0m\u001b[0;34m,\u001b[0m \u001b[0mastros\u001b[0m\u001b[0;34m.\u001b[0m\u001b[0mpdf\u001b[0m\u001b[0;34m(\u001b[0m\u001b[0mx\u001b[0m\u001b[0;34m)\u001b[0m\u001b[0;34m,\u001b[0m \u001b[0mlinewidth\u001b[0m\u001b[0;34m=\u001b[0m\u001b[0;36m2\u001b[0m\u001b[0;34m,\u001b[0m \u001b[0mlabel\u001b[0m\u001b[0;34m=\u001b[0m\u001b[0;34m\"Degree of Freedom: {:2.2f}\"\u001b[0m\u001b[0;34m.\u001b[0m\u001b[0mformat\u001b[0m\u001b[0;34m(\u001b[0m\u001b[0mdf\u001b[0m\u001b[0;34m)\u001b[0m\u001b[0;34m)\u001b[0m\u001b[0;34m\u001b[0m\u001b[0;34m\u001b[0m\u001b[0m\n\u001b[0m\u001b[1;32m      6\u001b[0m \u001b[0max\u001b[0m\u001b[0;34m.\u001b[0m\u001b[0mlegend\u001b[0m\u001b[0;34m(\u001b[0m\u001b[0;34m)\u001b[0m\u001b[0;34m\u001b[0m\u001b[0;34m\u001b[0m\u001b[0m\n\u001b[1;32m      7\u001b[0m \u001b[0max\u001b[0m\u001b[0;34m.\u001b[0m\u001b[0mset_title\u001b[0m\u001b[0;34m(\u001b[0m\u001b[0;34m\"Distribution of Welsh's Test Statistic Under the Null Hypothesis\"\u001b[0m\u001b[0;34m)\u001b[0m\u001b[0;34m\u001b[0m\u001b[0;34m\u001b[0m\u001b[0m\n",
      "\u001b[0;31mAttributeError\u001b[0m: 'Ttest_indResult' object has no attribute 'pdf'"
     ]
    },
    {
     "data": {
      "image/png": "[encoded data removed]",
      "text/plain": [
       "<Figure size 1152x216 with 1 Axes>"
      ]
     },
     "metadata": {},
     "output_type": "display_data"
    }
   ],
   "source": [
    "# Distribution of Welsh's Test Statistic Under the Null Hypothesis\n",
    "x = np.linspace(-3, 3, num=250)\n",
    "\n",
    "fig, ax = plt.subplots(1, figsize=(16, 3))\n",
    "students = stats.t(df)\n",
    "ax.plot(x, students.pdf(x), linewidth=2, label=\"Degree of Freedom: {:2.2f}\".format(df))\n",
    "ax.legend()\n",
    "ax.set_title(\"Distribution of Welsh's Test Statistic Under the Null Hypothesis\")"
   ]
  },
  {
   "cell_type": "code",
   "execution_count": 153,
   "metadata": {},
   "outputs": [
    {
     "data": {
      "image/png": "[encoded data removed]",
      "text/plain": [
       "<Figure size 1152x216 with 1 Axes>"
      ]
     },
     "metadata": {},
     "output_type": "display_data"
    }
   ],
   "source": [
    "# p-val\n",
    "x = np.linspace(-3, 3, num=250)\n",
    "\n",
    "fig, ax = plt.subplots(1, figsize=(16, 3))\n",
    "students = stats.t(df) #stats.t_ind()\n",
    "ax.plot(x, students.pdf(x), linewidth=2, label=\"Degree of Freedom: {:2.2f}\".format(df))\n",
    "_ = ax.fill_between(x, students.pdf(x), where=(x >= -test_statistic), color=\"red\", alpha=0.25)\n",
    "_ = ax.fill_between(x, students.pdf(x), where=(x <= test_statistic), color=\"red\", alpha=0.25)\n",
    "ax.legend()\n",
    "ax.set_title(\"p-value Reigon\");"
   ]
  },
  {
   "cell_type": "code",
   "execution_count": 170,
   "metadata": {},
   "outputs": [
    {
     "name": "stdout",
     "output_type": "stream",
     "text": [
      "p-value for different SS/AB: 1.80\n",
      "p-value for different SS/AB: 0.52\n",
      "p-value for different SS/AB: 0.77\n",
      "p-value for different SS/AB: 1.66\n"
     ]
    }
   ],
   "source": [
    "astros_p_value = students.cdf(-astros_test_statistic) + (1 - students.cdf(astros_test_statistic))\n",
    "print(\"p-value for different SS/AB: {:2.2f}\".format(astros_p_value))\n",
    "yankees_p_value = students.cdf(-yankees_test_statistic) + (1 - students.cdf(yankees_test_statistic))\n",
    "print(\"p-value for different SS/AB: {:2.2f}\".format(yankees_p_value))\n",
    "dodgers_p_value = students.cdf(-dodgers_test_statistic) + (1 - students.cdf(dodgers_test_statistic))\n",
    "print(\"p-value for different SS/AB: {:2.2f}\".format(dodgers_p_value))\n",
    "redsox_p_value = students.cdf(-redsox_test_statistic) + (1 - students.cdf(redsox_test_statistic))\n",
    "print(\"p-value for different SS/AB: {:2.2f}\".format(redsox_p_value))\n",
    "\n"
   ]
  },
  {
   "cell_type": "code",
   "execution_count": 137,
   "metadata": {},
   "outputs": [
    {
     "name": "stdout",
     "output_type": "stream",
     "text": [
      "p-value for the OBP for HOME games greater than AWAY games: 0.901\n"
     ]
    }
   ],
   "source": [
    "test_statistic = welch_test_statistic(astros_home_SoAb, astros_away_SoAb)\n",
    "\n",
    "p_value = 1 - students.cdf(test_statistic)\n",
    "print(\"p-value for the OBP for HOME games greater than AWAY games: {:2.3f}\".format(p_value))"
   ]
  },
  {
   "cell_type": "code",
   "execution_count": 138,
   "metadata": {},
   "outputs": [
    {
     "name": "stdout",
     "output_type": "stream",
     "text": [
      "0.18812175291296823\n",
      "0.2538940449109881\n",
      "0.2585494086765249\n",
      "0.21108347759305549\n",
      "-0.05305389081388795\n"
     ]
    },
    {
     "data": {
      "text/plain": [
       "0.24117564372685618"
      ]
     },
     "execution_count": 138,
     "metadata": {},
     "output_type": "execute_result"
    }
   ],
   "source": [
    "print(astros_home_SoAb.mean())\n",
    "print(yankees_home_SoAb.mean())\n",
    "print(dodgers_home_SoAb.mean())\n",
    "print(redsox_home_SoAb.mean())\n",
    "\n",
    "list_field_home_soab = [yankees_home_SoAb.mean(), dodgers_home_SoAb.mean(), redsox_home_SoAb.mean()]\n",
    "arr_field_home_soab = np.array(list_field_home_soab)\n",
    "\n",
    "print((astros_home_SoAb.mean() - arr_field_home_soab.mean()))\n",
    "\n",
    "arr_field_home_soab.mean()"
   ]
  },
  {
   "cell_type": "code",
   "execution_count": 139,
   "metadata": {},
   "outputs": [
    {
     "name": "stdout",
     "output_type": "stream",
     "text": [
      "0.20336894774961192\n",
      "0.24466594275864456\n",
      "0.25466970932233124\n",
      "0.22296091479164296\n",
      "-0.037396574541260996\n"
     ]
    },
    {
     "data": {
      "text/plain": [
       "0.24117564372685618"
      ]
     },
     "execution_count": 139,
     "metadata": {},
     "output_type": "execute_result"
    }
   ],
   "source": [
    "print(astros_away_SoAb.mean())\n",
    "print(yankees_away_SoAb.mean())\n",
    "print(dodgers_away_SoAb.mean())\n",
    "print(redsox_away_SoAb.mean())\n",
    "\n",
    "list_field_away_soab = [yankees_away_SoAb.mean(), dodgers_away_SoAb.mean(), redsox_away_SoAb.mean()]\n",
    "arr_field_away_soab = np.array(list_field_away_soab)\n",
    "\n",
    "print((astros_away_SoAb.mean() - arr_field_away_soab.mean()))\n",
    "\n",
    "arr_field_home_soab.mean()"
   ]
  },
  {
   "cell_type": "markdown",
   "metadata": {},
   "source": [
    "* ## BB/AB\n",
    "EXPECT: astros to be higher than the field"
   ]
  },
  {
   "cell_type": "code",
   "execution_count": 140,
   "metadata": {},
   "outputs": [],
   "source": [
    "astros_home_BbAb = astros_home_gb.get_group(True).BbAb\n",
    "astros_away_BbAb = astros_home_gb.get_group(False).BbAb"
   ]
  },
  {
   "cell_type": "code",
   "execution_count": 141,
   "metadata": {},
   "outputs": [],
   "source": [
    "yankees_home_BbAb = yankees_home_gb.get_group(True).BbAb\n",
    "yankees_away_BbAb = yankees_home_gb.get_group(False).BbAb"
   ]
  },
  {
   "cell_type": "code",
   "execution_count": 142,
   "metadata": {},
   "outputs": [],
   "source": [
    "dodgers_home_BbAb = dodgers_home_gb.get_group(True).BbAb\n",
    "dodgers_away_BbAb = dodgers_home_gb.get_group(False).BbAb"
   ]
  },
  {
   "cell_type": "code",
   "execution_count": 143,
   "metadata": {},
   "outputs": [],
   "source": [
    "redsox_home_BbAb = redsox_home_gb.get_group(True).BbAb\n",
    "redsox_away_BbAb = redsox_home_gb.get_group(False).BbAb"
   ]
  },
  {
   "cell_type": "code",
   "execution_count": 144,
   "metadata": {},
   "outputs": [
    {
     "data": {
      "image/png": "[encoded data removed]",
      "text/plain": [
       "<Figure size 1152x216 with 1 Axes>"
      ]
     },
     "metadata": {},
     "output_type": "display_data"
    }
   ],
   "source": [
    "# SS/AB HOME vs. AWAY\n",
    "fig, ax = plt.subplots(1, figsize=(16, 3))\n",
    "\n",
    "ax.scatter(astros_home_SoAb, \n",
    "           np.repeat(0, len(astros_home_BbAb)) + \\\n",
    "           np.random.normal(0, 0.1, len(astros_home_BbAb)), ## jitter\n",
    "           s=45)\n",
    "ax.scatter(astros_away_SoAb, \n",
    "           np.repeat(1, len(astros_away_BbAb)) + \\\n",
    "           np.random.normal(0, 0.1, len(astros_away_BbAb)), \n",
    "           s=45)\n",
    "ax.set_yticks([0, 1])\n",
    "ax.set_yticklabels([\"Home\", \"Away\"]);"
   ]
  },
  {
   "cell_type": "code",
   "execution_count": 146,
   "metadata": {},
   "outputs": [
    {
     "data": {
      "image/png": "[encoded data removed]",
      "text/plain": [
       "<Figure size 1152x216 with 1 Axes>"
      ]
     },
     "metadata": {},
     "output_type": "display_data"
    }
   ],
   "source": [
    "# SS/AB HOME vs. AWAY\n",
    "fig, ax = plt.subplots(1, figsize=(16, 3))\n",
    "\n",
    "ax.hist(astros_home_BbAb, bins=10, label=\"Home\", color=\"orange\")\n",
    "ax.hist(astros_away_BbAb, bins=10, label=\"Away\", color=\"black\", alpha=.5)\n",
    "\n",
    "plt.ylabel(\"Games\")\n",
    "plt.xlabel(\"BB/AB\")\n",
    "\n",
    "ax.legend();"
   ]
  },
  {
   "cell_type": "markdown",
   "metadata": {},
   "source": [
    "#### Write down the Null and Alternative Hypothesis \n",
    "\n",
    "**Null:** There is no difference in the SS/AB between HOME and AWAY games.\n",
    "\n",
    "**Alternative:** There is a difference in the SS/AB between HOME and AWAY games.\n",
    "\n",
    "#### Create a Probablistic Model of the Situation Assuming the Null Hypothesis is True\n",
    "\n",
    "Our question concerns population averages (is Matt's population average different than Nick's).  Our measurements are **sample averages**, which, from the central limit theorem, we know are approximately normally distributed given the population average\n",
    "\n",
    "$$ \\text{Sample average of Matt's kickflips} \\sim N \\biggl( \\mu_M, \\sqrt{\\frac{\\sigma^2_M}{25}} \\biggr) $$\n",
    "$$ \\text{Sample average of Nick's kickflips} \\sim N \\biggl( \\mu_N, \\sqrt{\\frac{\\sigma^2_N}{25}} \\biggr) $$\n",
    "\n",
    "If we are willing to assume that the height of Matt's individual kickflips are **independent** from Nick's, then we can compress the important information into one normal distribution\n",
    "\n",
    "$$ \\text{Difference in sample averages} \\sim N \\biggl( \\mu_M - \\mu_N, \\sqrt{\\frac{\\sigma^2_M}{25} + \\frac{\\sigma^2_N}{25}} \\biggr) $$\n",
    "\n",
    "Under the assumption of the null hypothesis\n",
    "\n",
    "$$ \\text{Difference in sample averages} \\sim N \\biggl( 0, \\sqrt{\\frac{\\sigma^2_M}{25} + \\frac{\\sigma^2_N}{25}} \\biggr) $$"
   ]
  },
  {
   "cell_type": "code",
   "execution_count": null,
   "metadata": {},
   "outputs": [],
   "source": []
  },
  {
   "cell_type": "code",
   "execution_count": null,
   "metadata": {},
   "outputs": [],
   "source": []
  },
  {
   "cell_type": "code",
   "execution_count": 147,
   "metadata": {},
   "outputs": [
    {
     "name": "stdout",
     "output_type": "stream",
     "text": [
      "0.08566245119553516\n",
      "0.1162341190267757\n",
      "0.11739305753859244\n",
      "0.10293266258842577\n",
      "-0.05305389081388795\n"
     ]
    },
    {
     "data": {
      "text/plain": [
       "0.11218661305126464"
      ]
     },
     "execution_count": 147,
     "metadata": {},
     "output_type": "execute_result"
    }
   ],
   "source": [
    "print(astros_home_BbAb.mean())\n",
    "print(yankees_home_BbAb.mean())\n",
    "print(dodgers_home_BbAb.mean())\n",
    "print(redsox_home_BbAb.mean())\n",
    "\n",
    "list_field_home_bbab = [yankees_home_BbAb.mean(), dodgers_home_BbAb.mean(), redsox_home_BbAb.mean()]\n",
    "arr_field_home_bbab = np.array(list_field_home_bbab)\n",
    "\n",
    "print((astros_home_SoAb.mean() - arr_field_home_soab.mean()))\n",
    "\n",
    "arr_field_home_bbab.mean()"
   ]
  },
  {
   "cell_type": "code",
   "execution_count": 148,
   "metadata": {},
   "outputs": [
    {
     "name": "stdout",
     "output_type": "stream",
     "text": [
      "0.09646287836801411\n",
      "0.10544476198569479\n",
      "0.12342118055527636\n",
      "0.09995945547206697\n",
      "-0.013145587636331932\n"
     ]
    },
    {
     "data": {
      "text/plain": [
       "0.10960846600434604"
      ]
     },
     "execution_count": 148,
     "metadata": {},
     "output_type": "execute_result"
    }
   ],
   "source": [
    "print(astros_away_BbAb.mean())\n",
    "print(yankees_away_BbAb.mean())\n",
    "print(dodgers_away_BbAb.mean())\n",
    "print(redsox_away_BbAb.mean())\n",
    "\n",
    "list_field_away_bbab = [yankees_away_BbAb.mean(), dodgers_away_BbAb.mean(), redsox_away_BbAb.mean()]\n",
    "arr_field_away_bbab = np.array(list_field_away_bbab)\n",
    "\n",
    "print((astros_away_BbAb.mean() - arr_field_away_bbab.mean()))\n",
    "\n",
    "arr_field_away_bbab.mean()"
   ]
  },
  {
   "cell_type": "markdown",
   "metadata": {},
   "source": [
    "* Baseball Reference uses MEDIAN over MEAN for all of its averages. Would using MEAN over MEDIAN effect outlieres that may be important for my test?\n",
    "** it would because some games had unusually (exciting) scores. "
   ]
  },
  {
   "cell_type": "code",
   "execution_count": 149,
   "metadata": {},
   "outputs": [
    {
     "data": {
      "text/html": [
       "<div>\n",
       "<style scoped>\n",
       "    .dataframe tbody tr th:only-of-type {\n",
       "        vertical-align: middle;\n",
       "    }\n",
       "\n",
       "    .dataframe tbody tr th {\n",
       "        vertical-align: top;\n",
       "    }\n",
       "\n",
       "    .dataframe thead th {\n",
       "        text-align: right;\n",
       "    }\n",
       "</style>\n",
       "<table border=\"1\" class=\"dataframe\">\n",
       "  <thead>\n",
       "    <tr style=\"text-align: right;\">\n",
       "      <th></th>\n",
       "      <th>Gtm</th>\n",
       "      <th>Date</th>\n",
       "      <th>Home</th>\n",
       "      <th>Opp</th>\n",
       "      <th>Rslt</th>\n",
       "      <th>PA</th>\n",
       "      <th>AB</th>\n",
       "      <th>R</th>\n",
       "      <th>H</th>\n",
       "      <th>2B</th>\n",
       "      <th>3B</th>\n",
       "      <th>HR</th>\n",
       "      <th>RBI</th>\n",
       "      <th>BB</th>\n",
       "      <th>IBB</th>\n",
       "      <th>SO</th>\n",
       "      <th>HBP</th>\n",
       "      <th>SH</th>\n",
       "      <th>SF</th>\n",
       "      <th>ROE</th>\n",
       "      <th>GDP</th>\n",
       "      <th>SB</th>\n",
       "      <th>CS</th>\n",
       "      <th>BA</th>\n",
       "      <th>OBP</th>\n",
       "      <th>SLG</th>\n",
       "      <th>OPS</th>\n",
       "      <th>LOB</th>\n",
       "      <th>#</th>\n",
       "      <th>Thr</th>\n",
       "      <th>Opp. Starter (GmeSc)</th>\n",
       "      <th>GmeSc</th>\n",
       "      <th>SoAb</th>\n",
       "      <th>BbAb</th>\n",
       "    </tr>\n",
       "  </thead>\n",
       "  <tbody>\n",
       "    <tr>\n",
       "      <th>0</th>\n",
       "      <td>1.0</td>\n",
       "      <td>Apr 3</td>\n",
       "      <td>True</td>\n",
       "      <td>SEA</td>\n",
       "      <td>W,3-0</td>\n",
       "      <td>30.0</td>\n",
       "      <td>27.0</td>\n",
       "      <td>3.0</td>\n",
       "      <td>6.0</td>\n",
       "      <td>0.0</td>\n",
       "      <td>0.0</td>\n",
       "      <td>2.0</td>\n",
       "      <td>3.0</td>\n",
       "      <td>1.0</td>\n",
       "      <td>0.0</td>\n",
       "      <td>6.0</td>\n",
       "      <td>0.0</td>\n",
       "      <td>0.0</td>\n",
       "      <td>1.0</td>\n",
       "      <td>0.0</td>\n",
       "      <td>1.0</td>\n",
       "      <td>1.0</td>\n",
       "      <td>0.0</td>\n",
       "      <td>0.222</td>\n",
       "      <td>0.241</td>\n",
       "      <td>0.444</td>\n",
       "      <td>0.686</td>\n",
       "      <td>3.0</td>\n",
       "      <td>10.0</td>\n",
       "      <td>R</td>\n",
       "      <td>F.Hernandez(55)</td>\n",
       "      <td>55</td>\n",
       "      <td>0.222222</td>\n",
       "      <td>0.037037</td>\n",
       "    </tr>\n",
       "    <tr>\n",
       "      <th>1</th>\n",
       "      <td>2.0</td>\n",
       "      <td>Apr 4</td>\n",
       "      <td>True</td>\n",
       "      <td>SEA</td>\n",
       "      <td>W,2-1</td>\n",
       "      <td>29.0</td>\n",
       "      <td>26.0</td>\n",
       "      <td>2.0</td>\n",
       "      <td>5.0</td>\n",
       "      <td>0.0</td>\n",
       "      <td>0.0</td>\n",
       "      <td>2.0</td>\n",
       "      <td>2.0</td>\n",
       "      <td>3.0</td>\n",
       "      <td>0.0</td>\n",
       "      <td>3.0</td>\n",
       "      <td>0.0</td>\n",
       "      <td>0.0</td>\n",
       "      <td>0.0</td>\n",
       "      <td>1.0</td>\n",
       "      <td>2.0</td>\n",
       "      <td>0.0</td>\n",
       "      <td>2.0</td>\n",
       "      <td>0.208</td>\n",
       "      <td>0.259</td>\n",
       "      <td>0.434</td>\n",
       "      <td>0.693</td>\n",
       "      <td>3.0</td>\n",
       "      <td>10.0</td>\n",
       "      <td>R</td>\n",
       "      <td>H.Iwakuma(55)</td>\n",
       "      <td>55</td>\n",
       "      <td>0.115385</td>\n",
       "      <td>0.115385</td>\n",
       "    </tr>\n",
       "    <tr>\n",
       "      <th>2</th>\n",
       "      <td>3.0</td>\n",
       "      <td>Apr 5</td>\n",
       "      <td>True</td>\n",
       "      <td>SEA</td>\n",
       "      <td>W,5-3</td>\n",
       "      <td>55.0</td>\n",
       "      <td>51.0</td>\n",
       "      <td>5.0</td>\n",
       "      <td>13.0</td>\n",
       "      <td>4.0</td>\n",
       "      <td>0.0</td>\n",
       "      <td>1.0</td>\n",
       "      <td>5.0</td>\n",
       "      <td>3.0</td>\n",
       "      <td>0.0</td>\n",
       "      <td>9.0</td>\n",
       "      <td>0.0</td>\n",
       "      <td>1.0</td>\n",
       "      <td>0.0</td>\n",
       "      <td>1.0</td>\n",
       "      <td>2.0</td>\n",
       "      <td>0.0</td>\n",
       "      <td>0.0</td>\n",
       "      <td>0.231</td>\n",
       "      <td>0.277</td>\n",
       "      <td>0.413</td>\n",
       "      <td>0.690</td>\n",
       "      <td>12.0</td>\n",
       "      <td>11.0</td>\n",
       "      <td>L</td>\n",
       "      <td>J.Paxton(72)</td>\n",
       "      <td>72</td>\n",
       "      <td>0.176471</td>\n",
       "      <td>0.058824</td>\n",
       "    </tr>\n",
       "    <tr>\n",
       "      <th>3</th>\n",
       "      <td>4.0</td>\n",
       "      <td>Apr 6</td>\n",
       "      <td>True</td>\n",
       "      <td>SEA</td>\n",
       "      <td>L,2-4</td>\n",
       "      <td>36.0</td>\n",
       "      <td>32.0</td>\n",
       "      <td>2.0</td>\n",
       "      <td>6.0</td>\n",
       "      <td>0.0</td>\n",
       "      <td>0.0</td>\n",
       "      <td>2.0</td>\n",
       "      <td>2.0</td>\n",
       "      <td>3.0</td>\n",
       "      <td>1.0</td>\n",
       "      <td>10.0</td>\n",
       "      <td>1.0</td>\n",
       "      <td>0.0</td>\n",
       "      <td>0.0</td>\n",
       "      <td>1.0</td>\n",
       "      <td>1.0</td>\n",
       "      <td>0.0</td>\n",
       "      <td>0.0</td>\n",
       "      <td>0.221</td>\n",
       "      <td>0.277</td>\n",
       "      <td>0.404</td>\n",
       "      <td>0.681</td>\n",
       "      <td>7.0</td>\n",
       "      <td>11.0</td>\n",
       "      <td>L</td>\n",
       "      <td>A.Miranda(50)</td>\n",
       "      <td>50</td>\n",
       "      <td>0.312500</td>\n",
       "      <td>0.093750</td>\n",
       "    </tr>\n",
       "    <tr>\n",
       "      <th>4</th>\n",
       "      <td>5.0</td>\n",
       "      <td>Apr 7</td>\n",
       "      <td>True</td>\n",
       "      <td>KCR</td>\n",
       "      <td>L,1-5</td>\n",
       "      <td>33.0</td>\n",
       "      <td>30.0</td>\n",
       "      <td>1.0</td>\n",
       "      <td>6.0</td>\n",
       "      <td>1.0</td>\n",
       "      <td>0.0</td>\n",
       "      <td>0.0</td>\n",
       "      <td>1.0</td>\n",
       "      <td>3.0</td>\n",
       "      <td>0.0</td>\n",
       "      <td>8.0</td>\n",
       "      <td>0.0</td>\n",
       "      <td>0.0</td>\n",
       "      <td>0.0</td>\n",
       "      <td>0.0</td>\n",
       "      <td>3.0</td>\n",
       "      <td>0.0</td>\n",
       "      <td>0.0</td>\n",
       "      <td>0.217</td>\n",
       "      <td>0.276</td>\n",
       "      <td>0.373</td>\n",
       "      <td>0.650</td>\n",
       "      <td>5.0</td>\n",
       "      <td>10.0</td>\n",
       "      <td>L</td>\n",
       "      <td>J.Vargas(61)</td>\n",
       "      <td>61</td>\n",
       "      <td>0.266667</td>\n",
       "      <td>0.100000</td>\n",
       "    </tr>\n",
       "  </tbody>\n",
       "</table>\n",
       "</div>"
      ],
      "text/plain": [
       "   Gtm   Date  Home  Opp   Rslt    PA    AB    R     H   2B   3B   HR  RBI  \\\n",
       "0  1.0  Apr 3  True  SEA  W,3-0  30.0  27.0  3.0   6.0  0.0  0.0  2.0  3.0   \n",
       "1  2.0  Apr 4  True  SEA  W,2-1  29.0  26.0  2.0   5.0  0.0  0.0  2.0  2.0   \n",
       "2  3.0  Apr 5  True  SEA  W,5-3  55.0  51.0  5.0  13.0  4.0  0.0  1.0  5.0   \n",
       "3  4.0  Apr 6  True  SEA  L,2-4  36.0  32.0  2.0   6.0  0.0  0.0  2.0  2.0   \n",
       "4  5.0  Apr 7  True  KCR  L,1-5  33.0  30.0  1.0   6.0  1.0  0.0  0.0  1.0   \n",
       "\n",
       "    BB  IBB    SO  HBP   SH   SF  ROE  GDP   SB   CS     BA    OBP    SLG  \\\n",
       "0  1.0  0.0   6.0  0.0  0.0  1.0  0.0  1.0  1.0  0.0  0.222  0.241  0.444   \n",
       "1  3.0  0.0   3.0  0.0  0.0  0.0  1.0  2.0  0.0  2.0  0.208  0.259  0.434   \n",
       "2  3.0  0.0   9.0  0.0  1.0  0.0  1.0  2.0  0.0  0.0  0.231  0.277  0.413   \n",
       "3  3.0  1.0  10.0  1.0  0.0  0.0  1.0  1.0  0.0  0.0  0.221  0.277  0.404   \n",
       "4  3.0  0.0   8.0  0.0  0.0  0.0  0.0  3.0  0.0  0.0  0.217  0.276  0.373   \n",
       "\n",
       "     OPS   LOB     # Thr Opp. Starter (GmeSc) GmeSc      SoAb      BbAb  \n",
       "0  0.686   3.0  10.0   R      F.Hernandez(55)    55  0.222222  0.037037  \n",
       "1  0.693   3.0  10.0   R        H.Iwakuma(55)    55  0.115385  0.115385  \n",
       "2  0.690  12.0  11.0   L         J.Paxton(72)    72  0.176471  0.058824  \n",
       "3  0.681   7.0  11.0   L        A.Miranda(50)    50  0.312500  0.093750  \n",
       "4  0.650   5.0  10.0   L         J.Vargas(61)    61  0.266667  0.100000  "
      ]
     },
     "execution_count": 149,
     "metadata": {},
     "output_type": "execute_result"
    }
   ],
   "source": [
    "astros2017df.head()"
   ]
  },
  {
   "cell_type": "code",
   "execution_count": 150,
   "metadata": {},
   "outputs": [
    {
     "data": {
      "text/plain": [
       "array(['55', '72', '50', '61', '54', '75', '42', '35', '51', '62', '60',\n",
       "       '52', '68', '44', '48', '45', '28', '76', '43', '21', '24', '56',\n",
       "       '46', '32', '11', '67', '12', '79', '53', '34', '20', '65', '33',\n",
       "       '31', '40', '69', '29', '26', '39', '(3', '49', '47', '15', '37',\n",
       "       '64', '27', '25', '73', '(7', '23', '71', '74', '82', '57', '38',\n",
       "       '78', '59', '22', '63', '58'], dtype=object)"
      ]
     },
     "execution_count": 150,
     "metadata": {},
     "output_type": "execute_result"
    }
   ],
   "source": [
    "astros2017df['GmeSc'].unique()"
   ]
  },
  {
   "cell_type": "code",
   "execution_count": 151,
   "metadata": {},
   "outputs": [
    {
     "data": {
      "text/plain": [
       "0     55\n",
       "1     55\n",
       "2     72\n",
       "3     50\n",
       "4     61\n",
       "5     54\n",
       "6     54\n",
       "7     75\n",
       "8     42\n",
       "9     35\n",
       "10    51\n",
       "11    62\n",
       "12    60\n",
       "13    51\n",
       "14    52\n",
       "15    68\n",
       "16    44\n",
       "17    48\n",
       "18    45\n",
       "19    50\n",
       "Name: GmeSc, dtype: object"
      ]
     },
     "execution_count": 151,
     "metadata": {},
     "output_type": "execute_result"
    }
   ],
   "source": [
    "astros2017df['GmeSc'].head(20)"
   ]
  },
  {
   "cell_type": "code",
   "execution_count": null,
   "metadata": {},
   "outputs": [],
   "source": []
  },
  {
   "cell_type": "code",
   "execution_count": null,
   "metadata": {},
   "outputs": [],
   "source": []
  },
  {
   "cell_type": "code",
   "execution_count": null,
   "metadata": {},
   "outputs": [],
   "source": []
  },
  {
   "cell_type": "code",
   "execution_count": null,
   "metadata": {},
   "outputs": [],
   "source": []
  },
  {
   "cell_type": "code",
   "execution_count": null,
   "metadata": {},
   "outputs": [],
   "source": []
  },
  {
   "cell_type": "code",
   "execution_count": null,
   "metadata": {},
   "outputs": [],
   "source": []
  }
 ],
 "metadata": {
  "kernelspec": {
   "display_name": "Python 3",
   "language": "python",
   "name": "python3"
  },
  "language_info": {
   "codemirror_mode": {
    "name": "ipython",
    "version": 3
   },
   "file_extension": ".py",
   "mimetype": "text/x-python",
   "name": "python",
   "nbconvert_exporter": "python",
   "pygments_lexer": "ipython3",
   "version": "3.7.9"
  }
 },
 "nbformat": 4,
 "nbformat_minor": 4
}
