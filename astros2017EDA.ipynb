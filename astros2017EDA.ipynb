{
 "cells": [
  {
   "cell_type": "code",
   "execution_count": 1,
   "metadata": {},
   "outputs": [],
   "source": [
    "import pandas as pd\n",
    "import numpy as np\n",
    "\n",
    "from pandas.plotting import scatter_matrix\n",
    "\n",
    "from matplotlib import pyplot as plt\n",
    "plt.style.use(\"fivethirtyeight\")\n",
    "\n",
    "pd.options.display.max_columns = 50\n",
    "pd.options.display.max_rows = 100"
   ]
  },
  {
   "cell_type": "code",
   "execution_count": 2,
   "metadata": {},
   "outputs": [],
   "source": [
    "# astros2016 = pd.read_csv(\"data/HOU2016.csv\")\n",
    "astros2017 = pd.read_csv(\"data/HOU2017.csv\")\n",
    "# astros2018 = pd.read_csv(\"data/HOU2018.csv\")\n",
    "# astros2019 = pd.read_csv(\"data/HOU2019.csv\")\n",
    "yankees2017 = pd.read_csv(\"data/NYY2017.csv\")\n",
    "dodgers2017 = pd.read_csv(\"data/LAD2017.csv\")\n",
    "redsox2017 = pd.read_csv(\"data/BOS2017.csv\")\n"
   ]
  },
  {
   "cell_type": "code",
   "execution_count": 3,
   "metadata": {},
   "outputs": [],
   "source": [
    "def boolhome(df):\n",
    "    df.dropna(axis=\"index\", how=\"all\", inplace=True, subset=['Gtm'])\n",
    "    df.rename(columns={\"Unnamed: 3\":\"Home\"}, inplace=True)\n",
    "    df.replace({\"Home\":{\"@\": False, np.nan: True}}, inplace=True)\n",
    "    df.drop(\"Unnamed: 0\", axis=1, inplace=True)\n",
    "    df.reset_index(drop=True, inplace=True)\n",
    "    df['GmeSc'] = df['Opp. Starter (GmeSc)'].apply(lambda x: x[-3:-1])\n",
    "    df['SoAb'] = df['SO'] / df[\"AB\"]\n",
    "    df['BbAb'] = df['BB'] / df[\"AB\"]\n",
    "#     df['bbsum'] = df[\"BB\"] + df['SO']\n",
    "    #df['GmeSc'].apply(lambda x: x.astype(int))\n",
    "    return df"
   ]
  },
  {
   "cell_type": "code",
   "execution_count": null,
   "metadata": {},
   "outputs": [],
   "source": []
  },
  {
   "cell_type": "code",
   "execution_count": 4,
   "metadata": {},
   "outputs": [],
   "source": [
    "astros2017df = boolhome(astros2017)\n",
    "# astros2018df = boolhome(astros2018)\n",
    "# astros2019df = boolhome(astros2019)\n",
    "# astros2016df = boolhome(astros2016)\n",
    "yankees2017df = boolhome(yankees2017)\n",
    "dodgers2017df = boolhome(dodgers2017)\n",
    "redsox2017df = boolhome(redsox2017)"
   ]
  },
  {
   "cell_type": "code",
   "execution_count": 5,
   "metadata": {},
   "outputs": [],
   "source": [
    "columns = astros2017df.columns"
   ]
  },
  {
   "cell_type": "code",
   "execution_count": 6,
   "metadata": {},
   "outputs": [],
   "source": [
    "# astros2017df['so/at'] = astros2017df['SO'] / astros2017df[\"AB\"]\n",
    "# astros2017df['bb/at'] = astros2017df['BB'] / astros2017df[\"AB\"]\n",
    "# astros2017df['bbsum'] = astros2017df[\"BB\"] + astros2017df['SO']"
   ]
  },
  {
   "cell_type": "code",
   "execution_count": 7,
   "metadata": {},
   "outputs": [],
   "source": [
    "#astros2017df.head()"
   ]
  },
  {
   "cell_type": "code",
   "execution_count": 8,
   "metadata": {},
   "outputs": [],
   "source": [
    "#astros2017df.info"
   ]
  },
  {
   "cell_type": "code",
   "execution_count": 9,
   "metadata": {},
   "outputs": [],
   "source": [
    "#astros2017df.head()"
   ]
  },
  {
   "cell_type": "code",
   "execution_count": 10,
   "metadata": {},
   "outputs": [],
   "source": [
    "# astros2017df.dropna(axis=\"index\", how=\"all\", inplace=True)"
   ]
  },
  {
   "cell_type": "code",
   "execution_count": null,
   "metadata": {},
   "outputs": [],
   "source": []
  },
  {
   "cell_type": "code",
   "execution_count": null,
   "metadata": {},
   "outputs": [],
   "source": []
  },
  {
   "cell_type": "code",
   "execution_count": 11,
   "metadata": {},
   "outputs": [],
   "source": [
    "#astros2017df.head()"
   ]
  },
  {
   "cell_type": "code",
   "execution_count": 12,
   "metadata": {},
   "outputs": [],
   "source": [
    "#astros2017df.tail()"
   ]
  },
  {
   "cell_type": "code",
   "execution_count": 13,
   "metadata": {},
   "outputs": [],
   "source": [
    "#astros2017df.describe()"
   ]
  },
  {
   "cell_type": "code",
   "execution_count": 14,
   "metadata": {},
   "outputs": [],
   "source": [
    "#astros2017df.OBP\n",
    "#yankees2017df.OBP"
   ]
  },
  {
   "cell_type": "code",
   "execution_count": 15,
   "metadata": {},
   "outputs": [],
   "source": [
    "# #astros2017df.OBP.plot.line()\n",
    "# #yankees2017df.OBP.plot.line()\n",
    "# dodgers2017df.OBP.plot.line()\n",
    "# #redsox2017df.OBP.plot.line();"
   ]
  },
  {
   "cell_type": "code",
   "execution_count": 16,
   "metadata": {},
   "outputs": [],
   "source": [
    "#dodgers2017df.head(10)"
   ]
  },
  {
   "cell_type": "markdown",
   "metadata": {},
   "source": [
    "# GROUPBY home/away"
   ]
  },
  {
   "cell_type": "code",
   "execution_count": 17,
   "metadata": {},
   "outputs": [],
   "source": [
    "astros_home_gb = astros2017df.groupby(\"Home\")\n",
    "yankees_home_gb = yankees2017df.groupby(\"Home\")\n",
    "dodgers_home_gb = dodgers2017df.groupby(\"Home\")\n",
    "redsox_home_gb = redsox2017df.groupby(\"Home\")"
   ]
  },
  {
   "cell_type": "markdown",
   "metadata": {},
   "source": [
    "* ## OBP advantage"
   ]
  },
  {
   "cell_type": "code",
   "execution_count": 18,
   "metadata": {},
   "outputs": [],
   "source": [
    "astros_home_obp = astros_home_gb.get_group(True).OBP\n",
    "astros_away_obp = astros_home_gb.get_group(False).OBP"
   ]
  },
  {
   "cell_type": "code",
   "execution_count": 19,
   "metadata": {},
   "outputs": [],
   "source": [
    "yankees_home_obp = yankees_home_gb.get_group(True).OBP\n",
    "yankees_away_obp = yankees_home_gb.get_group(False).OBP"
   ]
  },
  {
   "cell_type": "code",
   "execution_count": 20,
   "metadata": {},
   "outputs": [],
   "source": [
    "dodgers_home_obp = dodgers_home_gb.get_group(True).OBP\n",
    "dodgers_away_obp = dodgers_home_gb.get_group(False).OBP"
   ]
  },
  {
   "cell_type": "code",
   "execution_count": 21,
   "metadata": {},
   "outputs": [],
   "source": [
    "redsox_home_obp = redsox_home_gb.get_group(True).OBP\n",
    "redsox_away_obp = redsox_home_gb.get_group(False).OBP"
   ]
  },
  {
   "cell_type": "code",
   "execution_count": 22,
   "metadata": {},
   "outputs": [
    {
     "name": "stdout",
     "output_type": "stream",
     "text": [
      "0.34600000000000003\n",
      "0.34\n",
      "0.341\n",
      "0.335\n"
     ]
    }
   ],
   "source": [
    "#OBP for 2017 season\n",
    "print(astros2017df.OBP.median())\n",
    "print(yankees2017df.OBP.median())\n",
    "print(dodgers2017df.OBP.median())\n",
    "print(redsox2017df.OBP.median())"
   ]
  },
  {
   "cell_type": "code",
   "execution_count": 23,
   "metadata": {},
   "outputs": [
    {
     "name": "stdout",
     "output_type": "stream",
     "text": [
      "0.3400370370370371\n",
      "0.34225925925925904\n",
      "0.34209876543209866\n",
      "0.3364197530864195\n"
     ]
    }
   ],
   "source": [
    "#OBP for 2017 home games\n",
    "print(astros_home_obp.mean())\n",
    "print(yankees_home_obp.mean())\n",
    "print(dodgers_home_obp.mean())\n",
    "print(redsox_home_obp.mean())"
   ]
  },
  {
   "cell_type": "code",
   "execution_count": 24,
   "metadata": {},
   "outputs": [
    {
     "name": "stdout",
     "output_type": "stream",
     "text": [
      "0.3463950617283951\n",
      "0.3403950617283949\n",
      "0.3397160493827161\n",
      "0.3374444444444443\n"
     ]
    }
   ],
   "source": [
    "#OBP for 2017 away games\n",
    "print(astros_away_obp.mean())\n",
    "print(yankees_away_obp.mean())\n",
    "print(dodgers_away_obp.mean())\n",
    "print(redsox_away_obp.mean())"
   ]
  },
  {
   "cell_type": "code",
   "execution_count": 25,
   "metadata": {},
   "outputs": [],
   "source": [
    "#home.get_group(True).OBP.plot.line()"
   ]
  },
  {
   "cell_type": "code",
   "execution_count": 58,
   "metadata": {},
   "outputs": [
    {
     "name": "stdout",
     "output_type": "stream",
     "text": [
      "home:0.3400370370370371\n",
      "away:0.3463950617283951\n"
     ]
    },
    {
     "data": {
      "image/png": "[encoded data removed]",
      "text/plain": [
       "<Figure size 432x288 with 1 Axes>"
      ]
     },
     "metadata": {},
     "output_type": "display_data"
    }
   ],
   "source": [
    "astros_away_obp.plot.line(label=\"away\")\n",
    "astros_home_obp.plot.line(label=\"home\")\n",
    "plt.legend()\n",
    "print(f'home:{astros_home_obp.mean()}')\n",
    "print(f'away:{astros_away_obp.mean()}')\n"
   ]
  },
  {
   "cell_type": "code",
   "execution_count": 59,
   "metadata": {},
   "outputs": [
    {
     "name": "stdout",
     "output_type": "stream",
     "text": [
      "home:0.34225925925925904\n",
      "away:0.3403950617283949\n"
     ]
    },
    {
     "data": {
      "image/png": "[encoded data removed]",
      "text/plain": [
       "<Figure size 432x288 with 1 Axes>"
      ]
     },
     "metadata": {},
     "output_type": "display_data"
    }
   ],
   "source": [
    "yankees_away_obp.plot.line(label=\"away\")\n",
    "yankees_home_obp.plot.line(label=\"home\")\n",
    "plt.legend()\n",
    "print(f'home:{yankees_home_obp.mean()}')\n",
    "print(f'away:{yankees_away_obp.mean()}');"
   ]
  },
  {
   "cell_type": "code",
   "execution_count": 61,
   "metadata": {},
   "outputs": [
    {
     "name": "stdout",
     "output_type": "stream",
     "text": [
      "home:0.34209876543209866\n",
      "away:0.3397160493827161\n"
     ]
    },
    {
     "data": {
      "image/png": "[encoded data removed]",
      "text/plain": [
       "<Figure size 432x288 with 1 Axes>"
      ]
     },
     "metadata": {},
     "output_type": "display_data"
    }
   ],
   "source": [
    "dodgers_away_obp.plot.line(label=\"away\")\n",
    "dodgers_home_obp.plot.line(label=\"home\")\n",
    "plt.legend()\n",
    "print(f'home:{dodgers_home_obp.mean()}')\n",
    "print(f'away:{dodgers_away_obp.mean()}');"
   ]
  },
  {
   "cell_type": "code",
   "execution_count": 62,
   "metadata": {},
   "outputs": [
    {
     "name": "stdout",
     "output_type": "stream",
     "text": [
      "home:0.3364197530864195\n",
      "away:0.3374444444444443\n"
     ]
    },
    {
     "data": {
      "image/png": "[encoded data removed]",
      "text/plain": [
       "<Figure size 432x288 with 1 Axes>"
      ]
     },
     "metadata": {},
     "output_type": "display_data"
    }
   ],
   "source": [
    "redsox_away_obp.plot.line(label=\"away\")\n",
    "redsox_home_obp.plot.line(label=\"home\")\n",
    "plt.legend()\n",
    "print(f'home:{redsox_home_obp.mean()}')\n",
    "print(f'away:{redsox_away_obp.mean()}');"
   ]
  },
  {
   "cell_type": "markdown",
   "metadata": {},
   "source": [
    "#### Is On Base Percentage (OBP) a rolling/weighted average? Can I parce HOME vs AWAY games? Should I consider a different stat like Strikeouts (SO)?"
   ]
  },
  {
   "cell_type": "markdown",
   "metadata": {},
   "source": [
    "* ## SO advantage\n",
    "fewer stikeouts/game\n",
    "expect: astros to have fewer strikeouts than the field"
   ]
  },
  {
   "cell_type": "code",
   "execution_count": 63,
   "metadata": {},
   "outputs": [],
   "source": [
    "astros_home_so = astros_home_gb.get_group(True).SO\n",
    "astros_away_so = astros_home_gb.get_group(False).SO"
   ]
  },
  {
   "cell_type": "code",
   "execution_count": 64,
   "metadata": {},
   "outputs": [],
   "source": [
    "yankees_home_so = yankees_home_gb.get_group(True).SO\n",
    "yankees_away_so = yankees_home_gb.get_group(False).SO"
   ]
  },
  {
   "cell_type": "code",
   "execution_count": 65,
   "metadata": {},
   "outputs": [],
   "source": [
    "dodgers_home_so = dodgers_home_gb.get_group(True).SO\n",
    "dodgers_away_so = dodgers_home_gb.get_group(False).SO"
   ]
  },
  {
   "cell_type": "code",
   "execution_count": 66,
   "metadata": {},
   "outputs": [],
   "source": [
    "redsox_home_so = redsox_home_gb.get_group(True).SO\n",
    "redsox_away_so = redsox_home_gb.get_group(False).SO"
   ]
  },
  {
   "cell_type": "code",
   "execution_count": 67,
   "metadata": {},
   "outputs": [],
   "source": [
    "astros_home_so_desc = astros_home_so.describe()"
   ]
  },
  {
   "cell_type": "code",
   "execution_count": 68,
   "metadata": {},
   "outputs": [],
   "source": [
    "#astros_home_so_desc"
   ]
  },
  {
   "cell_type": "code",
   "execution_count": 69,
   "metadata": {},
   "outputs": [
    {
     "name": "stdout",
     "output_type": "stream",
     "text": [
      "6.197530864197531\n",
      "8.407407407407407\n",
      "8.37037037037037\n",
      "7.283950617283951\n",
      "-1.8230452674897117\n"
     ]
    },
    {
     "data": {
      "text/plain": [
       "8.020576131687243"
      ]
     },
     "execution_count": 69,
     "metadata": {},
     "output_type": "execute_result"
    }
   ],
   "source": [
    "print(astros_home_so.mean())\n",
    "print(yankees_home_so.mean())\n",
    "print(dodgers_home_so.mean())\n",
    "print(redsox_home_so.mean())\n",
    "\n",
    "list_field_home_so = [yankees_home_so.mean(), dodgers_home_so.mean(), redsox_home_so.mean()]\n",
    "arr_field_home_so = np.array(list_field_home_so)\n",
    "\n",
    "print((astros_home_so.mean() - arr_field_home_so.mean()))\n",
    "\n",
    "arr_field_home_so.mean()\n"
   ]
  },
  {
   "cell_type": "code",
   "execution_count": 70,
   "metadata": {},
   "outputs": [
    {
     "name": "stdout",
     "output_type": "stream",
     "text": [
      "7.222222222222222\n",
      "8.703703703703704\n",
      "8.666666666666666\n",
      "7.827160493827161\n",
      "-2.2016460905349797\n"
     ]
    },
    {
     "data": {
      "text/plain": [
       "8.39917695473251"
      ]
     },
     "execution_count": 70,
     "metadata": {},
     "output_type": "execute_result"
    }
   ],
   "source": [
    "print(astros_away_so.mean())\n",
    "print(yankees_away_so.mean())\n",
    "print(dodgers_away_so.mean())\n",
    "print(redsox_away_so.mean())\n",
    "\n",
    "list_field_away_so = [yankees_away_so.mean(), dodgers_away_so.mean(), redsox_away_so.mean()]\n",
    "arr_field_away_so = np.array(list_field_away_so)\n",
    "\n",
    "print((astros_home_so.mean() - arr_field_away_so.mean()))\n",
    "\n",
    "arr_field_away_so.mean()"
   ]
  },
  {
   "cell_type": "code",
   "execution_count": 71,
   "metadata": {},
   "outputs": [],
   "source": [
    "# plt.hist(astros_home_so)\n",
    "# plt.hist(yankees_home_so)\n",
    "# plt.hist(dodgers_home_so)\n",
    "# plt.hist(redsox_home_so)\n",
    "#print(abs(astros_home_so.mean() - yankees_home_so.mean()))\n",
    "#plt.hist([astros_home_so.mean(), yankees_home_so.mean(), dodgers_home_so.mean(), redsox_home_so.mean()])"
   ]
  },
  {
   "cell_type": "code",
   "execution_count": 72,
   "metadata": {},
   "outputs": [],
   "source": [
    "# astros_home_so.plot.bar()\n",
    "# yankees_home_so.plot.bar()\n",
    "# abs(astros_home_so - yankees_home_so).plot.bar()"
   ]
  },
  {
   "cell_type": "markdown",
   "metadata": {},
   "source": [
    "* ## SS/AB\n",
    "new stat: strikeouts/at bats\n",
    "expect to be lower than the field"
   ]
  },
  {
   "cell_type": "code",
   "execution_count": 73,
   "metadata": {},
   "outputs": [],
   "source": [
    "astros_home_SoAb = astros_home_gb.get_group(True).SoAb\n",
    "astros_away_SoAb = astros_home_gb.get_group(False).SoAb"
   ]
  },
  {
   "cell_type": "code",
   "execution_count": 74,
   "metadata": {},
   "outputs": [],
   "source": [
    "yankees_home_SoAb = yankees_home_gb.get_group(True).SoAb\n",
    "yankees_away_SoAb = yankees_home_gb.get_group(False).SoAb"
   ]
  },
  {
   "cell_type": "code",
   "execution_count": 75,
   "metadata": {},
   "outputs": [],
   "source": [
    "dodgers_home_SoAb = dodgers_home_gb.get_group(True).SoAb\n",
    "dodgers_away_SoAb = dodgers_home_gb.get_group(False).SoAb"
   ]
  },
  {
   "cell_type": "code",
   "execution_count": 76,
   "metadata": {},
   "outputs": [],
   "source": [
    "redsox_home_SoAb = redsox_home_gb.get_group(True).SoAb\n",
    "redsox_away_SoAb = redsox_home_gb.get_group(False).SoAb"
   ]
  },
  {
   "cell_type": "code",
   "execution_count": 77,
   "metadata": {},
   "outputs": [
    {
     "name": "stdout",
     "output_type": "stream",
     "text": [
      "0.18812175291296823\n",
      "0.2538940449109881\n",
      "0.2585494086765249\n",
      "0.21108347759305549\n",
      "-0.05305389081388795\n"
     ]
    },
    {
     "data": {
      "text/plain": [
       "0.24117564372685618"
      ]
     },
     "execution_count": 77,
     "metadata": {},
     "output_type": "execute_result"
    }
   ],
   "source": [
    "print(astros_home_SoAb.mean())\n",
    "print(yankees_home_SoAb.mean())\n",
    "print(dodgers_home_SoAb.mean())\n",
    "print(redsox_home_SoAb.mean())\n",
    "\n",
    "list_field_home_soab = [yankees_home_SoAb.mean(), dodgers_home_SoAb.mean(), redsox_home_SoAb.mean()]\n",
    "arr_field_home_soab = np.array(list_field_home_soab)\n",
    "\n",
    "print((astros_home_SoAb.mean() - arr_field_home_soab.mean()))\n",
    "\n",
    "arr_field_home_soab.mean()"
   ]
  },
  {
   "cell_type": "code",
   "execution_count": 78,
   "metadata": {},
   "outputs": [
    {
     "name": "stdout",
     "output_type": "stream",
     "text": [
      "0.20336894774961192\n",
      "0.24466594275864456\n",
      "0.25466970932233124\n",
      "0.22296091479164296\n",
      "-0.037396574541260996\n"
     ]
    },
    {
     "data": {
      "text/plain": [
       "0.24117564372685618"
      ]
     },
     "execution_count": 78,
     "metadata": {},
     "output_type": "execute_result"
    }
   ],
   "source": [
    "print(astros_away_SoAb.mean())\n",
    "print(yankees_away_SoAb.mean())\n",
    "print(dodgers_away_SoAb.mean())\n",
    "print(redsox_away_SoAb.mean())\n",
    "\n",
    "list_field_away_soab = [yankees_away_SoAb.mean(), dodgers_away_SoAb.mean(), redsox_away_SoAb.mean()]\n",
    "arr_field_away_soab = np.array(list_field_away_soab)\n",
    "\n",
    "print((astros_away_SoAb.mean() - arr_field_away_soab.mean()))\n",
    "\n",
    "arr_field_home_soab.mean()"
   ]
  },
  {
   "cell_type": "markdown",
   "metadata": {},
   "source": [
    "* ## BB/AB\n",
    "EXPECT: astros to be higher than the field"
   ]
  },
  {
   "cell_type": "code",
   "execution_count": 79,
   "metadata": {},
   "outputs": [],
   "source": [
    "astros_home_BbAb = astros_home_gb.get_group(True).BbAb\n",
    "astros_away_BbAb = astros_home_gb.get_group(False).BbAb"
   ]
  },
  {
   "cell_type": "code",
   "execution_count": 80,
   "metadata": {},
   "outputs": [],
   "source": [
    "yankees_home_BbAb = yankees_home_gb.get_group(True).BbAb\n",
    "yankees_away_BbAb = yankees_home_gb.get_group(False).BbAb"
   ]
  },
  {
   "cell_type": "code",
   "execution_count": 81,
   "metadata": {},
   "outputs": [],
   "source": [
    "dodgers_home_BbAb = dodgers_home_gb.get_group(True).BbAb\n",
    "dodgers_away_BbAb = dodgers_home_gb.get_group(False).BbAb"
   ]
  },
  {
   "cell_type": "code",
   "execution_count": 82,
   "metadata": {},
   "outputs": [],
   "source": [
    "redsox_home_BbAb = redsox_home_gb.get_group(True).BbAb\n",
    "redsox_away_BbAb = redsox_home_gb.get_group(False).BbAb"
   ]
  },
  {
   "cell_type": "code",
   "execution_count": 83,
   "metadata": {},
   "outputs": [
    {
     "name": "stdout",
     "output_type": "stream",
     "text": [
      "0.08566245119553516\n",
      "0.1162341190267757\n",
      "0.11739305753859244\n",
      "0.10293266258842577\n",
      "-0.05305389081388795\n"
     ]
    },
    {
     "data": {
      "text/plain": [
       "0.11218661305126464"
      ]
     },
     "execution_count": 83,
     "metadata": {},
     "output_type": "execute_result"
    }
   ],
   "source": [
    "print(astros_home_BbAb.mean())\n",
    "print(yankees_home_BbAb.mean())\n",
    "print(dodgers_home_BbAb.mean())\n",
    "print(redsox_home_BbAb.mean())\n",
    "\n",
    "list_field_home_bbab = [yankees_home_BbAb.mean(), dodgers_home_BbAb.mean(), redsox_home_BbAb.mean()]\n",
    "arr_field_home_bbab = np.array(list_field_home_bbab)\n",
    "\n",
    "print((astros_home_SoAb.mean() - arr_field_home_soab.mean()))\n",
    "\n",
    "arr_field_home_bbab.mean()"
   ]
  },
  {
   "cell_type": "code",
   "execution_count": 84,
   "metadata": {},
   "outputs": [
    {
     "name": "stdout",
     "output_type": "stream",
     "text": [
      "0.09646287836801411\n",
      "0.10544476198569479\n",
      "0.12342118055527636\n",
      "0.09995945547206697\n",
      "-0.013145587636331932\n"
     ]
    },
    {
     "data": {
      "text/plain": [
       "0.10960846600434604"
      ]
     },
     "execution_count": 84,
     "metadata": {},
     "output_type": "execute_result"
    }
   ],
   "source": [
    "print(astros_away_BbAb.mean())\n",
    "print(yankees_away_BbAb.mean())\n",
    "print(dodgers_away_BbAb.mean())\n",
    "print(redsox_away_BbAb.mean())\n",
    "\n",
    "list_field_away_bbab = [yankees_away_BbAb.mean(), dodgers_away_BbAb.mean(), redsox_away_BbAb.mean()]\n",
    "arr_field_away_bbab = np.array(list_field_away_bbab)\n",
    "\n",
    "print((astros_away_BbAb.mean() - arr_field_away_bbab.mean()))\n",
    "\n",
    "arr_field_away_bbab.mean()"
   ]
  },
  {
   "cell_type": "markdown",
   "metadata": {},
   "source": [
    "* Baseball Reference uses MEDIAN over MEAN for all of its averages. Would using MEAN over MEDIAN effect outlieres that may be important for my test?\n",
    "** it would because some games had unusually (exciting) scores. "
   ]
  },
  {
   "cell_type": "code",
   "execution_count": 85,
   "metadata": {},
   "outputs": [
    {
     "data": {
      "text/html": [
       "<div>\n",
       "<style scoped>\n",
       "    .dataframe tbody tr th:only-of-type {\n",
       "        vertical-align: middle;\n",
       "    }\n",
       "\n",
       "    .dataframe tbody tr th {\n",
       "        vertical-align: top;\n",
       "    }\n",
       "\n",
       "    .dataframe thead th {\n",
       "        text-align: right;\n",
       "    }\n",
       "</style>\n",
       "<table border=\"1\" class=\"dataframe\">\n",
       "  <thead>\n",
       "    <tr style=\"text-align: right;\">\n",
       "      <th></th>\n",
       "      <th>Gtm</th>\n",
       "      <th>Date</th>\n",
       "      <th>Home</th>\n",
       "      <th>Opp</th>\n",
       "      <th>Rslt</th>\n",
       "      <th>PA</th>\n",
       "      <th>AB</th>\n",
       "      <th>R</th>\n",
       "      <th>H</th>\n",
       "      <th>2B</th>\n",
       "      <th>3B</th>\n",
       "      <th>HR</th>\n",
       "      <th>RBI</th>\n",
       "      <th>BB</th>\n",
       "      <th>IBB</th>\n",
       "      <th>SO</th>\n",
       "      <th>HBP</th>\n",
       "      <th>SH</th>\n",
       "      <th>SF</th>\n",
       "      <th>ROE</th>\n",
       "      <th>GDP</th>\n",
       "      <th>SB</th>\n",
       "      <th>CS</th>\n",
       "      <th>BA</th>\n",
       "      <th>OBP</th>\n",
       "      <th>SLG</th>\n",
       "      <th>OPS</th>\n",
       "      <th>LOB</th>\n",
       "      <th>#</th>\n",
       "      <th>Thr</th>\n",
       "      <th>Opp. Starter (GmeSc)</th>\n",
       "      <th>GmeSc</th>\n",
       "      <th>SoAb</th>\n",
       "      <th>BbAb</th>\n",
       "    </tr>\n",
       "  </thead>\n",
       "  <tbody>\n",
       "    <tr>\n",
       "      <th>0</th>\n",
       "      <td>1.0</td>\n",
       "      <td>Apr 3</td>\n",
       "      <td>True</td>\n",
       "      <td>SEA</td>\n",
       "      <td>W,3-0</td>\n",
       "      <td>30.0</td>\n",
       "      <td>27.0</td>\n",
       "      <td>3.0</td>\n",
       "      <td>6.0</td>\n",
       "      <td>0.0</td>\n",
       "      <td>0.0</td>\n",
       "      <td>2.0</td>\n",
       "      <td>3.0</td>\n",
       "      <td>1.0</td>\n",
       "      <td>0.0</td>\n",
       "      <td>6.0</td>\n",
       "      <td>0.0</td>\n",
       "      <td>0.0</td>\n",
       "      <td>1.0</td>\n",
       "      <td>0.0</td>\n",
       "      <td>1.0</td>\n",
       "      <td>1.0</td>\n",
       "      <td>0.0</td>\n",
       "      <td>0.222</td>\n",
       "      <td>0.241</td>\n",
       "      <td>0.444</td>\n",
       "      <td>0.686</td>\n",
       "      <td>3.0</td>\n",
       "      <td>10.0</td>\n",
       "      <td>R</td>\n",
       "      <td>F.Hernandez(55)</td>\n",
       "      <td>55</td>\n",
       "      <td>0.222222</td>\n",
       "      <td>0.037037</td>\n",
       "    </tr>\n",
       "    <tr>\n",
       "      <th>1</th>\n",
       "      <td>2.0</td>\n",
       "      <td>Apr 4</td>\n",
       "      <td>True</td>\n",
       "      <td>SEA</td>\n",
       "      <td>W,2-1</td>\n",
       "      <td>29.0</td>\n",
       "      <td>26.0</td>\n",
       "      <td>2.0</td>\n",
       "      <td>5.0</td>\n",
       "      <td>0.0</td>\n",
       "      <td>0.0</td>\n",
       "      <td>2.0</td>\n",
       "      <td>2.0</td>\n",
       "      <td>3.0</td>\n",
       "      <td>0.0</td>\n",
       "      <td>3.0</td>\n",
       "      <td>0.0</td>\n",
       "      <td>0.0</td>\n",
       "      <td>0.0</td>\n",
       "      <td>1.0</td>\n",
       "      <td>2.0</td>\n",
       "      <td>0.0</td>\n",
       "      <td>2.0</td>\n",
       "      <td>0.208</td>\n",
       "      <td>0.259</td>\n",
       "      <td>0.434</td>\n",
       "      <td>0.693</td>\n",
       "      <td>3.0</td>\n",
       "      <td>10.0</td>\n",
       "      <td>R</td>\n",
       "      <td>H.Iwakuma(55)</td>\n",
       "      <td>55</td>\n",
       "      <td>0.115385</td>\n",
       "      <td>0.115385</td>\n",
       "    </tr>\n",
       "    <tr>\n",
       "      <th>2</th>\n",
       "      <td>3.0</td>\n",
       "      <td>Apr 5</td>\n",
       "      <td>True</td>\n",
       "      <td>SEA</td>\n",
       "      <td>W,5-3</td>\n",
       "      <td>55.0</td>\n",
       "      <td>51.0</td>\n",
       "      <td>5.0</td>\n",
       "      <td>13.0</td>\n",
       "      <td>4.0</td>\n",
       "      <td>0.0</td>\n",
       "      <td>1.0</td>\n",
       "      <td>5.0</td>\n",
       "      <td>3.0</td>\n",
       "      <td>0.0</td>\n",
       "      <td>9.0</td>\n",
       "      <td>0.0</td>\n",
       "      <td>1.0</td>\n",
       "      <td>0.0</td>\n",
       "      <td>1.0</td>\n",
       "      <td>2.0</td>\n",
       "      <td>0.0</td>\n",
       "      <td>0.0</td>\n",
       "      <td>0.231</td>\n",
       "      <td>0.277</td>\n",
       "      <td>0.413</td>\n",
       "      <td>0.690</td>\n",
       "      <td>12.0</td>\n",
       "      <td>11.0</td>\n",
       "      <td>L</td>\n",
       "      <td>J.Paxton(72)</td>\n",
       "      <td>72</td>\n",
       "      <td>0.176471</td>\n",
       "      <td>0.058824</td>\n",
       "    </tr>\n",
       "    <tr>\n",
       "      <th>3</th>\n",
       "      <td>4.0</td>\n",
       "      <td>Apr 6</td>\n",
       "      <td>True</td>\n",
       "      <td>SEA</td>\n",
       "      <td>L,2-4</td>\n",
       "      <td>36.0</td>\n",
       "      <td>32.0</td>\n",
       "      <td>2.0</td>\n",
       "      <td>6.0</td>\n",
       "      <td>0.0</td>\n",
       "      <td>0.0</td>\n",
       "      <td>2.0</td>\n",
       "      <td>2.0</td>\n",
       "      <td>3.0</td>\n",
       "      <td>1.0</td>\n",
       "      <td>10.0</td>\n",
       "      <td>1.0</td>\n",
       "      <td>0.0</td>\n",
       "      <td>0.0</td>\n",
       "      <td>1.0</td>\n",
       "      <td>1.0</td>\n",
       "      <td>0.0</td>\n",
       "      <td>0.0</td>\n",
       "      <td>0.221</td>\n",
       "      <td>0.277</td>\n",
       "      <td>0.404</td>\n",
       "      <td>0.681</td>\n",
       "      <td>7.0</td>\n",
       "      <td>11.0</td>\n",
       "      <td>L</td>\n",
       "      <td>A.Miranda(50)</td>\n",
       "      <td>50</td>\n",
       "      <td>0.312500</td>\n",
       "      <td>0.093750</td>\n",
       "    </tr>\n",
       "    <tr>\n",
       "      <th>4</th>\n",
       "      <td>5.0</td>\n",
       "      <td>Apr 7</td>\n",
       "      <td>True</td>\n",
       "      <td>KCR</td>\n",
       "      <td>L,1-5</td>\n",
       "      <td>33.0</td>\n",
       "      <td>30.0</td>\n",
       "      <td>1.0</td>\n",
       "      <td>6.0</td>\n",
       "      <td>1.0</td>\n",
       "      <td>0.0</td>\n",
       "      <td>0.0</td>\n",
       "      <td>1.0</td>\n",
       "      <td>3.0</td>\n",
       "      <td>0.0</td>\n",
       "      <td>8.0</td>\n",
       "      <td>0.0</td>\n",
       "      <td>0.0</td>\n",
       "      <td>0.0</td>\n",
       "      <td>0.0</td>\n",
       "      <td>3.0</td>\n",
       "      <td>0.0</td>\n",
       "      <td>0.0</td>\n",
       "      <td>0.217</td>\n",
       "      <td>0.276</td>\n",
       "      <td>0.373</td>\n",
       "      <td>0.650</td>\n",
       "      <td>5.0</td>\n",
       "      <td>10.0</td>\n",
       "      <td>L</td>\n",
       "      <td>J.Vargas(61)</td>\n",
       "      <td>61</td>\n",
       "      <td>0.266667</td>\n",
       "      <td>0.100000</td>\n",
       "    </tr>\n",
       "  </tbody>\n",
       "</table>\n",
       "</div>"
      ],
      "text/plain": [
       "   Gtm   Date  Home  Opp   Rslt    PA    AB    R     H   2B   3B   HR  RBI  \\\n",
       "0  1.0  Apr 3  True  SEA  W,3-0  30.0  27.0  3.0   6.0  0.0  0.0  2.0  3.0   \n",
       "1  2.0  Apr 4  True  SEA  W,2-1  29.0  26.0  2.0   5.0  0.0  0.0  2.0  2.0   \n",
       "2  3.0  Apr 5  True  SEA  W,5-3  55.0  51.0  5.0  13.0  4.0  0.0  1.0  5.0   \n",
       "3  4.0  Apr 6  True  SEA  L,2-4  36.0  32.0  2.0   6.0  0.0  0.0  2.0  2.0   \n",
       "4  5.0  Apr 7  True  KCR  L,1-5  33.0  30.0  1.0   6.0  1.0  0.0  0.0  1.0   \n",
       "\n",
       "    BB  IBB    SO  HBP   SH   SF  ROE  GDP   SB   CS     BA    OBP    SLG  \\\n",
       "0  1.0  0.0   6.0  0.0  0.0  1.0  0.0  1.0  1.0  0.0  0.222  0.241  0.444   \n",
       "1  3.0  0.0   3.0  0.0  0.0  0.0  1.0  2.0  0.0  2.0  0.208  0.259  0.434   \n",
       "2  3.0  0.0   9.0  0.0  1.0  0.0  1.0  2.0  0.0  0.0  0.231  0.277  0.413   \n",
       "3  3.0  1.0  10.0  1.0  0.0  0.0  1.0  1.0  0.0  0.0  0.221  0.277  0.404   \n",
       "4  3.0  0.0   8.0  0.0  0.0  0.0  0.0  3.0  0.0  0.0  0.217  0.276  0.373   \n",
       "\n",
       "     OPS   LOB     # Thr Opp. Starter (GmeSc) GmeSc      SoAb      BbAb  \n",
       "0  0.686   3.0  10.0   R      F.Hernandez(55)    55  0.222222  0.037037  \n",
       "1  0.693   3.0  10.0   R        H.Iwakuma(55)    55  0.115385  0.115385  \n",
       "2  0.690  12.0  11.0   L         J.Paxton(72)    72  0.176471  0.058824  \n",
       "3  0.681   7.0  11.0   L        A.Miranda(50)    50  0.312500  0.093750  \n",
       "4  0.650   5.0  10.0   L         J.Vargas(61)    61  0.266667  0.100000  "
      ]
     },
     "execution_count": 85,
     "metadata": {},
     "output_type": "execute_result"
    }
   ],
   "source": [
    "astros2017df.head()"
   ]
  },
  {
   "cell_type": "code",
   "execution_count": 91,
   "metadata": {},
   "outputs": [
    {
     "data": {
      "text/plain": [
       "array(['55', '72', '50', '61', '54', '75', '42', '35', '51', '62', '60',\n",
       "       '52', '68', '44', '48', '45', '28', '76', '43', '21', '24', '56',\n",
       "       '46', '32', '11', '67', '12', '79', '53', '34', '20', '65', '33',\n",
       "       '31', '40', '69', '29', '26', '39', '(3', '49', '47', '15', '37',\n",
       "       '64', '27', '25', '73', '(7', '23', '71', '74', '82', '57', '38',\n",
       "       '78', '59', '22', '63', '58'], dtype=object)"
      ]
     },
     "execution_count": 91,
     "metadata": {},
     "output_type": "execute_result"
    }
   ],
   "source": [
    "astros2017df['GmeSc'].unique()"
   ]
  },
  {
   "cell_type": "code",
   "execution_count": 93,
   "metadata": {},
   "outputs": [
    {
     "data": {
      "text/plain": [
       "0     55\n",
       "1     55\n",
       "2     72\n",
       "3     50\n",
       "4     61\n",
       "5     54\n",
       "6     54\n",
       "7     75\n",
       "8     42\n",
       "9     35\n",
       "10    51\n",
       "11    62\n",
       "12    60\n",
       "13    51\n",
       "14    52\n",
       "15    68\n",
       "16    44\n",
       "17    48\n",
       "18    45\n",
       "19    50\n",
       "Name: GmeSc, dtype: object"
      ]
     },
     "execution_count": 93,
     "metadata": {},
     "output_type": "execute_result"
    }
   ],
   "source": [
    "astros2017df['GmeSc'].head(20)"
   ]
  },
  {
   "cell_type": "code",
   "execution_count": null,
   "metadata": {},
   "outputs": [],
   "source": []
  },
  {
   "cell_type": "code",
   "execution_count": null,
   "metadata": {},
   "outputs": [],
   "source": []
  },
  {
   "cell_type": "code",
   "execution_count": null,
   "metadata": {},
   "outputs": [],
   "source": []
  },
  {
   "cell_type": "code",
   "execution_count": null,
   "metadata": {},
   "outputs": [],
   "source": []
  },
  {
   "cell_type": "code",
   "execution_count": null,
   "metadata": {},
   "outputs": [],
   "source": []
  },
  {
   "cell_type": "code",
   "execution_count": null,
   "metadata": {},
   "outputs": [],
   "source": []
  }
 ],
 "metadata": {
  "kernelspec": {
   "display_name": "Python 3",
   "language": "python",
   "name": "python3"
  },
  "language_info": {
   "codemirror_mode": {
    "name": "ipython",
    "version": 3
   },
   "file_extension": ".py",
   "mimetype": "text/x-python",
   "name": "python",
   "nbconvert_exporter": "python",
   "pygments_lexer": "ipython3",
   "version": "3.7.9"
  }
 },
 "nbformat": 4,
 "nbformat_minor": 4
}
