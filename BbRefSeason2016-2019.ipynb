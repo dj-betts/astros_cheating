{
 "cells": [
  {
   "cell_type": "code",
   "execution_count": 1,
   "metadata": {},
   "outputs": [],
   "source": [
    "from pymongo import MongoClient\n",
    "import pprint\n",
    "\n",
    "from selenium import webdriver\n",
    "from time import sleep\n",
    "\n",
    "import pandas as pd\n",
    "import matplotlib.pyplot as plt\n",
    "import numpy as np\n",
    "plt.style.use('fivethirtyeight')\n",
    "\n",
    "# Requests sends and recieves HTTP requests.\n",
    "import requests\n",
    "\n",
    "# Beautiful Soup parses HTML documents in python.\n",
    "from bs4 import BeautifulSoup\n",
    "\n",
    "import json\n",
    "import time\n",
    "import copy\n",
    "import pprint"
   ]
  },
  {
   "cell_type": "code",
   "execution_count": 2,
   "metadata": {},
   "outputs": [],
   "source": [
    "# driver = webdriver.Chrome()\n",
    "# driver.get('https://www.baseball-reference.com/teams/tgl.cgi?team=HOU&t=b&year=2017')\n",
    "# html = driver.page_source\n",
    "# url  = 'https://www.baseball-reference.com/teams/tgl.cgi?team=HOU&t=b&year=2017'"
   ]
  },
  {
   "cell_type": "code",
   "execution_count": 3,
   "metadata": {},
   "outputs": [],
   "source": [
    "#AJ Hinch: 2015-2019. AL vs NL. "
   ]
  },
  {
   "cell_type": "code",
   "execution_count": 4,
   "metadata": {},
   "outputs": [],
   "source": [
    "def gamelogurl_to_pddf(url):  \n",
    "    r = requests.get(url)\n",
    "    r.status_code\n",
    "    soup = BeautifulSoup(r.text, 'html.parser')\n",
    "    tables = soup.find_all('table')\n",
    "    indices = tables[0].find_all('th')\n",
    "    rows = tables[0].find_all('tr')\n",
    "    indices, rows\n",
    "    columns = {}\n",
    "    for index in indices[1:32]:\n",
    "        columns[index.text] = None\n",
    "    d = {}\n",
    "    for row in rows:\n",
    "        d[row.text] = None\n",
    "    all_data = []\n",
    "    keys = list(columns.keys())\n",
    "    for i,row in enumerate(rows):\n",
    "        if i > 0:\n",
    "            new_row = copy.copy(columns)\n",
    "            entries = row.find_all('td')\n",
    "            for j,entry in enumerate(entries):\n",
    "                new_row[keys[j]]= entry.text\n",
    "            all_data.append(new_row)\n",
    "    return pd.DataFrame.from_records(all_data)"
   ]
  },
  {
   "cell_type": "code",
   "execution_count": 5,
   "metadata": {},
   "outputs": [],
   "source": [
    "def gamelogurl_to_csv(url):  \n",
    "    r = requests.get(url)\n",
    "    r.status_code\n",
    "    soup = BeautifulSoup(r.text, 'html.parser')\n",
    "    tables = soup.find_all('table')\n",
    "    indices = tables[0].find_all('th')\n",
    "    rows = tables[0].find_all('tr')\n",
    "    indices, rows\n",
    "    columns = {}\n",
    "    for index in indices[1:32]:\n",
    "        columns[index.text] = None\n",
    "    d = {}\n",
    "    for row in rows:\n",
    "        d[row.text] = None\n",
    "    all_data = []\n",
    "    keys = list(columns.keys())\n",
    "    for i,row in enumerate(rows):\n",
    "        if i > 0:\n",
    "            new_row = copy.copy(columns)\n",
    "            entries = row.find_all('td')\n",
    "            for j,entry in enumerate(entries):\n",
    "                new_row[keys[j]]= entry.text\n",
    "            all_data.append(new_row)\n",
    "    pd.DataFrame.from_records(all_data).to_csv(f'data/{url[54:57]}{url[-4:]}.csv')\n"
   ]
  },
  {
   "cell_type": "code",
   "execution_count": 6,
   "metadata": {},
   "outputs": [],
   "source": [
    "# def gamelogdf_to_csv(df):\n",
    "#     return df.to_csv(f'data/{url[54:57]}{url[-4:]}.csv')"
   ]
  },
  {
   "cell_type": "code",
   "execution_count": 13,
   "metadata": {},
   "outputs": [],
   "source": [
    "def scrape_gamelogs2016(lst):\n",
    "    for team in lst:\n",
    "        gamelogurl_to_csv(f'https://www.baseball-reference.com/teams/tgl.cgi?team={team}&t=b&year=2016')\n",
    "        sleep(1)"
   ]
  },
  {
   "cell_type": "code",
   "execution_count": 14,
   "metadata": {},
   "outputs": [],
   "source": [
    "def scrape_gamelogs2017(lst):\n",
    "    for team in lst:\n",
    "        gamelogurl_to_csv(f'https://www.baseball-reference.com/teams/tgl.cgi?team={team}&t=b&year=2017')\n",
    "        sleep(1)                     "
   ]
  },
  {
   "cell_type": "code",
   "execution_count": 15,
   "metadata": {},
   "outputs": [],
   "source": [
    "def scrape_gamelogs2018(lst):\n",
    "    for team in lst:\n",
    "        gamelogurl_to_csv(f'https://www.baseball-reference.com/teams/tgl.cgi?team={team}&t=b&year=2018')\n",
    "        sleep(1)"
   ]
  },
  {
   "cell_type": "code",
   "execution_count": 16,
   "metadata": {},
   "outputs": [],
   "source": [
    "def scrape_gamelogs2019(lst):\n",
    "    for team in lst:\n",
    "        gamelogurl_to_csv(f'https://www.baseball-reference.com/teams/tgl.cgi?team={team}&t=b&year=2019')\n",
    "        sleep(1)"
   ]
  },
  {
   "cell_type": "code",
   "execution_count": 17,
   "metadata": {},
   "outputs": [],
   "source": [
    "teams = pd.read_csv(\"teams.csv\")"
   ]
  },
  {
   "cell_type": "code",
   "execution_count": 18,
   "metadata": {},
   "outputs": [],
   "source": [
    "teams_list = teams[\"0\"]"
   ]
  },
  {
   "cell_type": "code",
   "execution_count": 19,
   "metadata": {},
   "outputs": [],
   "source": [
    "scrape_gamelogs2016(teams_list)"
   ]
  },
  {
   "cell_type": "code",
   "execution_count": 20,
   "metadata": {},
   "outputs": [],
   "source": [
    "scrape_gamelogs2017(teams_list)"
   ]
  },
  {
   "cell_type": "code",
   "execution_count": 21,
   "metadata": {},
   "outputs": [],
   "source": [
    "scrape_gamelogs2018(teams_list)"
   ]
  },
  {
   "cell_type": "code",
   "execution_count": 22,
   "metadata": {},
   "outputs": [],
   "source": [
    "scrape_gamelogs2019(teams_list)"
   ]
  },
  {
   "cell_type": "code",
   "execution_count": null,
   "metadata": {},
   "outputs": [],
   "source": []
  },
  {
   "cell_type": "code",
   "execution_count": null,
   "metadata": {},
   "outputs": [],
   "source": []
  },
  {
   "cell_type": "code",
   "execution_count": null,
   "metadata": {},
   "outputs": [],
   "source": []
  },
  {
   "cell_type": "code",
   "execution_count": null,
   "metadata": {},
   "outputs": [],
   "source": []
  },
  {
   "cell_type": "code",
   "execution_count": null,
   "metadata": {},
   "outputs": [],
   "source": []
  },
  {
   "cell_type": "code",
   "execution_count": null,
   "metadata": {},
   "outputs": [],
   "source": []
  },
  {
   "cell_type": "code",
   "execution_count": null,
   "metadata": {},
   "outputs": [],
   "source": []
  },
  {
   "cell_type": "code",
   "execution_count": null,
   "metadata": {},
   "outputs": [],
   "source": []
  },
  {
   "cell_type": "code",
   "execution_count": null,
   "metadata": {},
   "outputs": [],
   "source": []
  },
  {
   "cell_type": "code",
   "execution_count": null,
   "metadata": {},
   "outputs": [],
   "source": []
  },
  {
   "cell_type": "code",
   "execution_count": null,
   "metadata": {},
   "outputs": [],
   "source": []
  },
  {
   "cell_type": "code",
   "execution_count": null,
   "metadata": {},
   "outputs": [],
   "source": []
  },
  {
   "cell_type": "code",
   "execution_count": null,
   "metadata": {},
   "outputs": [],
   "source": []
  },
  {
   "cell_type": "code",
   "execution_count": null,
   "metadata": {},
   "outputs": [],
   "source": []
  },
  {
   "cell_type": "code",
   "execution_count": null,
   "metadata": {},
   "outputs": [],
   "source": []
  },
  {
   "cell_type": "code",
   "execution_count": null,
   "metadata": {},
   "outputs": [],
   "source": []
  },
  {
   "cell_type": "code",
   "execution_count": null,
   "metadata": {},
   "outputs": [],
   "source": []
  },
  {
   "cell_type": "code",
   "execution_count": null,
   "metadata": {},
   "outputs": [],
   "source": []
  },
  {
   "cell_type": "code",
   "execution_count": null,
   "metadata": {},
   "outputs": [],
   "source": []
  },
  {
   "cell_type": "code",
   "execution_count": null,
   "metadata": {},
   "outputs": [],
   "source": []
  },
  {
   "cell_type": "code",
   "execution_count": null,
   "metadata": {},
   "outputs": [],
   "source": [
    "def boolhome(df):\n",
    "    df.rename(columns={\"\":\"Home\"}, inplace=True)\n",
    "    df.replace({\"Home\":{\"@\": False, \"\": True}}, inplace=True)\n",
    "    return df"
   ]
  },
  {
   "cell_type": "code",
   "execution_count": null,
   "metadata": {},
   "outputs": [],
   "source": []
  },
  {
   "cell_type": "code",
   "execution_count": null,
   "metadata": {},
   "outputs": [],
   "source": [
    "filtered_dict = {}\n",
    "for _ in all_data:\n",
    "    for k, v in _.items():\n",
    "        if _[k] != None:\n",
    "            filtered_dict[k] = v\n",
    "    filtered_dict"
   ]
  },
  {
   "cell_type": "code",
   "execution_count": null,
   "metadata": {},
   "outputs": [],
   "source": [
    "len(filtered_dict)"
   ]
  },
  {
   "cell_type": "code",
   "execution_count": null,
   "metadata": {},
   "outputs": [],
   "source": [
    "all_data\n",
    "for dic in range(20):\n",
    "    all_data[dic]['Rk'] = (dic+1)\n",
    "df = pd.DataFrame(all_data)\n",
    "dlst = list(range(17,38))\n",
    "df.drop(df.columns[dlst], axis = 1, inplace = True) \n",
    "df "
   ]
  },
  {
   "cell_type": "code",
   "execution_count": null,
   "metadata": {},
   "outputs": [],
   "source": [
    "filtered_dict = {}\n",
    "for k, v in all_data.items():\n",
    "    if all_data[k] != None:\n",
    "        filtered_dict[k] = v\n",
    "filtered_dict"
   ]
  },
  {
   "cell_type": "code",
   "execution_count": null,
   "metadata": {},
   "outputs": [],
   "source": []
  },
  {
   "cell_type": "code",
   "execution_count": null,
   "metadata": {},
   "outputs": [],
   "source": []
  },
  {
   "cell_type": "code",
   "execution_count": null,
   "metadata": {},
   "outputs": [],
   "source": []
  },
  {
   "cell_type": "code",
   "execution_count": null,
   "metadata": {},
   "outputs": [],
   "source": [
    "scrape_gamelogs2017(NL)"
   ]
  },
  {
   "cell_type": "code",
   "execution_count": null,
   "metadata": {},
   "outputs": [],
   "source": []
  },
  {
   "cell_type": "code",
   "execution_count": null,
   "metadata": {},
   "outputs": [],
   "source": []
  },
  {
   "cell_type": "code",
   "execution_count": null,
   "metadata": {},
   "outputs": [],
   "source": []
  },
  {
   "cell_type": "code",
   "execution_count": null,
   "metadata": {},
   "outputs": [],
   "source": []
  },
  {
   "cell_type": "code",
   "execution_count": null,
   "metadata": {},
   "outputs": [],
   "source": []
  },
  {
   "cell_type": "code",
   "execution_count": null,
   "metadata": {},
   "outputs": [],
   "source": []
  },
  {
   "cell_type": "code",
   "execution_count": null,
   "metadata": {},
   "outputs": [],
   "source": []
  }
 ],
 "metadata": {
  "kernelspec": {
   "display_name": "Python 3",
   "language": "python",
   "name": "python3"
  },
  "language_info": {
   "codemirror_mode": {
    "name": "ipython",
    "version": 3
   },
   "file_extension": ".py",
   "mimetype": "text/x-python",
   "name": "python",
   "nbconvert_exporter": "python",
   "pygments_lexer": "ipython3",
   "version": "3.7.9"
  }
 },
 "nbformat": 4,
 "nbformat_minor": 4
}
