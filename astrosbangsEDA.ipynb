{
 "cells": [
  {
   "cell_type": "code",
   "execution_count": 1,
   "metadata": {},
   "outputs": [],
   "source": [
    "import pandas as pd"
   ]
  },
  {
   "cell_type": "code",
   "execution_count": 4,
   "metadata": {},
   "outputs": [],
   "source": [
    "cheatingscandalcsv = pd.read_csv(\"astros_bangs_20200127.csv\")"
   ]
  },
  {
   "cell_type": "code",
   "execution_count": 10,
   "metadata": {},
   "outputs": [
    {
     "data": {
      "text/html": [
       "<div>\n",
       "<style scoped>\n",
       "    .dataframe tbody tr th:only-of-type {\n",
       "        vertical-align: middle;\n",
       "    }\n",
       "\n",
       "    .dataframe tbody tr th {\n",
       "        vertical-align: top;\n",
       "    }\n",
       "\n",
       "    .dataframe thead th {\n",
       "        text-align: right;\n",
       "    }\n",
       "</style>\n",
       "<table border=\"1\" class=\"dataframe\">\n",
       "  <thead>\n",
       "    <tr style=\"text-align: right;\">\n",
       "      <th></th>\n",
       "      <th>game_id</th>\n",
       "      <th>game_pk</th>\n",
       "      <th>game_date</th>\n",
       "      <th>opponent</th>\n",
       "      <th>final_away_runs</th>\n",
       "      <th>final_home_runs</th>\n",
       "      <th>inning</th>\n",
       "      <th>top_bottom</th>\n",
       "      <th>batter</th>\n",
       "      <th>at_bat_event</th>\n",
       "      <th>...</th>\n",
       "      <th>youtube_id</th>\n",
       "      <th>pitch_youtube_seconds</th>\n",
       "      <th>youtube_url</th>\n",
       "      <th>pitch_datetime</th>\n",
       "      <th>game_pitch_id</th>\n",
       "      <th>event_number</th>\n",
       "      <th>pitch_playid</th>\n",
       "      <th>atbat_playid</th>\n",
       "      <th>away_team_id</th>\n",
       "      <th>home_team_id</th>\n",
       "    </tr>\n",
       "  </thead>\n",
       "  <tbody>\n",
       "    <tr>\n",
       "      <th>0</th>\n",
       "      <td>2017_04_03_seamlb_houmlb_1</td>\n",
       "      <td>490111</td>\n",
       "      <td>3/4/2017</td>\n",
       "      <td>SEA</td>\n",
       "      <td>0</td>\n",
       "      <td>3</td>\n",
       "      <td>1</td>\n",
       "      <td>bottom</td>\n",
       "      <td>George Springer</td>\n",
       "      <td>Home Run</td>\n",
       "      <td>...</td>\n",
       "      <td>af5e55Cc8ZA</td>\n",
       "      <td>1473</td>\n",
       "      <td>https://www.youtube.com/watch?v=af5e55Cc8ZA&amp;t=...</td>\n",
       "      <td>3/4/2017 19:24:41-05:05</td>\n",
       "      <td>170404002442</td>\n",
       "      <td>32</td>\n",
       "      <td>ca9ed282-a9c3-45a6-ac10-d216fae7ce8b</td>\n",
       "      <td>1421aabe-7063-4902-9a46-4b2c239394cb</td>\n",
       "      <td>136</td>\n",
       "      <td>117</td>\n",
       "    </tr>\n",
       "    <tr>\n",
       "      <th>1</th>\n",
       "      <td>2017_04_03_seamlb_houmlb_1</td>\n",
       "      <td>490111</td>\n",
       "      <td>3/4/2017</td>\n",
       "      <td>SEA</td>\n",
       "      <td>0</td>\n",
       "      <td>3</td>\n",
       "      <td>1</td>\n",
       "      <td>bottom</td>\n",
       "      <td>George Springer</td>\n",
       "      <td>Home Run</td>\n",
       "      <td>...</td>\n",
       "      <td>af5e55Cc8ZA</td>\n",
       "      <td>1489</td>\n",
       "      <td>https://www.youtube.com/watch?v=af5e55Cc8ZA&amp;t=...</td>\n",
       "      <td>3/4/2017 19:24:57-05:05</td>\n",
       "      <td>170404002458</td>\n",
       "      <td>33</td>\n",
       "      <td>7f89900c-faed-485c-a6b6-41c0a2b1c26f</td>\n",
       "      <td>1421aabe-7063-4902-9a46-4b2c239394cb</td>\n",
       "      <td>136</td>\n",
       "      <td>117</td>\n",
       "    </tr>\n",
       "    <tr>\n",
       "      <th>2</th>\n",
       "      <td>2017_04_03_seamlb_houmlb_1</td>\n",
       "      <td>490111</td>\n",
       "      <td>3/4/2017</td>\n",
       "      <td>SEA</td>\n",
       "      <td>0</td>\n",
       "      <td>3</td>\n",
       "      <td>1</td>\n",
       "      <td>bottom</td>\n",
       "      <td>George Springer</td>\n",
       "      <td>Home Run</td>\n",
       "      <td>...</td>\n",
       "      <td>af5e55Cc8ZA</td>\n",
       "      <td>1512</td>\n",
       "      <td>https://www.youtube.com/watch?v=af5e55Cc8ZA&amp;t=...</td>\n",
       "      <td>3/4/2017 19:25:20-05:05</td>\n",
       "      <td>170404002521</td>\n",
       "      <td>34</td>\n",
       "      <td>6c875b0c-b4e3-4521-b1c0-447ee785bff9</td>\n",
       "      <td>1421aabe-7063-4902-9a46-4b2c239394cb</td>\n",
       "      <td>136</td>\n",
       "      <td>117</td>\n",
       "    </tr>\n",
       "    <tr>\n",
       "      <th>3</th>\n",
       "      <td>2017_04_03_seamlb_houmlb_1</td>\n",
       "      <td>490111</td>\n",
       "      <td>3/4/2017</td>\n",
       "      <td>SEA</td>\n",
       "      <td>0</td>\n",
       "      <td>3</td>\n",
       "      <td>1</td>\n",
       "      <td>bottom</td>\n",
       "      <td>George Springer</td>\n",
       "      <td>Home Run</td>\n",
       "      <td>...</td>\n",
       "      <td>af5e55Cc8ZA</td>\n",
       "      <td>1529</td>\n",
       "      <td>https://www.youtube.com/watch?v=af5e55Cc8ZA&amp;t=...</td>\n",
       "      <td>3/4/2017 19:25:37-05:05</td>\n",
       "      <td>170404002538</td>\n",
       "      <td>35</td>\n",
       "      <td>1421aabe-7063-4902-9a46-4b2c239394cb</td>\n",
       "      <td>1421aabe-7063-4902-9a46-4b2c239394cb</td>\n",
       "      <td>136</td>\n",
       "      <td>117</td>\n",
       "    </tr>\n",
       "    <tr>\n",
       "      <th>4</th>\n",
       "      <td>2017_04_03_seamlb_houmlb_1</td>\n",
       "      <td>490111</td>\n",
       "      <td>3/4/2017</td>\n",
       "      <td>SEA</td>\n",
       "      <td>0</td>\n",
       "      <td>3</td>\n",
       "      <td>1</td>\n",
       "      <td>bottom</td>\n",
       "      <td>Alex Bregman</td>\n",
       "      <td>Single</td>\n",
       "      <td>...</td>\n",
       "      <td>af5e55Cc8ZA</td>\n",
       "      <td>1580</td>\n",
       "      <td>https://www.youtube.com/watch?v=af5e55Cc8ZA&amp;t=...</td>\n",
       "      <td>3/4/2017 19:26:28-05:05</td>\n",
       "      <td>170404002636</td>\n",
       "      <td>40</td>\n",
       "      <td>3a7c0b8b-3b0c-4832-90d0-5d8425d0b995</td>\n",
       "      <td>3a7c0b8b-3b0c-4832-90d0-5d8425d0b995</td>\n",
       "      <td>136</td>\n",
       "      <td>117</td>\n",
       "    </tr>\n",
       "  </tbody>\n",
       "</table>\n",
       "<p>5 rows × 29 columns</p>\n",
       "</div>"
      ],
      "text/plain": [
       "                      game_id  game_pk game_date opponent  final_away_runs  \\\n",
       "0  2017_04_03_seamlb_houmlb_1   490111  3/4/2017      SEA                0   \n",
       "1  2017_04_03_seamlb_houmlb_1   490111  3/4/2017      SEA                0   \n",
       "2  2017_04_03_seamlb_houmlb_1   490111  3/4/2017      SEA                0   \n",
       "3  2017_04_03_seamlb_houmlb_1   490111  3/4/2017      SEA                0   \n",
       "4  2017_04_03_seamlb_houmlb_1   490111  3/4/2017      SEA                0   \n",
       "\n",
       "   final_home_runs  inning top_bottom           batter at_bat_event  ...  \\\n",
       "0                3       1     bottom  George Springer     Home Run  ...   \n",
       "1                3       1     bottom  George Springer     Home Run  ...   \n",
       "2                3       1     bottom  George Springer     Home Run  ...   \n",
       "3                3       1     bottom  George Springer     Home Run  ...   \n",
       "4                3       1     bottom     Alex Bregman       Single  ...   \n",
       "\n",
       "    youtube_id pitch_youtube_seconds  \\\n",
       "0  af5e55Cc8ZA                  1473   \n",
       "1  af5e55Cc8ZA                  1489   \n",
       "2  af5e55Cc8ZA                  1512   \n",
       "3  af5e55Cc8ZA                  1529   \n",
       "4  af5e55Cc8ZA                  1580   \n",
       "\n",
       "                                         youtube_url           pitch_datetime  \\\n",
       "0  https://www.youtube.com/watch?v=af5e55Cc8ZA&t=...  3/4/2017 19:24:41-05:05   \n",
       "1  https://www.youtube.com/watch?v=af5e55Cc8ZA&t=...  3/4/2017 19:24:57-05:05   \n",
       "2  https://www.youtube.com/watch?v=af5e55Cc8ZA&t=...  3/4/2017 19:25:20-05:05   \n",
       "3  https://www.youtube.com/watch?v=af5e55Cc8ZA&t=...  3/4/2017 19:25:37-05:05   \n",
       "4  https://www.youtube.com/watch?v=af5e55Cc8ZA&t=...  3/4/2017 19:26:28-05:05   \n",
       "\n",
       "  game_pitch_id event_number                          pitch_playid  \\\n",
       "0  170404002442           32  ca9ed282-a9c3-45a6-ac10-d216fae7ce8b   \n",
       "1  170404002458           33  7f89900c-faed-485c-a6b6-41c0a2b1c26f   \n",
       "2  170404002521           34  6c875b0c-b4e3-4521-b1c0-447ee785bff9   \n",
       "3  170404002538           35  1421aabe-7063-4902-9a46-4b2c239394cb   \n",
       "4  170404002636           40  3a7c0b8b-3b0c-4832-90d0-5d8425d0b995   \n",
       "\n",
       "                           atbat_playid away_team_id home_team_id  \n",
       "0  1421aabe-7063-4902-9a46-4b2c239394cb          136          117  \n",
       "1  1421aabe-7063-4902-9a46-4b2c239394cb          136          117  \n",
       "2  1421aabe-7063-4902-9a46-4b2c239394cb          136          117  \n",
       "3  1421aabe-7063-4902-9a46-4b2c239394cb          136          117  \n",
       "4  3a7c0b8b-3b0c-4832-90d0-5d8425d0b995          136          117  \n",
       "\n",
       "[5 rows x 29 columns]"
      ]
     },
     "execution_count": 10,
     "metadata": {},
     "output_type": "execute_result"
    }
   ],
   "source": [
    "cheatingscandalcsv.head()"
   ]
  },
  {
   "cell_type": "code",
   "execution_count": 16,
   "metadata": {},
   "outputs": [
    {
     "data": {
      "text/plain": [
       "count          8274\n",
       "unique           25\n",
       "top       Strikeout\n",
       "freq           1851\n",
       "Name: at_bat_event, dtype: object"
      ]
     },
     "execution_count": 16,
     "metadata": {},
     "output_type": "execute_result"
    }
   ],
   "source": [
    "cheatingscandalcsv.at_bat_event.describe()"
   ]
  },
  {
   "cell_type": "code",
   "execution_count": 17,
   "metadata": {},
   "outputs": [
    {
     "data": {
      "text/plain": [
       "array(['Home Run', 'Single', 'Strikeout', 'Double Play',\n",
       "       'Grounded Into DP', 'Catcher Interference', 'Flyout', 'Groundout',\n",
       "       'Lineout', 'Walk', 'Sac Fly', 'Field Error', 'Runner Out',\n",
       "       'Forceout', 'Pop Out', 'Fan interference', 'Double', 'Sac Bunt',\n",
       "       'Hit By Pitch', 'Strikeout - DP', 'Triple', 'Fielders Choice Out',\n",
       "       'Bunt Groundout', 'Batter Interference', 'Bunt Pop Out'],\n",
       "      dtype=object)"
      ]
     },
     "execution_count": 17,
     "metadata": {},
     "output_type": "execute_result"
    }
   ],
   "source": [
    "cheatingscandalcsv.at_bat_event.unique()"
   ]
  },
  {
   "cell_type": "code",
   "execution_count": 25,
   "metadata": {},
   "outputs": [],
   "source": [
    "outcome_bang = cheatingscandalcsv.at_bat_event.value_counts()"
   ]
  },
  {
   "cell_type": "code",
   "execution_count": 39,
   "metadata": {},
   "outputs": [
    {
     "data": {
      "text/plain": [
       "Strikeout    1851\n",
       "Groundout    1418\n",
       "Single       1138\n",
       "Walk          986\n",
       "Flyout        782\n",
       "Name: at_bat_event, dtype: int64"
      ]
     },
     "execution_count": 39,
     "metadata": {},
     "output_type": "execute_result"
    }
   ],
   "source": [
    "outcome_bang.head()"
   ]
  },
  {
   "cell_type": "code",
   "execution_count": 42,
   "metadata": {},
   "outputs": [
    {
     "data": {
      "text/plain": [
       "<AxesSubplot:>"
      ]
     },
     "execution_count": 42,
     "metadata": {},
     "output_type": "execute_result"
    },
    {
     "data": {
      "image/png": "[encoded data removed]",
      "text/plain": [
       "<Figure size 432x288 with 1 Axes>"
      ]
     },
     "metadata": {
      "needs_background": "light"
     },
     "output_type": "display_data"
    }
   ],
   "source": [
    "outcome_bang.plot(kind=\"bar\")"
   ]
  },
  {
   "cell_type": "code",
   "execution_count": null,
   "metadata": {},
   "outputs": [],
   "source": []
  },
  {
   "cell_type": "code",
   "execution_count": 36,
   "metadata": {},
   "outputs": [
    {
     "data": {
      "text/plain": [
       "pandas.core.series.Series"
      ]
     },
     "execution_count": 36,
     "metadata": {},
     "output_type": "execute_result"
    }
   ],
   "source": []
  },
  {
   "cell_type": "code",
   "execution_count": 35,
   "metadata": {},
   "outputs": [
    {
     "data": {
      "text/plain": [
       "1418"
      ]
     },
     "execution_count": 35,
     "metadata": {},
     "output_type": "execute_result"
    }
   ],
   "source": []
  },
  {
   "cell_type": "code",
   "execution_count": null,
   "metadata": {},
   "outputs": [],
   "source": []
  }
 ],
 "metadata": {
  "kernelspec": {
   "display_name": "Python 3",
   "language": "python",
   "name": "python3"
  },
  "language_info": {
   "codemirror_mode": {
    "name": "ipython",
    "version": 3
   },
   "file_extension": ".py",
   "mimetype": "text/x-python",
   "name": "python",
   "nbconvert_exporter": "python",
   "pygments_lexer": "ipython3",
   "version": "3.7.9"
  }
 },
 "nbformat": 4,
 "nbformat_minor": 4
}
