{
 "cells": [
  {
   "cell_type": "code",
   "execution_count": 1,
   "metadata": {},
   "outputs": [],
   "source": [
    "from pymongo import MongoClient\n",
    "import pprint\n",
    "\n",
    "from selenium import webdriver\n",
    "from time import sleep\n",
    "\n",
    "import pandas as pd\n",
    "import matplotlib.pyplot as plt\n",
    "import numpy as np\n",
    "plt.style.use('fivethirtyeight')\n",
    "\n",
    "# Requests sends and recieves HTTP requests.\n",
    "import requests\n",
    "\n",
    "# Beautiful Soup parses HTML documents in python.\n",
    "from bs4 import BeautifulSoup\n",
    "\n",
    "import json\n",
    "import time\n",
    "import copy\n",
    "import pprint"
   ]
  },
  {
   "cell_type": "code",
   "execution_count": 2,
   "metadata": {},
   "outputs": [],
   "source": [
    "# driver = webdriver.Chrome()\n",
    "# driver.get('https://www.baseball-reference.com/teams/tgl.cgi?team=HOU&t=b&year=2017')\n",
    "# html = driver.page_source\n",
    "# url  = 'https://www.baseball-reference.com/teams/tgl.cgi?team=HOU&t=b&year=2017'"
   ]
  },
  {
   "cell_type": "code",
   "execution_count": 3,
   "metadata": {},
   "outputs": [],
   "source": [
    "#AJ Hinch: 2015-2019. AL vs NL. "
   ]
  },
  {
   "cell_type": "code",
   "execution_count": 41,
   "metadata": {},
   "outputs": [],
   "source": [
    "def gamelogurl_to_pddf(url):  \n",
    "    r = requests.get(url)\n",
    "    r.status_code\n",
    "    soup = BeautifulSoup(r.text, 'html.parser')\n",
    "    tables = soup.find_all('table')\n",
    "    indices = tables[0].find_all('th')\n",
    "    rows = tables[0].find_all('tr')\n",
    "    indices, rows\n",
    "    columns = {}\n",
    "    for index in indices[1:32]:\n",
    "        columns[index.text] = None\n",
    "    d = {}\n",
    "    for row in rows:\n",
    "        d[row.text] = None\n",
    "    all_data = []\n",
    "    keys = list(columns.keys())\n",
    "    for i,row in enumerate(rows):\n",
    "        if i > 0:\n",
    "            new_row = copy.copy(columns)\n",
    "            entries = row.find_all('td')\n",
    "            for j,entry in enumerate(entries):\n",
    "                new_row[keys[j]]= entry.text\n",
    "            all_data.append(new_row)\n",
    "    return pd.DataFrame.from_records(all_data)"
   ]
  },
  {
   "cell_type": "code",
   "execution_count": 32,
   "metadata": {},
   "outputs": [],
   "source": [
    "def gamelogurl_to_csv(url):  \n",
    "    r = requests.get(url)\n",
    "    r.status_code\n",
    "    soup = BeautifulSoup(r.text, 'html.parser')\n",
    "    tables = soup.find_all('table')\n",
    "    indices = tables[0].find_all('th')\n",
    "    rows = tables[0].find_all('tr')\n",
    "    indices, rows\n",
    "    columns = {}\n",
    "    for index in indices[1:32]:\n",
    "        columns[index.text] = None\n",
    "    d = {}\n",
    "    for row in rows:\n",
    "        d[row.text] = None\n",
    "    all_data = []\n",
    "    keys = list(columns.keys())\n",
    "    for i,row in enumerate(rows):\n",
    "        if i > 0:\n",
    "            new_row = copy.copy(columns)\n",
    "            entries = row.find_all('td')\n",
    "            for j,entry in enumerate(entries):\n",
    "                new_row[keys[j]]= entry.text\n",
    "            all_data.append(new_row)\n",
    "    pd.DataFrame.from_records(all_data).to_csv(f'data/{url[54:57]}{url[-4:]}.csv')\n"
   ]
  },
  {
   "cell_type": "code",
   "execution_count": 33,
   "metadata": {},
   "outputs": [],
   "source": [
    "# def gamelogdf_to_csv(df):\n",
    "#     return df.to_csv(f'data/{url[54:57]}{url[-4:]}.csv')"
   ]
  },
  {
   "cell_type": "code",
   "execution_count": 58,
   "metadata": {},
   "outputs": [],
   "source": [
    "def scrape_gamelogs2017(lst1, lst2):\n",
    "    for team in lst1:\n",
    "        gamelogurl_to_csv(f'https://www.baseball-reference.com/teams/tgl.cgi?team={team}&t=b&year=2017')\n",
    "    for team in lst2:\n",
    "        gamelogurl_to_csv(f'https://www.baseball-reference.com/teams/tgl.cgi?team={team}&t=b&year=2017')\n",
    "                             \n",
    "                             "
   ]
  },
  {
   "cell_type": "code",
   "execution_count": 60,
   "metadata": {},
   "outputs": [],
   "source": [
    "scrape_gamelogs2017(AL, NL)"
   ]
  },
  {
   "cell_type": "code",
   "execution_count": null,
   "metadata": {},
   "outputs": [],
   "source": []
  },
  {
   "cell_type": "code",
   "execution_count": 26,
   "metadata": {},
   "outputs": [
    {
     "data": {
      "text/plain": [
       "0      NYM\n",
       "3      PHI\n",
       "11     PIT\n",
       "14     SFG\n",
       "17     MIA\n",
       "20     COL\n",
       "23     SDP\n",
       "26     STL\n",
       "34     MIL\n",
       "37     LAD\n",
       "44     CHC\n",
       "55     ATL\n",
       "57     CIN\n",
       "61     CHW\n",
       "69     ARI\n",
       "82     DET\n",
       "89     KCR\n",
       "95     BAL\n",
       "147    MIN\n",
       "164    CLE\n",
       "Name: Opp, dtype: object"
      ]
     },
     "execution_count": 26,
     "metadata": {},
     "output_type": "execute_result"
    }
   ],
   "source": [
    "NL"
   ]
  },
  {
   "cell_type": "code",
   "execution_count": null,
   "metadata": {},
   "outputs": [],
   "source": []
  },
  {
   "cell_type": "code",
   "execution_count": 42,
   "metadata": {},
   "outputs": [],
   "source": [
    "astros2017 = gamelogurl_to_pddf('https://www.baseball-reference.com/teams/tgl.cgi?team=HOU&t=b&year=2017')"
   ]
  },
  {
   "cell_type": "code",
   "execution_count": null,
   "metadata": {},
   "outputs": [],
   "source": []
  },
  {
   "cell_type": "code",
   "execution_count": 46,
   "metadata": {},
   "outputs": [],
   "source": [
    "AL = astros2017.Opp"
   ]
  },
  {
   "cell_type": "code",
   "execution_count": 47,
   "metadata": {},
   "outputs": [],
   "source": [
    "AL.drop_duplicates(inplace=True)"
   ]
  },
  {
   "cell_type": "code",
   "execution_count": 48,
   "metadata": {},
   "outputs": [],
   "source": [
    "AL.dropna(inplace=True)"
   ]
  },
  {
   "cell_type": "code",
   "execution_count": 49,
   "metadata": {},
   "outputs": [
    {
     "data": {
      "text/plain": [
       "0      SEA\n",
       "4      KCR\n",
       "10     OAK\n",
       "12     LAA\n",
       "16     TBR\n",
       "19     CLE\n",
       "26     TEX\n",
       "33     ATL\n",
       "35     NYY\n",
       "39     MIA\n",
       "45     DET\n",
       "49     BAL\n",
       "52     MIN\n",
       "69     BOS\n",
       "88     TOR\n",
       "101    PHI\n",
       "115    CHW\n",
       "121    ARI\n",
       "128    WSN\n",
       "138    NYM\n",
       "Name: Opp, dtype: object"
      ]
     },
     "execution_count": 49,
     "metadata": {},
     "output_type": "execute_result"
    }
   ],
   "source": [
    "AL"
   ]
  },
  {
   "cell_type": "code",
   "execution_count": 50,
   "metadata": {},
   "outputs": [],
   "source": [
    "nats = gamelogurl_to_df('https://www.baseball-reference.com/teams/tgl.cgi?team=WSN&t=b&year=2019')"
   ]
  },
  {
   "cell_type": "code",
   "execution_count": 51,
   "metadata": {},
   "outputs": [],
   "source": [
    "NL = nats.Opp"
   ]
  },
  {
   "cell_type": "code",
   "execution_count": 52,
   "metadata": {},
   "outputs": [],
   "source": [
    "NL.drop_duplicates(inplace=True)"
   ]
  },
  {
   "cell_type": "code",
   "execution_count": 53,
   "metadata": {},
   "outputs": [],
   "source": [
    "NL.dropna(inplace=True)"
   ]
  },
  {
   "cell_type": "code",
   "execution_count": 54,
   "metadata": {},
   "outputs": [
    {
     "data": {
      "text/plain": [
       "array(['NYM', 'PHI', 'PIT', 'SFG', 'MIA', 'COL', 'SDP', 'STL', 'MIL',\n",
       "       'LAD', 'CHC', 'ATL', 'CIN', 'CHW', 'ARI', 'DET', 'KCR', 'BAL',\n",
       "       'MIN', 'CLE'], dtype=object)"
      ]
     },
     "execution_count": 54,
     "metadata": {},
     "output_type": "execute_result"
    }
   ],
   "source": [
    "NL.values"
   ]
  },
  {
   "cell_type": "code",
   "execution_count": null,
   "metadata": {},
   "outputs": [],
   "source": []
  },
  {
   "cell_type": "code",
   "execution_count": null,
   "metadata": {},
   "outputs": [],
   "source": []
  },
  {
   "cell_type": "code",
   "execution_count": null,
   "metadata": {},
   "outputs": [],
   "source": []
  },
  {
   "cell_type": "code",
   "execution_count": null,
   "metadata": {},
   "outputs": [],
   "source": []
  },
  {
   "cell_type": "code",
   "execution_count": null,
   "metadata": {},
   "outputs": [],
   "source": []
  },
  {
   "cell_type": "code",
   "execution_count": null,
   "metadata": {},
   "outputs": [],
   "source": [
    "def boolhome(df):\n",
    "    df.rename(columns={\"\":\"Home\"}, inplace=True)\n",
    "    df.replace({\"Home\":{\"@\": False, \"\": True}}, inplace=True)\n",
    "    return df"
   ]
  },
  {
   "cell_type": "code",
   "execution_count": null,
   "metadata": {},
   "outputs": [],
   "source": []
  },
  {
   "cell_type": "code",
   "execution_count": null,
   "metadata": {},
   "outputs": [],
   "source": [
    "filtered_dict = {}\n",
    "for _ in all_data:\n",
    "    for k, v in _.items():\n",
    "        if _[k] != None:\n",
    "            filtered_dict[k] = v\n",
    "    filtered_dict"
   ]
  },
  {
   "cell_type": "code",
   "execution_count": null,
   "metadata": {},
   "outputs": [],
   "source": [
    "len(filtered_dict)"
   ]
  },
  {
   "cell_type": "code",
   "execution_count": null,
   "metadata": {},
   "outputs": [],
   "source": [
    "all_data\n",
    "for dic in range(20):\n",
    "    all_data[dic]['Rk'] = (dic+1)\n",
    "df = pd.DataFrame(all_data)\n",
    "dlst = list(range(17,38))\n",
    "df.drop(df.columns[dlst], axis = 1, inplace = True) \n",
    "df "
   ]
  },
  {
   "cell_type": "code",
   "execution_count": null,
   "metadata": {},
   "outputs": [],
   "source": [
    "filtered_dict = {}\n",
    "for k, v in all_data.items():\n",
    "    if all_data[k] != None:\n",
    "        filtered_dict[k] = v\n",
    "filtered_dict"
   ]
  },
  {
   "cell_type": "code",
   "execution_count": null,
   "metadata": {},
   "outputs": [],
   "source": []
  },
  {
   "cell_type": "code",
   "execution_count": null,
   "metadata": {},
   "outputs": [],
   "source": []
  },
  {
   "cell_type": "code",
   "execution_count": null,
   "metadata": {},
   "outputs": [],
   "source": []
  },
  {
   "cell_type": "code",
   "execution_count": 25,
   "metadata": {},
   "outputs": [],
   "source": [
    "scrape_gamelogs2017(NL)"
   ]
  },
  {
   "cell_type": "code",
   "execution_count": null,
   "metadata": {},
   "outputs": [],
   "source": []
  },
  {
   "cell_type": "code",
   "execution_count": null,
   "metadata": {},
   "outputs": [],
   "source": []
  },
  {
   "cell_type": "code",
   "execution_count": null,
   "metadata": {},
   "outputs": [],
   "source": []
  },
  {
   "cell_type": "code",
   "execution_count": null,
   "metadata": {},
   "outputs": [],
   "source": []
  },
  {
   "cell_type": "code",
   "execution_count": null,
   "metadata": {},
   "outputs": [],
   "source": []
  },
  {
   "cell_type": "code",
   "execution_count": null,
   "metadata": {},
   "outputs": [],
   "source": []
  }
 ],
 "metadata": {
  "kernelspec": {
   "display_name": "Python 3",
   "language": "python",
   "name": "python3"
  },
  "language_info": {
   "codemirror_mode": {
    "name": "ipython",
    "version": 3
   },
   "file_extension": ".py",
   "mimetype": "text/x-python",
   "name": "python",
   "nbconvert_exporter": "python",
   "pygments_lexer": "ipython3",
   "version": "3.7.9"
  }
 },
 "nbformat": 4,
 "nbformat_minor": 4
}
